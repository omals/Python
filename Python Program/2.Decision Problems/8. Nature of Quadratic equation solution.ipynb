{
  "nbformat": 4,
  "nbformat_minor": 0,
  "metadata": {
    "colab": {
      "name": "8.Nature of Quadratic equation solution.ipynb",
      "provenance": [],
      "collapsed_sections": []
    },
    "kernelspec": {
      "name": "python3",
      "display_name": "Python 3"
    },
    "language_info": {
      "name": "python"
    }
  },
  "cells": [
    {
      "cell_type": "markdown",
      "source": [
        "**8.Write a program to find the nature of the solutions of a quadratic equation.**"
      ],
      "metadata": {
        "id": "-NrAPUyHtx89"
      }
    },
    {
      "cell_type": "code",
      "execution_count": null,
      "metadata": {
        "colab": {
          "base_uri": "https://localhost:8080/"
        },
        "id": "VSfMH8Dmtvtj",
        "outputId": "c70a0cc4-bca6-4fa9-9567-d329ed362589"
      },
      "outputs": [
        {
          "output_type": "stream",
          "name": "stdout",
          "text": [
            "Enter the value of a:4\n",
            "Enter the value of b:8\n",
            "Enter the value of c:4\n",
            "0\n",
            "Roots are rational and equal.\n"
          ]
        }
      ],
      "source": [
        "a=int(input(\"Enter the value of a:\"))\n",
        "b=int(input(\"Enter the value of b:\"))\n",
        "c=int(input(\"Enter the value of c:\"))\n",
        "d=pow(b,2)-(4*a*c)\n",
        "if d!=0:\n",
        "  if d>0:\n",
        "    print(d,\" is positive.\")\n",
        "    print(\"Roots are real and unequal.\")\n",
        "  else:\n",
        "    print(d,\" is negative.\")\n",
        "    print(\"Roots are imaginary.\")\n",
        "else:\n",
        "  print(d)\n",
        "  print(\"Roots are rational and equal.\")"
      ]
    }
  ]
}