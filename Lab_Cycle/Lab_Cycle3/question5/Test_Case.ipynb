{
  "nbformat": 4,
  "nbformat_minor": 0,
  "metadata": {
    "colab": {
      "name": "Test_Case.ipynb",
      "provenance": [],
      "collapsed_sections": []
    },
    "kernelspec": {
      "name": "python3",
      "display_name": "Python 3"
    },
    "language_info": {
      "name": "python"
    }
  },
  "cells": [
    {
      "cell_type": "markdown",
      "source": [
        "**Test Case**s\n",
        "\n",
        "<style type=\"text/css\">\n",
        ".tg  {border-collapse:collapse;border-spacing:0;}\n",
        ".tg td{border-color:black;border-style:solid;border-width:1px;font-family:Arial, sans-serif;font-size:14px;\n",
        "  overflow:hidden;padding:10px 5px;word-break:normal;}\n",
        ".tg th{border-color:black;border-style:solid;border-width:1px;font-family:Arial, sans-serif;font-size:14px;\n",
        "  font-weight:normal;overflow:hidden;padding:10px 5px;word-break:normal;}\n",
        ".tg .tg-0pky{border-color:inherit;text-align:left;vertical-align:top}\n",
        ".tg .tg-0lax{text-align:left;vertical-align:top}\n",
        "</style>\n",
        "<table class=\"tg\">\n",
        "<thead>\n",
        "  <tr>\n",
        "    <th class=\"tg-0pky\">Test Cases</th>\n",
        "    <th class=\"tg-0pky\">Description</th>\n",
        "    <th class=\"tg-0pky\">Input</th>\n",
        "    <th class=\"tg-0lax\">Expected output</th>\n",
        "    <th class=\"tg-0lax\">Actual Output</th>\n",
        "    <th class=\"tg-0lax\">Result<br></th>\n",
        "  </tr>\n",
        "</thead>\n",
        "<tbody>\n",
        "  <tr>\n",
        "    <td class=\"tg-0pky\">1</td>\n",
        "    <td class=\"tg-0pky\">Check the display of<br>tkinter window</td>\n",
        "    <td class=\"tg-0pky\">import the tkinter module<br>and the display statements</td>\n",
        "    <td class=\"tg-0lax\">Successful display of GUI <br>window</td>\n",
        "    <td class=\"tg-0lax\">Successful display of GUI<br>window</td>\n",
        "    <td class=\"tg-0lax\">Pass</td>\n",
        "  </tr>\n",
        "  <tr>\n",
        "    <td class=\"tg-0pky\">2</td>\n",
        "    <td class=\"tg-0pky\">Display and highlight the keys in the <br>window<br></td>\n",
        "    <td class=\"tg-0pky\">Display code</td>\n",
        "    <td class=\"tg-0lax\">Grey color window <br>with the highlight key color of <br>red</td>\n",
        "    <td class=\"tg-0lax\">Grey color window <br>with the highlight key color of <br>red</td>\n",
        "    <td class=\"tg-0lax\">pass</td>\n",
        "  </tr>\n",
        "  <tr>\n",
        "    <td class=\"tg-0lax\">3</td>\n",
        "    <td class=\"tg-0lax\">Check for proper opening of the file<br>from the compuer<br></td>\n",
        "    <td class=\"tg-0lax\">Selection path<br></td>\n",
        "    <td class=\"tg-0lax\">.dat file is opened and<br>listed in the short window<br></td>\n",
        "    <td class=\"tg-0lax\">.dat file is opened and<br>listed in the short window</td>\n",
        "    <td class=\"tg-0lax\">Pass</td>\n",
        "  </tr>\n",
        "  <tr>\n",
        "    <td class=\"tg-0lax\">4</td>\n",
        "    <td class=\"tg-0lax\">Check for exit from the window</td>\n",
        "    <td class=\"tg-0lax\">mouse click on the close <br>option</td>\n",
        "    <td class=\"tg-0lax\">window closed and program execution <br>stops</td>\n",
        "    <td class=\"tg-0lax\">window closed and program execution<br>stops</td>\n",
        "    <td class=\"tg-0lax\">Pass</td>\n",
        "  </tr>\n",
        "</tbody>\n",
        "</table>"
      ],
      "metadata": {
        "id": "-is4PduMhyfP"
      }
    },
    {
      "cell_type": "code",
      "execution_count": null,
      "metadata": {
        "id": "hnwKASB3hxeJ"
      },
      "outputs": [],
      "source": [
        ""
      ]
    }
  ]
}