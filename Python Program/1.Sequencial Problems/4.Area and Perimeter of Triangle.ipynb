{
  "nbformat": 4,
  "nbformat_minor": 0,
  "metadata": {
    "colab": {
      "name": " 4.Area and Perimeter of Triangle.ipynb",
      "provenance": [],
      "collapsed_sections": []
    },
    "kernelspec": {
      "name": "python3",
      "display_name": "Python 3"
    },
    "language_info": {
      "name": "python"
    }
  },
  "cells": [
    {
      "cell_type": "markdown",
      "source": [
        "**4. Write a program to print the area and perimeter of a tirangle.**"
      ],
      "metadata": {
        "id": "QiEhKf8DICcU"
      }
    },
    {
      "cell_type": "code",
      "execution_count": 1,
      "metadata": {
        "id": "El-_qavEIBm8",
        "colab": {
          "base_uri": "https://localhost:8080/"
        },
        "outputId": "83c4f3da-0132-4e09-f5a4-264c40093a9a"
      },
      "outputs": [
        {
          "output_type": "stream",
          "name": "stdout",
          "text": [
            "Enter the side1: 8\n",
            "Enter the side2: 3\n",
            "Enter the side3: 9\n",
            "Perimeter= 20 Area= 11.832159566199232\n"
          ]
        }
      ],
      "source": [
        "3\n",
        "a=int(input(\"Enter the side1: \"))\n",
        "b=int(input(\"Enter the side2: \"))\n",
        "c=int(input(\"Enter the side3: \"))\n",
        "p=a+b+c\n",
        "s= p//2\n",
        "area=(s*(s-a)*(s-b)*(s-c))**0.5\n",
        "print(\"Perimeter=\",p,\"Area=\",area)"
      ]
    },
    {
      "cell_type": "markdown",
      "source": [
        "**Test Cases**"
      ],
      "metadata": {
        "id": "1CMvRajNIE36"
      }
    },
    {
      "cell_type": "markdown",
      "source": [
        "<style type=\"text/css\">\n",
        ".tg  {border-collapse:collapse;border-spacing:0;}\n",
        ".tg td{border-color:black;border-style:solid;border-width:1px;font-family:Arial, sans-serif;font-size:14px;\n",
        "  overflow:hidden;padding:10px 5px;word-break:normal;}\n",
        ".tg th{border-color:black;border-style:solid;border-width:1px;font-family:Arial, sans-serif;font-size:14px;\n",
        "  font-weight:normal;overflow:hidden;padding:10px 5px;word-break:normal;}\n",
        ".tg .tg-8g55{border-color:#330001;text-align:center;vertical-align:top}\n",
        ".tg .tg-ths0{border-color:#330001;text-align:right;vertical-align:top}\n",
        "</style>\n",
        "<table class=\"tg\">\n",
        "<thead>\n",
        "  <tr>\n",
        "    <th class=\"tg-8g55\">Test case number </th>\n",
        "    <th class=\"tg-8g55\">Description</th>\n",
        "    <th class=\"tg-ths0\">Input</th>\n",
        "    <th class=\"tg-8g55\">Expected output</th>\n",
        "    <th class=\"tg-8g55\">  Actual output&nbsp;&nbsp;&nbsp;</th>\n",
        "    <th class=\"tg-8g55\">Result   </th>\n",
        "  </tr>\n",
        "</thead>\n",
        "<tbody>\n",
        "  <tr>\n",
        "    <td class=\"tg-8g55\">&nbsp;&nbsp;&nbsp;&nbsp;&nbsp;&nbsp;&nbsp;&nbsp;1</td>\n",
        "    <td class=\"tg-8g55\">check the area and <br>&nbsp;&nbsp;perimeter of triangle.</td>\n",
        "    <td class=\"tg-ths0\">  8  3  9 </td>\n",
        "    <td class=\"tg-8g55\">Perimeter=&nbsp;20&nbsp;Area=&nbsp;11.83</td>\n",
        "    <td class=\"tg-8g55\">Perimeter=&nbsp;20&nbsp;Area=&nbsp;11.83</td>\n",
        "    <td class=\"tg-8g55\">pass</td>\n",
        "  </tr>\n",
        "  <tr>\n",
        "    <td class=\"tg-8g55\">&nbsp;&nbsp;&nbsp;&nbsp;&nbsp;&nbsp;&nbsp;&nbsp;2</td>\n",
        "    <td class=\"tg-8g55\">check for wrong input</td>\n",
        "    <td class=\"tg-ths0\"> a  b  c  </td>\n",
        "    <td class=\"tg-8g55\">  error</td>\n",
        "    <td class=\"tg-8g55\"> &nbsp;&nbsp;&nbsp;&nbsp;error</td>\n",
        "    <td class=\"tg-8g55\">pass</td>\n",
        "  </tr>\n",
        "</tbody>\n",
        "</table>"
      ],
      "metadata": {
        "id": "SkO2Fr90IRWL"
      }
    }
  ]
}