{
  "nbformat": 4,
  "nbformat_minor": 0,
  "metadata": {
    "colab": {
      "name": "6.Multiple of number.ipynb",
      "provenance": [],
      "collapsed_sections": []
    },
    "kernelspec": {
      "name": "python3",
      "display_name": "Python 3"
    },
    "language_info": {
      "name": "python"
    }
  },
  "cells": [
    {
      "cell_type": "markdown",
      "source": [
        "**6. Write a program check whether the number is a multiple of another.**"
      ],
      "metadata": {
        "id": "U_pTK6_-njyN"
      }
    },
    {
      "cell_type": "code",
      "execution_count": null,
      "metadata": {
        "colab": {
          "base_uri": "https://localhost:8080/"
        },
        "id": "KdodZuWCni4n",
        "outputId": "5384cc61-d1b9-4c98-d387-ac4f274f86a8"
      },
      "outputs": [
        {
          "output_type": "stream",
          "name": "stdout",
          "text": [
            "Enter the number:2\n",
            "Enter the other number:133\n",
            "133  is not a multiple of  2\n"
          ]
        }
      ],
      "source": [
        "a=int(input(\"Enter the number:\"))\n",
        "b=int(input(\"Enter the other number:\"))\n",
        "if a>b:\n",
        "   m=a%b\n",
        "   if m==0:\n",
        "     print(a,\" is a multiple of \",b)\n",
        "   else:\n",
        "     print(a,\" is not a multiple of \",b)\n",
        "else:\n",
        "   m=b%a\n",
        "   if m==0:\n",
        "     print(b,\" is a multiple of \",a)\n",
        "   else:\n",
        "     print(b,\" is not a multiple of \",a)"
      ]
    }
  ]
}