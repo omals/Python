{
  "nbformat": 4,
  "nbformat_minor": 0,
  "metadata": {
    "colab": {
      "name": "4.Check for Two_digit number.ipynb",
      "provenance": [],
      "collapsed_sections": []
    },
    "kernelspec": {
      "name": "python3",
      "display_name": "Python 3"
    },
    "language_info": {
      "name": "python"
    }
  },
  "cells": [
    {
      "cell_type": "markdown",
      "source": [
        "**4. Write a program to check whether the given number is two digit or not.**"
      ],
      "metadata": {
        "id": "Mqz_Se_VirId"
      }
    },
    {
      "cell_type": "code",
      "execution_count": null,
      "metadata": {
        "colab": {
          "base_uri": "https://localhost:8080/"
        },
        "id": "lkKUqNupipW_",
        "outputId": "3360caf3-2147-4fe2-e172-f16c9e49f4b2"
      },
      "outputs": [
        {
          "output_type": "stream",
          "name": "stdout",
          "text": [
            "Enter the number:12\n",
            "12  is a two digit number.\n"
          ]
        }
      ],
      "source": [
        "a=int(input(\"Enter the number:\"))\n",
        "b=a\n",
        "a=a//100\n",
        "if a==0:\n",
        "  print(b,\" is a two digit number.\")\n",
        "else:\n",
        "  print(b,\" is not a two digit number.\")"
      ]
    },
    {
      "cell_type": "markdown",
      "source": [
        "**Test Cases**"
      ],
      "metadata": {
        "id": "IjFCqqxSknvv"
      }
    },
    {
      "cell_type": "markdown",
      "source": [
        "<style type=\"text/css\">\n",
        ".tg  {border-collapse:collapse;border-spacing:0;}\n",
        ".tg td{border-color:black;border-style:solid;border-width:1px;font-family:Arial, sans-serif;font-size:14px;\n",
        "  overflow:hidden;padding:10px 5px;word-break:normal;}\n",
        ".tg th{border-color:black;border-style:solid;border-width:1px;font-family:Arial, sans-serif;font-size:14px;\n",
        "  font-weight:normal;overflow:hidden;padding:10px 5px;word-break:normal;}\n",
        ".tg .tg-baqh{text-align:center;vertical-align:top}\n",
        ".tg .tg-c3ow{border-color:inherit;text-align:center;vertical-align:top}\n",
        ".tg .tg-0pky{border-color:inherit;text-align:left;vertical-align:top}\n",
        ".tg .tg-76qt{border-color:inherit;font-size:13px;text-align:center;vertical-align:top}\n",
        ".tg .tg-0lax{text-align:left;vertical-align:top}\n",
        ".tg .tg-vask{font-size:13px;text-align:left;vertical-align:top}\n",
        "</style>\n",
        "<table class=\"tg\" style=\"undefined;table-layout: fixed; width: 810px\">\n",
        "<colgroup>\n",
        "<col style=\"width: 127px\">\n",
        "<col style=\"width: 184px\">\n",
        "<col style=\"width: 43px\">\n",
        "<col style=\"width: 206px\">\n",
        "<col style=\"width: 199px\">\n",
        "<col style=\"width: 51px\">\n",
        "</colgroup>\n",
        "<thead>\n",
        "  <tr>\n",
        "    <th class=\"tg-c3ow\">Test Case number</th>\n",
        "    <th class=\"tg-0pky\">Description</th>\n",
        "    <th class=\"tg-c3ow\">Input</th>\n",
        "    <th class=\"tg-c3ow\">Expected Output</th>\n",
        "    <th class=\"tg-c3ow\">Actual Output</th>\n",
        "    <th class=\"tg-c3ow\">Result</th>\n",
        "  </tr>\n",
        "</thead>\n",
        "<tbody>\n",
        "  <tr>\n",
        "    <td class=\"tg-c3ow\">1</td>\n",
        "    <td class=\"tg-0pky\">Check the output for 2 <br>  digit number</td>\n",
        "    <td class=\"tg-c3ow\"> 12</td>\n",
        "    <td class=\"tg-76qt\">12 is a two-digit number</td>\n",
        "    <td class=\"tg-76qt\">12 is a two-digit number</td>\n",
        "    <td class=\"tg-c3ow\">&nbsp;&nbsp;Pass</td>\n",
        "  </tr>\n",
        "  <tr>\n",
        "    <td class=\"tg-baqh\">2</td>\n",
        "    <td class=\"tg-0lax\">Check the output for not 2<br> digit number</td>\n",
        "    <td class=\"tg-0lax\">1000</td>\n",
        "    <td class=\"tg-vask\">1000 is not a two-digit number</td>\n",
        "    <td class=\"tg-vask\">1000 is not a two-digit number</td>\n",
        "    <td class=\"tg-0lax\">  Pass</td>\n",
        "  </tr>\n",
        "  <tr>\n",
        "    <td class=\"tg-c3ow\">3</td>\n",
        "    <td class=\"tg-0pky\">Check for wrong input    </td>\n",
        "    <td class=\"tg-c3ow\">a</td>\n",
        "    <td class=\"tg-c3ow\">&nbsp;&nbsp;&nbsp;error</td>\n",
        "    <td class=\"tg-c3ow\">&nbsp;&nbsp;&nbsp;error</td>\n",
        "    <td class=\"tg-c3ow\">&nbsp;&nbsp;Pass</td>\n",
        "  </tr>\n",
        "</tbody>\n",
        "</table>"
      ],
      "metadata": {
        "id": "eKMarnBOklPP"
      }
    }
  ]
}