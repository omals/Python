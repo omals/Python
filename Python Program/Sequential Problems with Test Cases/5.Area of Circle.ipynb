{
  "nbformat": 4,
  "nbformat_minor": 0,
  "metadata": {
    "colab": {
      "name": " 5.Area of Circle.ipynb",
      "provenance": [],
      "collapsed_sections": []
    },
    "kernelspec": {
      "name": "python3",
      "display_name": "Python 3"
    },
    "language_info": {
      "name": "python"
    }
  },
  "cells": [
    {
      "cell_type": "markdown",
      "source": [
        "**5.**Write a program to print the area of a circle."
      ],
      "metadata": {
        "id": "a1f1vSGvHTUo"
      }
    },
    {
      "cell_type": "code",
      "execution_count": null,
      "metadata": {
        "id": "2Q1wk2grHSaG"
      },
      "outputs": [],
      "source": [
        "r=float(input(\"Enter the radius: \"))\n",
        "a=3.14*r*r\n",
        "print(\"Area:\",a)"
      ]
    },
    {
      "cell_type": "markdown",
      "source": [
        "**Test Cases**"
      ],
      "metadata": {
        "id": "ce3GuMruHWn6"
      }
    },
    {
      "cell_type": "markdown",
      "source": [
        "<style type=\"text/css\">\n",
        ".tg  {border-collapse:collapse;border-spacing:0;}\n",
        ".tg td{border-color:black;border-style:solid;border-width:1px;font-family:Arial, sans-serif;font-size:14px;\n",
        "  overflow:hidden;padding:10px 5px;word-break:normal;}\n",
        ".tg th{border-color:black;border-style:solid;border-width:1px;font-family:Arial, sans-serif;font-size:14px;\n",
        "  font-weight:normal;overflow:hidden;padding:10px 5px;word-break:normal;}\n",
        ".tg .tg-8g55{border-color:#330001;text-align:center;vertical-align:top}\n",
        ".tg .tg-ths0{border-color:#330001;text-align:right;vertical-align:top}\n",
        "</style>\n",
        "<table class=\"tg\">\n",
        "<thead>\n",
        "  <tr>\n",
        "    <th class=\"tg-8g55\">Test case number </th>\n",
        "    <th class=\"tg-8g55\">Description</th>\n",
        "    <th class=\"tg-ths0\">Input</th>\n",
        "    <th class=\"tg-8g55\">Expected output</th>\n",
        "    <th class=\"tg-8g55\">  Actual output&nbsp;&nbsp;&nbsp;</th>\n",
        "    <th class=\"tg-8g55\">Result   </th>\n",
        "  </tr>\n",
        "</thead>\n",
        "<tbody>\n",
        "  <tr>\n",
        "    <td class=\"tg-8g55\">&nbsp;&nbsp;&nbsp;&nbsp;&nbsp;&nbsp;&nbsp;&nbsp;1</td>\n",
        "    <td class=\"tg-8g55\">check the area of <br>circle.</td>\n",
        "    <td class=\"tg-ths0\">  4</td>\n",
        "    <td class=\"tg-8g55\">Area:&nbsp;50.24</td>\n",
        "    <td class=\"tg-8g55\">Area:&nbsp;50.24</td>\n",
        "    <td class=\"tg-8g55\">pass</td>\n",
        "  </tr>\n",
        "  <tr>\n",
        "    <td class=\"tg-8g55\">&nbsp;&nbsp;&nbsp;&nbsp;&nbsp;&nbsp;&nbsp;&nbsp;2</td>\n",
        "    <td class=\"tg-8g55\">check for wrong input</td>\n",
        "    <td class=\"tg-ths0\"> a </td>\n",
        "    <td class=\"tg-8g55\">  error</td>\n",
        "    <td class=\"tg-8g55\"> &nbsp;&nbsp;&nbsp;&nbsp;error</td>\n",
        "    <td class=\"tg-8g55\">pass</td>\n",
        "  </tr>\n",
        "</tbody>\n",
        "</table>"
      ],
      "metadata": {
        "id": "oqBZEOMgHkp3"
      }
    }
  ]
}