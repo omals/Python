{
  "nbformat": 4,
  "nbformat_minor": 0,
  "metadata": {
    "colab": {
      "name": " 3.Second to H:M:S.ipynb",
      "provenance": [],
      "collapsed_sections": []
    },
    "kernelspec": {
      "name": "python3",
      "display_name": "Python 3"
    },
    "language_info": {
      "name": "python"
    }
  },
  "cells": [
    {
      "cell_type": "markdown",
      "source": [
        "**3.** Write a program to convert the time entered in seconds to Hours,Minutes,second."
      ],
      "metadata": {
        "id": "5BKQZggBKPg4"
      }
    },
    {
      "cell_type": "code",
      "execution_count": null,
      "metadata": {
        "colab": {
          "base_uri": "https://localhost:8080/"
        },
        "id": "02VvsfQ0KOhl",
        "outputId": "d247e3b4-e829-49d1-ac4c-4996bcedda65"
      },
      "outputs": [
        {
          "output_type": "stream",
          "name": "stdout",
          "text": [
            "Enter the second to convert: 3661\n",
            "Hour=  1 : Minute=  1 : Second=  1\n"
          ]
        }
      ],
      "source": [
        "time=int(input(\"Enter the second to convert: \"))\n",
        "hour=int(time/3600)\n",
        "min=int((time-(hour*3600))/60)\n",
        "sec=int(time-((hour*3600)+(min*60)))\n",
        "print(\"Hour= \",hour,\": Minute= \",min,\": Second= \",sec)"
      ]
    },
    {
      "cell_type": "markdown",
      "source": [
        "**Test Cases**"
      ],
      "metadata": {
        "id": "pKpBIxEuKRz7"
      }
    },
    {
      "cell_type": "markdown",
      "source": [
        "<style type=\"text/css\">\n",
        ".tg  {border-collapse:collapse;border-spacing:0;}\n",
        ".tg td{border-color:black;border-style:solid;border-width:1px;font-family:Arial, sans-serif;font-size:14px;\n",
        "  overflow:hidden;padding:10px 5px;word-break:normal;}\n",
        ".tg th{border-color:black;border-style:solid;border-width:1px;font-family:Arial, sans-serif;font-size:14px;\n",
        "  font-weight:normal;overflow:hidden;padding:10px 5px;word-break:normal;}\n",
        ".tg .tg-8g55{border-color:#330001;text-align:center;vertical-align:top}\n",
        "</style>\n",
        "<table class=\"tg\">\n",
        "<thead>\n",
        "  <tr>\n",
        "    <th class=\"tg-8g55\">Test case number </th>\n",
        "    <th class=\"tg-8g55\">Description</th>\n",
        "    <th class=\"tg-8g55\">Input</th>\n",
        "    <th class=\"tg-8g55\">Expected output</th>\n",
        "    <th class=\"tg-8g55\">  Actual output&nbsp;&nbsp;&nbsp;</th>\n",
        "    <th class=\"tg-8g55\">Result   </th>\n",
        "  </tr>\n",
        "</thead>\n",
        "<tbody>\n",
        "  <tr>\n",
        "    <td class=\"tg-8g55\">&nbsp;&nbsp;&nbsp;&nbsp;&nbsp;&nbsp;&nbsp;&nbsp;1</td>\n",
        "    <td class=\"tg-8g55\">check the output time in<br>hours, minutes and<br>seconds</td>\n",
        "    <td class=\"tg-8g55\">3661      </td>\n",
        "    <td class=\"tg-8g55\">Hour=&nbsp;1&nbsp;Minutes=&nbsp;1&nbsp;Seconds=1   </td>\n",
        "    <td class=\"tg-8g55\">Hour=&nbsp;1&nbsp;Minutes=&nbsp;1&nbsp;Seconds=1 </td>\n",
        "    <td class=\"tg-8g55\">pass</td>\n",
        "  </tr>\n",
        "  <tr>\n",
        "    <td class=\"tg-8g55\">&nbsp;&nbsp;&nbsp;&nbsp;&nbsp;&nbsp;&nbsp;&nbsp;2</td>\n",
        "    <td class=\"tg-8g55\">check for wrong input</td>\n",
        "    <td class=\"tg-8g55\">abc&nbsp;&nbsp;</td>\n",
        "    <td class=\"tg-baqh\">&nbsp;&nbsp;&nbsp;&nbsp;&nbsp;error</td>\n",
        "    <td class=\"tg-8g55\">&nbsp;&nbsp;&nbsp;&nbsp;&nbsp;error</td>\n",
        "    <td class=\"tg-8g55\">pass</td>\n",
        "  </tr>\n",
        "</tbody>\n",
        "</table>"
      ],
      "metadata": {
        "id": "8U0XqVwkKVKM"
      }
    }
  ]
}