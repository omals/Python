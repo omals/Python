{
  "nbformat": 4,
  "nbformat_minor": 0,
  "metadata": {
    "colab": {
      "name": " 2.Sum and Average .ipynb",
      "provenance": [],
      "collapsed_sections": []
    },
    "kernelspec": {
      "name": "python3",
      "display_name": "Python 3"
    },
    "language_info": {
      "name": "python"
    }
  },
  "cells": [
    {
      "cell_type": "markdown",
      "source": [
        "**2.**Write a program to print the sum and average of three numbers."
      ],
      "metadata": {
        "id": "IZBz_nYwLrlG"
      }
    },
    {
      "cell_type": "code",
      "execution_count": null,
      "metadata": {
        "id": "Ixsxth7FLqxX"
      },
      "outputs": [],
      "source": [
        "num1=int(input(\"Enter the number1: \"))\n",
        "num2=int(input(\"Enter the number2: \"))\n",
        "num3=int(input(\"Enter the number3: \"))\n",
        "sum=num1+num2+num3\n",
        "average=sum//3\n",
        "print(\"Sum=\",sum)\n",
        "print(\"Average=\",average)"
      ]
    },
    {
      "cell_type": "markdown",
      "source": [
        "**Test Cases**"
      ],
      "metadata": {
        "id": "odquhKg-LtuE"
      }
    },
    {
      "cell_type": "markdown",
      "source": [
        "<style type=\"text/css\">\n",
        ".tg  {border-collapse:collapse;border-spacing:0;}\n",
        ".tg td{border-color:black;border-style:solid;border-width:1px;font-family:Arial, sans-serif;font-size:14px;\n",
        "  overflow:hidden;padding:10px 5px;word-break:normal;}\n",
        ".tg th{border-color:black;border-style:solid;border-width:1px;font-family:Arial, sans-serif;font-size:14px;\n",
        "  font-weight:normal;overflow:hidden;padding:10px 5px;word-break:normal;}\n",
        ".tg .tg-8g55{border-color:#330001;text-align:center;vertical-align:top}\n",
        ".tg .tg-ths0{border-color:#330001;text-align:right;vertical-align:top}\n",
        "</style>\n",
        "<table class=\"tg\">\n",
        "<thead>\n",
        "  <tr>\n",
        "    <th class=\"tg-8g55\">Test case number </th>\n",
        "    <th class=\"tg-8g55\">Description</th>\n",
        "    <th class=\"tg-8g55\">Input</th>\n",
        "    <th class=\"tg-8g55\">Expected output</th>\n",
        "    <th class=\"tg-8g55\">  Actual output&nbsp;&nbsp;&nbsp;</th>\n",
        "    <th class=\"tg-ths0\">Result   </th>\n",
        "  </tr>\n",
        "</thead>\n",
        "<tbody>\n",
        "  <tr>\n",
        "    <td class=\"tg-8g55\">&nbsp;&nbsp;&nbsp;&nbsp;&nbsp;&nbsp;&nbsp;&nbsp;1</td>\n",
        "    <td class=\"tg-8g55\">check the sum and average<br>&nbsp;&nbsp;&nbsp;&nbsp;&nbsp;&nbsp;&nbsp;&nbsp;correct or not</td>\n",
        "    <td class=\"tg-8g55\">   5 5&nbsp;&nbsp;4    </td>\n",
        "    <td class=\"tg-8g55\">&nbsp;&nbsp;Sum=&nbsp;14<br>&nbsp;Average=&nbsp;4</td>\n",
        "    <td class=\"tg-8g55\">&nbsp;Sum=&nbsp;14<br>&nbsp;Average=&nbsp;4</td>\n",
        "    <td class=\"tg-ths0\">pass</td>\n",
        "  </tr>\n",
        "  <tr>\n",
        "    <td class=\"tg-8g55\">&nbsp;&nbsp;&nbsp;&nbsp;&nbsp;&nbsp;&nbsp;&nbsp;2</td>\n",
        "    <td class=\"tg-8g55\">check for wrong input</td>\n",
        "    <td class=\"tg-8g55\">a b c&nbsp;&nbsp;</td>\n",
        "    <td class=\"tg-8g55\">  &nbsp;&nbsp;&nbsp;&nbsp;&nbsp;&nbsp;&nbsp;&nbsp;&nbsp;&nbsp;&nbsp;&nbsp;error</td>\n",
        "    <td class=\"tg-8g55\">    &nbsp;&nbsp;&nbsp;&nbsp;&nbsp;&nbsp;&nbsp;&nbsp;&nbsp;error</td>\n",
        "    <td class=\"tg-ths0\">pass</td>\n",
        "  </tr>\n",
        "</tbody>\n",
        "</table>"
      ],
      "metadata": {
        "id": "Ch8RDCWwL05f"
      }
    }
  ]
}