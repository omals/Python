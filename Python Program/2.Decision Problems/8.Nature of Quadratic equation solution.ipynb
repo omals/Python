{
  "nbformat": 4,
  "nbformat_minor": 0,
  "metadata": {
    "colab": {
      "name": "8.Nature of Quadratic equation solution.ipynb",
      "provenance": [],
      "collapsed_sections": []
    },
    "kernelspec": {
      "name": "python3",
      "display_name": "Python 3"
    },
    "language_info": {
      "name": "python"
    }
  },
  "cells": [
    {
      "cell_type": "markdown",
      "source": [
        "**8.Write a program to find the nature of the solutions of a quadratic equation.**"
      ],
      "metadata": {
        "id": "-NrAPUyHtx89"
      }
    },
    {
      "cell_type": "code",
      "execution_count": null,
      "metadata": {
        "colab": {
          "base_uri": "https://localhost:8080/"
        },
        "id": "VSfMH8Dmtvtj",
        "outputId": "c70a0cc4-bca6-4fa9-9567-d329ed362589"
      },
      "outputs": [
        {
          "output_type": "stream",
          "name": "stdout",
          "text": [
            "Enter the value of a:4\n",
            "Enter the value of b:8\n",
            "Enter the value of c:4\n",
            "0\n",
            "Roots are rational and equal.\n"
          ]
        }
      ],
      "source": [
        "a=int(input(\"Enter the value of a:\"))\n",
        "b=int(input(\"Enter the value of b:\"))\n",
        "c=int(input(\"Enter the value of c:\"))\n",
        "d=pow(b,2)-(4*a*c)\n",
        "if d!=0:\n",
        "  if d>0:\n",
        "    print(d,\" is positive.\")\n",
        "    print(\"Roots are real and unequal.\")\n",
        "  else:\n",
        "    print(d,\" is negative.\")\n",
        "    print(\"Roots are imaginary.\")\n",
        "else:\n",
        "  print(d)\n",
        "  print(\"Roots are rational and equal.\")"
      ]
    },
    {
      "cell_type": "markdown",
      "source": [
        "**Test Cases**"
      ],
      "metadata": {
        "id": "ASmu7W1CzEDP"
      }
    },
    {
      "cell_type": "markdown",
      "source": [
        "<style type=\"text/css\">\n",
        ".tg  {border-collapse:collapse;border-spacing:0;}\n",
        ".tg td{border-color:black;border-style:solid;border-width:1px;font-family:Arial, sans-serif;font-size:14px;\n",
        "  overflow:hidden;padding:10px 5px;word-break:normal;}\n",
        ".tg th{border-color:black;border-style:solid;border-width:1px;font-family:Arial, sans-serif;font-size:14px;\n",
        "  font-weight:normal;overflow:hidden;padding:10px 5px;word-break:normal;}\n",
        ".tg .tg-baqh{text-align:center;vertical-align:top}\n",
        ".tg .tg-c3ow{border-color:inherit;text-align:center;vertical-align:top}\n",
        ".tg .tg-0pky{border-color:inherit;text-align:left;vertical-align:top}\n",
        ".tg .tg-76qt{border-color:inherit;font-size:13px;text-align:center;vertical-align:top}\n",
        ".tg .tg-0lax{text-align:left;vertical-align:top}\n",
        ".tg .tg-z1yq{font-size:13px;text-align:center;vertical-align:top}\n",
        ".tg .tg-vask{font-size:13px;text-align:left;vertical-align:top}\n",
        "</style>\n",
        "<table class=\"tg\" style=\"undefined;table-layout: fixed; width: 850px\">\n",
        "<colgroup>\n",
        "<col style=\"width: 134px\">\n",
        "<col style=\"width: 193px\">\n",
        "<col style=\"width: 45px\">\n",
        "<col style=\"width: 216px\">\n",
        "<col style=\"width: 208px\">\n",
        "<col style=\"width: 54px\">\n",
        "</colgroup>\n",
        "<thead>\n",
        "  <tr>\n",
        "    <th class=\"tg-c3ow\">Test Case number</th>\n",
        "    <th class=\"tg-0pky\">Description</th>\n",
        "    <th class=\"tg-c3ow\">Input</th>\n",
        "    <th class=\"tg-c3ow\">Expected Output</th>\n",
        "    <th class=\"tg-c3ow\">Actual Output</th>\n",
        "    <th class=\"tg-c3ow\">Result</th>\n",
        "  </tr>\n",
        "</thead>\n",
        "<tbody>\n",
        "  <tr>\n",
        "    <td class=\"tg-c3ow\">1</td>\n",
        "    <td class=\"tg-0pky\">Check the output<br></td>\n",
        "    <td class=\"tg-c3ow\">  2<br>  -7<br>  3</td>\n",
        "    <td class=\"tg-76qt\">25 is positive.<br>Roots are real and unequal.</td>\n",
        "    <td class=\"tg-76qt\">25 is positive.<br>Roots are real and unequal</td>\n",
        "    <td class=\"tg-c3ow\">&nbsp;&nbsp;Pass</td>\n",
        "  </tr>\n",
        "  <tr>\n",
        "    <td class=\"tg-baqh\">2</td>\n",
        "    <td class=\"tg-0lax\">Check the output</td>\n",
        "    <td class=\"tg-0lax\">   4<br>   8<br>   4</td>\n",
        "    <td class=\"tg-z1yq\">0<br>Roots are rational and equal.</td>\n",
        "    <td class=\"tg-vask\">Roots are real and unequal.</td>\n",
        "    <td class=\"tg-baqh\">&nbsp;&nbsp;Pass</td>\n",
        "  </tr>\n",
        "  <tr>\n",
        "    <td class=\"tg-baqh\">3</td>\n",
        "    <td class=\"tg-0lax\">Check the output</td>\n",
        "    <td class=\"tg-0lax\">  4<br>  4<br>  3</td>\n",
        "    <td class=\"tg-z1yq\">-32 is negative.<br>Roots are imaginary.</td>\n",
        "    <td class=\"tg-z1yq\">-32 is negative.<br>Roots are imaginary.</td>\n",
        "    <td class=\"tg-baqh\">&nbsp;&nbsp;Pass</td>\n",
        "  </tr>\n",
        "  <tr>\n",
        "    <td class=\"tg-c3ow\">4</td>\n",
        "    <td class=\"tg-0pky\">Check for wrong input    </td>\n",
        "    <td class=\"tg-c3ow\">a<br>b<br>c</td>\n",
        "    <td class=\"tg-c3ow\">&nbsp;&nbsp;&nbsp;error</td>\n",
        "    <td class=\"tg-c3ow\">&nbsp;&nbsp;&nbsp;error</td>\n",
        "    <td class=\"tg-c3ow\">&nbsp;&nbsp;Pass</td>\n",
        "  </tr>\n",
        "</tbody>\n",
        "</table>"
      ],
      "metadata": {
        "id": "prPcV7GvzGuq"
      }
    }
  ]
}