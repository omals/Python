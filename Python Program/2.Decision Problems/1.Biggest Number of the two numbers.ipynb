{
  "nbformat": 4,
  "nbformat_minor": 0,
  "metadata": {
    "colab": {
      "name": "1.Biggest Number.ipynb",
      "provenance": [],
      "collapsed_sections": []
    },
    "kernelspec": {
      "name": "python3",
      "display_name": "Python 3"
    },
    "language_info": {
      "name": "python"
    }
  },
  "cells": [
    {
      "cell_type": "markdown",
      "source": [
        "**1. Write a program to find the biggest of the two numbers.**"
      ],
      "metadata": {
        "id": "Em-m-Cc1R_QX"
      }
    },
    {
      "cell_type": "code",
      "execution_count": null,
      "metadata": {
        "colab": {
          "base_uri": "https://localhost:8080/"
        },
        "id": "vhMXuWZJR51G",
        "outputId": "7f4b7594-2004-4818-99d4-2e633bd69850"
      },
      "outputs": [
        {
          "output_type": "stream",
          "name": "stdout",
          "text": [
            "Enter the first number:-1\n",
            "Enter the second number:-2\n",
            "Biggest number is : -1.0\n"
          ]
        }
      ],
      "source": [
        "a=float(input(\"Enter the first number:\"))\n",
        "b=float(input(\"Enter the second number:\"))\n",
        "if a!=b:\n",
        "  if a>b:\n",
        "    print(\"Biggest number is :\",a)\n",
        "  else :\n",
        "    print(\"Biggest number is : \",b)\n",
        "else:\n",
        "   print(\"Both the numbers are same\",a,\".\")"
      ]
    },
    {
      "cell_type": "markdown",
      "source": [
        "**Test Cases**"
      ],
      "metadata": {
        "id": "QlfeYsWEVisy"
      }
    },
    {
      "cell_type": "markdown",
      "source": [
        "<style type=\"text/css\">\n",
        ".tg  {border-collapse:collapse;border-spacing:0;}\n",
        ".tg td{border-color:black;border-style:solid;border-width:1px;font-family:Arial, sans-serif;font-size:14px;\n",
        "  overflow:hidden;padding:10px 5px;word-break:normal;}\n",
        ".tg th{border-color:black;border-style:solid;border-width:1px;font-family:Arial, sans-serif;font-size:14px;\n",
        "  font-weight:normal;overflow:hidden;padding:10px 5px;word-break:normal;}\n",
        ".tg .tg-baqh{text-align:center;vertical-align:top}\n",
        ".tg .tg-c3ow{border-color:inherit;text-align:center;vertical-align:top}\n",
        ".tg .tg-0pky{border-color:inherit;text-align:left;vertical-align:top}\n",
        ".tg .tg-f4iu{border-color:inherit;font-size:12px;text-align:center;vertical-align:top}\n",
        ".tg .tg-0lax{text-align:left;vertical-align:top}\n",
        "</style>\n",
        "<table class=\"tg\" style=\"undefined;table-layout: fixed; width: 827px\">\n",
        "<colgroup>\n",
        "<col style=\"width: 130px\">\n",
        "<col style=\"width: 187px\">\n",
        "<col style=\"width: 44px\">\n",
        "<col style=\"width: 210px\">\n",
        "<col style=\"width: 203px\">\n",
        "<col style=\"width: 53px\">\n",
        "</colgroup>\n",
        "<thead>\n",
        "  <tr>\n",
        "    <th class=\"tg-c3ow\">Test Case number</th>\n",
        "    <th class=\"tg-0pky\">Description</th>\n",
        "    <th class=\"tg-c3ow\">Input</th>\n",
        "    <th class=\"tg-c3ow\">Expected Output</th>\n",
        "    <th class=\"tg-c3ow\">Actual Output</th>\n",
        "    <th class=\"tg-c3ow\">Result</th>\n",
        "  </tr>\n",
        "</thead>\n",
        "<tbody>\n",
        "  <tr>\n",
        "    <td class=\"tg-c3ow\">1</td>\n",
        "    <td class=\"tg-0pky\">Check the biggest of the          two numbers<br></td>\n",
        "    <td class=\"tg-c3ow\">&nbsp;45<br>&nbsp;34</td>\n",
        "    <td class=\"tg-f4iu\">&nbsp;&nbsp;&nbsp;&nbsp;&nbsp;&nbsp;45.0</td>\n",
        "    <td class=\"tg-f4iu\">&nbsp;&nbsp;&nbsp;&nbsp;&nbsp;&nbsp;45.0</td>\n",
        "    <td class=\"tg-c3ow\">&nbsp;&nbsp;Pass</td>\n",
        "  </tr>\n",
        "  <tr>\n",
        "    <td class=\"tg-baqh\">2</td>\n",
        "    <td class=\"tg-0lax\">Check the biggest of the <br>    two same numbers</td>\n",
        "    <td class=\"tg-baqh\">&nbsp;60<br>&nbsp;60</td>\n",
        "    <td class=\"tg-baqh\">Both the numbers are same 60.</td>\n",
        "    <td class=\"tg-baqh\">Both the numbers are same 60.</td>\n",
        "    <td class=\"tg-baqh\">&nbsp;&nbsp;pass</td>\n",
        "  </tr>\n",
        "  <tr>\n",
        "    <td class=\"tg-baqh\">3</td>\n",
        "    <td class=\"tg-0lax\">Check the biggest number</td>\n",
        "    <td class=\"tg-0lax\">&nbsp;0<br>&nbsp;-1</td>\n",
        "    <td class=\"tg-baqh\">&nbsp;&nbsp;&nbsp;&nbsp;&nbsp;&nbsp;   0.0</td>\n",
        "    <td class=\"tg-baqh\">&nbsp;&nbsp;&nbsp;&nbsp;&nbsp;&nbsp;   0.0</td>\n",
        "    <td class=\"tg-baqh\">&nbsp;&nbsp;pass</td>\n",
        "  </tr>\n",
        "  <tr>\n",
        "    <td class=\"tg-baqh\">4</td>\n",
        "    <td class=\"tg-0lax\">Check the biggest negative number</td>\n",
        "    <td class=\"tg-0lax\">&nbsp;-1<br>&nbsp;-2</td>\n",
        "    <td class=\"tg-baqh\">&nbsp;&nbsp;&nbsp;&nbsp;&nbsp;&nbsp;   -1.0</td>\n",
        "    <td class=\"tg-baqh\">&nbsp;&nbsp;&nbsp;&nbsp;&nbsp;&nbsp;   -1.0</td>\n",
        "    <td class=\"tg-baqh\">&nbsp;&nbsp;pass</td>\n",
        "  </tr>\n",
        "  <tr>\n",
        "    <td class=\"tg-c3ow\">5</td>\n",
        "    <td class=\"tg-0pky\">Check for wrong input    </td>\n",
        "    <td class=\"tg-c3ow\">&nbsp;a<br>&nbsp;b</td>\n",
        "    <td class=\"tg-c3ow\">&nbsp;&nbsp;&nbsp;&nbsp;&nbsp; error</td>\n",
        "    <td class=\"tg-c3ow\">&nbsp;&nbsp;&nbsp;&nbsp;&nbsp; error</td>\n",
        "    <td class=\"tg-c3ow\">&nbsp;&nbsp;Pass</td>\n",
        "  </tr>\n",
        "  \n",
        "</tbody>\n",
        "</table>"
      ],
      "metadata": {
        "id": "CIE9QokrVmLk"
      }
    }
  ]
}