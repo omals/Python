{
  "nbformat": 4,
  "nbformat_minor": 0,
  "metadata": {
    "colab": {
      "name": "Test_Case.ipynb",
      "provenance": [],
      "collapsed_sections": []
    },
    "kernelspec": {
      "name": "python3",
      "display_name": "Python 3"
    },
    "language_info": {
      "name": "python"
    }
  },
  "cells": [
    {
      "cell_type": "markdown",
      "source": [
        "<style type=\"text/css\">\n",
        ".tg  {border-collapse:collapse;border-spacing:0;}\n",
        ".tg td{border-style:solid;border-width:0px;font-family:Arial, sans-serif;font-size:14px;overflow:hidden;\n",
        "  padding:10px 5px;word-break:normal;}\n",
        ".tg th{border-style:solid;border-width:0px;font-family:Arial, sans-serif;font-size:14px;font-weight:normal;\n",
        "  overflow:hidden;padding:10px 5px;word-break:normal;}\n",
        ".tg .tg-amwm{font-weight:bold;text-align:center;vertical-align:top}\n",
        ".tg .tg-0lax{text-align:left;vertical-align:top}\n",
        "</style>\n",
        "<table class=\"tg\" style=\"undefined;table-layout: fixed; width: 905px\">\n",
        "<colgroup>\n",
        "<col style=\"width: 110px\">\n",
        "<col style=\"width: 222px\">\n",
        "<col style=\"width: 97px\">\n",
        "<col style=\"width: 224px\">\n",
        "<col style=\"width: 203px\">\n",
        "<col style=\"width: 49px\">\n",
        "</colgroup>\n",
        "<thead>\n",
        "  <tr>\n",
        "    <th class=\"tg-amwm\">Test Cases No.</th>\n",
        "    <th class=\"tg-amwm\">Descripton</th>\n",
        "    <th class=\"tg-amwm\">Input</th>\n",
        "    <th class=\"tg-amwm\">Expected output</th>\n",
        "    <th class=\"tg-amwm\">Actual output</th>\n",
        "    <th class=\"tg-amwm\">result</th>\n",
        "  </tr>\n",
        "</thead>\n",
        "<tbody>\n",
        "  <tr>\n",
        "    <td class=\"tg-0lax\">1</td>\n",
        "    <td class=\"tg-0lax\">check whether is located and <br>acccepted<br></td>\n",
        "    <td class=\"tg-0lax\">iris.json</td>\n",
        "    <td class=\"tg-0lax\">accepted</td>\n",
        "    <td class=\"tg-0lax\">accepted</td>\n",
        "    <td class=\"tg-0lax\">pass</td>\n",
        "  </tr>\n",
        "  <tr>\n",
        "    <td class=\"tg-0lax\">2</td>\n",
        "    <td class=\"tg-0lax\">check the output of '.json'<br>file as string<br></td>\n",
        "    <td class=\"tg-0lax\">iris.json</td>\n",
        "    <td class=\"tg-0lax\">list of string</td>\n",
        "    <td class=\"tg-0lax\">list of string</td>\n",
        "    <td class=\"tg-0lax\">pass</td>\n",
        "  </tr>\n",
        "  <tr>\n",
        "    <td class=\"tg-0lax\">3</td>\n",
        "    <td class=\"tg-0lax\">check the output of '.json'<br>file as dictionary<br></td>\n",
        "    <td class=\"tg-0lax\">iris.json</td>\n",
        "    <td class=\"tg-0lax\">list of dictionary</td>\n",
        "    <td class=\"tg-0lax\">list of dictionary</td>\n",
        "    <td class=\"tg-0lax\">pass</td>\n",
        "  </tr>\n",
        "  <tr>\n",
        "    <td class=\"tg-0lax\">4</td>\n",
        "    <td class=\"tg-0lax\">check output for setosa species</td>\n",
        "    <td class=\"tg-0lax\">iris.json</td>\n",
        "    <td class=\"tg-0lax\">list of dictionary <br>with the key value setosa<br></td>\n",
        "    <td class=\"tg-0lax\">list of dictionary <br>with the key value setosa</td>\n",
        "    <td class=\"tg-0lax\">pass</td>\n",
        "  </tr>\n",
        "  <tr>\n",
        "    <td class=\"tg-0lax\">5</td>\n",
        "    <td class=\"tg-0lax\">check output for Minimum sepal<br>area and Maximum Petal area of<br>all species<br></td>\n",
        "    <td class=\"tg-0lax\">iris.json</td>\n",
        "    <td class=\"tg-0lax\">Versicolor<br>Maximum Sepal Area  is  22.4<br>Minimum Petal Area  is  3.3<br><br>Virginica<br>Maximum Sepal Area  is  30.02<br>Minimum Petal Area  is  7.5<br><br>Setosa<br>Maximum Sepal Area is  25.08<br>Minimum Petal Area  is  0.11</td>\n",
        "    <td class=\"tg-0lax\">Versicolor<br>Maximum Sepal Area  is  22.4<br>Minimum Petal Area  is  3.3<br><br>Virginica<br>Maximum Sepal Area  is  30.02<br>Minimum Petal Area  is  7.5<br><br>Setosa<br>Maximum Sepal Area is  25.08<br>Minimum Petal Area  is  0.11</td>\n",
        "    <td class=\"tg-0lax\">pass</td>\n",
        "  </tr>\n",
        "  <tr>\n",
        "    <td class=\"tg-0lax\">6</td>\n",
        "    <td class=\"tg-0lax\">check the output for sorted<br> dictionary<br></td>\n",
        "    <td class=\"tg-0lax\">iris.json</td>\n",
        "    <td class=\"tg-0lax\">sorted list of dictionary based<br>on total area<br></td>\n",
        "    <td class=\"tg-0lax\">sorted list of dictionary based<br>on total area</td>\n",
        "    <td class=\"tg-0lax\">pass</td>\n",
        "  </tr>\n",
        "</tbody>\n",
        "</table>"
      ],
      "metadata": {
        "id": "pXED9-NLFoMz"
      }
    },
    {
      "cell_type": "code",
      "execution_count": null,
      "metadata": {
        "id": "2BGIJA7_FnnR"
      },
      "outputs": [],
      "source": [
        ""
      ]
    }
  ]
}
