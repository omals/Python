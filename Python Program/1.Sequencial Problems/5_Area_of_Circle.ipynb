{
  "nbformat": 4,
  "nbformat_minor": 0,
  "metadata": {
    "colab": {
      "name": " 5.Area of Circle.ipynb",
      "provenance": [],
      "collapsed_sections": []
    },
    "kernelspec": {
      "name": "python3",
      "display_name": "Python 3"
    },
    "language_info": {
      "name": "python"
    }
  },
  "cells": [
    {
      "cell_type": "markdown",
      "source": [
        "**5. Write a program to print the area of a circle.**"
      ],
      "metadata": {
        "id": "a1f1vSGvHTUo"
      }
    },
    {
      "cell_type": "code",
      "execution_count": null,
      "metadata": {
        "id": "2Q1wk2grHSaG",
        "colab": {
          "base_uri": "https://localhost:8080/"
        },
        "outputId": "bd2921f3-f44f-4b87-c460-2ab957dafe92"
      },
      "outputs": [
        {
          "output_type": "stream",
          "name": "stdout",
          "text": [
            "Enter the radius: 4\n",
            "Area: 50.24\n"
          ]
        }
      ],
      "source": [
        "r=float(input(\"Enter the radius: \"))\n",
        "a=3.14*r*r\n",
        "print(\"Area:\",a)"
      ]
    }
  ]
}