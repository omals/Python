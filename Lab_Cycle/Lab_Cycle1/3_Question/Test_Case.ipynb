{
  "nbformat": 4,
  "nbformat_minor": 0,
  "metadata": {
    "colab": {
      "name": "Test_Case.ipynb",
      "provenance": [],
      "collapsed_sections": []
    },
    "kernelspec": {
      "name": "python3",
      "display_name": "Python 3"
    },
    "language_info": {
      "name": "python"
    }
  },
  "cells": [
    {
      "cell_type": "markdown",
      "source": [
        "**Test Cases**\n",
        "\n",
        "<style type=\"text/css\">\n",
        ".tg  {border-collapse:collapse;border-spacing:0;}\n",
        ".tg td{border-color:black;border-style:solid;border-width:1px;font-family:Arial, sans-serif;font-size:14px;\n",
        "  overflow:hidden;padding:10px 5px;word-break:normal;}\n",
        ".tg th{border-color:black;border-style:solid;border-width:1px;font-family:Arial, sans-serif;font-size:14px;\n",
        "  font-weight:normal;overflow:hidden;padding:10px 5px;word-break:normal;}\n",
        ".tg .tg-c3ow{border-color:inherit;text-align:center;vertical-align:top}\n",
        ".tg .tg-7btt{border-color:inherit;font-weight:bold;text-align:center;vertical-align:top}\n",
        "</style>\n",
        "<table class=\"tg\">\n",
        "<thead>\n",
        "  <tr>\n",
        "    <th class=\"tg-7btt\">Test Cases No.</th>\n",
        "    <th class=\"tg-7btt\">Descripton</th>\n",
        "    <th class=\"tg-7btt\">Input</th>\n",
        "    <th class=\"tg-7btt\">Expected output</th>\n",
        "    <th class=\"tg-7btt\">Actual output</th>\n",
        "    <th class=\"tg-7btt\">result</th>\n",
        "  </tr>\n",
        "</thead>\n",
        "<tbody>\n",
        "  <tr>\n",
        "    <td class=\"tg-c3ow\">1</td>\n",
        "    <td class=\"tg-c3ow\">Input basic pay<br>and identity details<br></td>\n",
        "    <td class=\"tg-c3ow\">10000</td>\n",
        "    <td class=\"tg-c3ow\">Gross salary&nbsp;&nbsp;&nbsp;= 121512.5<br>Deduction =     68<br>Net Salary&nbsp;&nbsp;&nbsp;&nbsp;=12444.5<br></td>\n",
        "    <td class=\"tg-c3ow\">Gross salary&nbsp;&nbsp;&nbsp;= 121512.5<br>Deduction =     68<br>Net Salary&nbsp;&nbsp;&nbsp;&nbsp;=12444.5</td>\n",
        "    <td class=\"tg-c3ow\">Pass<br></td>\n",
        "  </tr>\n",
        "  <tr>\n",
        "    <td class=\"tg-c3ow\">2</td>\n",
        "    <td class=\"tg-c3ow\">Wrong input</td>\n",
        "    <td class=\"tg-c3ow\">eret<br></td>\n",
        "    <td class=\"tg-c3ow\">Error<br></td>\n",
        "    <td class=\"tg-c3ow\">Error</td>\n",
        "    <td class=\"tg-c3ow\">Pass<br></td>\n",
        "  </tr>\n",
        "</tbody>\n",
        "</table>"
      ],
      "metadata": {
        "id": "allD3viWnSXd"
      }
    }
  ]
}