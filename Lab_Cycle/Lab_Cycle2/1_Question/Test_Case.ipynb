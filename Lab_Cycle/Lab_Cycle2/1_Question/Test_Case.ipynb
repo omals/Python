{
  "nbformat": 4,
  "nbformat_minor": 0,
  "metadata": {
    "colab": {
      "name": "Test_Case",
      "provenance": [],
      "collapsed_sections": []
    },
    "kernelspec": {
      "name": "python3",
      "display_name": "Python 3"
    },
    "language_info": {
      "name": "python"
    }
  },
  "cells": [
    {
      "cell_type": "markdown",
      "source": [
        "<style type=\"text/css\">\n",
        ".tg  {border-collapse:collapse;border-spacing:0;}\n",
        ".tg td{border-color:black;border-style:solid;border-width:1px;font-family:Arial, sans-serif;font-size:14px;\n",
        "  overflow:hidden;padding:10px 5px;word-break:normal;}\n",
        ".tg th{border-color:black;border-style:solid;border-width:1px;font-family:Arial, sans-serif;font-size:14px;\n",
        "  font-weight:normal;overflow:hidden;padding:10px 5px;word-break:normal;}\n",
        ".tg .tg-baqh{text-align:center;vertical-align:top}\n",
        "</style>\n",
        "<table class=\"tg\">\n",
        "<thead>\n",
        "  <tr>\n",
        "    <th class=\"tg-mqa1\">Test Cases</th>\n",
        "    <th class=\"tg-mqa1\">Description</th>\n",
        "    <th class=\"tg-mqa1\">input</th>\n",
        "    <th class=\"tg-mqa1\">Expected output</th>\n",
        "    <th class=\"tg-mqa1\">Actual output</th>\n",
        "    <th class=\"tg-mqa1\">Result</th>\n",
        "  </tr>\n",
        "</thead>\n",
        "<tbody>\n",
        "  <tr>\n",
        "    <td class=\"tg-baqh\">1</td>\n",
        "    <td class=\"tg-sh4c\">check the output</td>\n",
        "    <td class=\"tg-baqh\">20</td>\n",
        "    <td class=\"tg-sh4c\">list of pairs for 20<br>months<br></td>\n",
        "    <td class=\"tg-baqh\">list of pairs for 20<br>months<br></td>\n",
        "    <td class=\"tg-sh4c\">pass</td>\n",
        "  </tr>\n",
        "  <tr>\n",
        "    <td class=\"tg-baqh\">2</td>\n",
        "    <td class=\"tg-sh4c\">check the formatted table</td>\n",
        "    <td class=\"tg-baqh\">15</td>\n",
        "    <td class=\"tg-sh4c\">Table lines<br></td>\n",
        "    <td class=\"tg-baqh\">Table lines</td>\n",
        "    <td class=\"tg-sh4c\">pass</td>\n",
        "  </tr>\n",
        "  <tr>\n",
        "    <td class=\"tg-baqh\">3</td>\n",
        "    <td class=\"tg-sh4c\">check for wrong input</td>\n",
        "    <td class=\"tg-baqh\">-1</td>\n",
        "    <td class=\"tg-sh4c\">error</td>\n",
        "    <td class=\"tg-baqh\">error</td>\n",
        "    <td class=\"tg-sh4c\">pass</td>\n",
        "  </tr>\n",
        "  <tr>\n",
        "    <td class=\"tg-baqh\">4</td>\n",
        "    <td class=\"tg-sh4c\">check for wrong input</td>\n",
        "    <td class=\"tg-baqh\">a</td>\n",
        "    <td class=\"tg-sh4c\">error</td>\n",
        "    <td class=\"tg-baqh\">error</td>\n",
        "    <td class=\"tg-sh4c\">pass</td>\n",
        "  </tr>\n",
        "</tbody>\n",
        "</table>"
      ],
      "metadata": {
        "id": "M5j78ea7by5W"
      }
    },
    {
      "cell_type": "code",
      "execution_count": null,
      "metadata": {
        "id": "K2r151_rbySP"
      },
      "outputs": [],
      "source": [
        ""
      ]
    }
  ]
}