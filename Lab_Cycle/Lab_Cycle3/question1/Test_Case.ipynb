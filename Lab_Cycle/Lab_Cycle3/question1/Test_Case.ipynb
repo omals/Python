{
  "nbformat": 4,
  "nbformat_minor": 0,
  "metadata": {
    "colab": {
      "name": "Test_Case.ipynb",
      "provenance": [],
      "collapsed_sections": []
    },
    "kernelspec": {
      "name": "python3",
      "display_name": "Python 3"
    },
    "language_info": {
      "name": "python"
    }
  },
  "cells": [
    {
      "cell_type": "markdown",
      "source": [
        "**Test Cases**\n",
        "\n",
        "<style type=\"text/css\">\n",
        ".tg  {border-collapse:collapse;border-spacing:0;}\n",
        ".tg td{border-color:black;border-style:solid;border-width:1px;font-family:Arial, sans-serif;font-size:14px;\n",
        "  overflow:hidden;padding:10px 5px;word-break:normal;}\n",
        ".tg th{border-color:black;border-style:solid;border-width:1px;font-family:Arial, sans-serif;font-size:14px;\n",
        "  font-weight:normal;overflow:hidden;padding:10px 5px;word-break:normal;}\n",
        ".tg .tg-0pky{border-color:inherit;text-align:left;vertical-align:top}\n",
        "</style>\n",
        "<table class=\"tg\">\n",
        "<thead>\n",
        "  <tr>\n",
        "    <th class=\"tg-0pky\">Test Cases No.</th>\n",
        "    <th class=\"tg-0pky\">Descripton</th>\n",
        "    <th class=\"tg-0pky\">Input</th>\n",
        "    <th class=\"tg-0pky\">Expected output</th>\n",
        "    <th class=\"tg-0pky\">Actual output</th>\n",
        "    <th class=\"tg-0pky\">result</th>\n",
        "  </tr>\n",
        "</thead>\n",
        "<tbody>\n",
        "  <tr>\n",
        "    <td class=\"tg-0pky\">1</td>\n",
        "    <td class=\"tg-0pky\">Check for the display of <br>'O' and 'X' in the screen</td>\n",
        "    <td class=\"tg-0pky\">Mouse click</td>\n",
        "    <td class=\"tg-0pky\">Mark corresponding to the <br>player 1(O) or player 2(X)</td>\n",
        "    <td class=\"tg-0pky\">Mark corresponding to the <br>player 1(O) or player 2(X)</td>\n",
        "    <td class=\"tg-0pky\">Pass</td>\n",
        "  </tr>\n",
        "  <tr>\n",
        "    <td class=\"tg-0pky\">2</td>\n",
        "    <td class=\"tg-0pky\">Check for the line on winning</td>\n",
        "    <td class=\"tg-0pky\">Same pattern in <br>same line</td>\n",
        "    <td class=\"tg-0pky\">line over the winning pattern<br></td>\n",
        "    <td class=\"tg-0pky\">line over the winning pattern</td>\n",
        "    <td class=\"tg-0pky\">Pass</td>\n",
        "  </tr>\n",
        "  <tr>\n",
        "    <td class=\"tg-0pky\">3</td>\n",
        "    <td class=\"tg-0pky\">Check for winner display in the<br>command terminal window</td>\n",
        "    <td class=\"tg-0pky\">Same pattern in<br>the line<br></td>\n",
        "    <td class=\"tg-0pky\">Display \"O WINS\" or <br>\"X WINS\"<br></td>\n",
        "    <td class=\"tg-0pky\">Display \"O WINS\" or <br>\"X WINS\"</td>\n",
        "    <td class=\"tg-0pky\">Pass</td>\n",
        "  </tr>\n",
        "  <tr>\n",
        "    <td class=\"tg-0pky\">4</td>\n",
        "    <td class=\"tg-0pky\">Check for reset option in between <br>game </td>\n",
        "    <td class=\"tg-0pky\">Click on the reset<br>button on the window</td>\n",
        "    <td class=\"tg-0pky\">Overall reset of the window <br>to the default state</td>\n",
        "    <td class=\"tg-0pky\">Overall reset of the window <br>to the default state</td>\n",
        "    <td class=\"tg-0pky\">Pass</td>\n",
        "  </tr>\n",
        "  <tr>\n",
        "    <td class=\"tg-0pky\">5</td>\n",
        "    <td class=\"tg-0pky\">Check for reset window after<br>the game over</td>\n",
        "    <td class=\"tg-0pky\">click on keyboard key<br>\"r\"</td>\n",
        "    <td class=\"tg-0pky\">Overall reset of the window <br>to the default state</td>\n",
        "    <td class=\"tg-0pky\">Overall reset of the window <br>to the default state</td>\n",
        "    <td class=\"tg-0pky\">Pass</td>\n",
        "  </tr>\n",
        "  <tr>\n",
        "    <td class=\"tg-0pky\">6</td>\n",
        "    <td class=\"tg-0pky\">Check for quit option by clicking <br>the close window button</td>\n",
        "    <td class=\"tg-0pky\">mouse click</td>\n",
        "    <td class=\"tg-0pky\">window closes<br>program ends execution</td>\n",
        "    <td class=\"tg-0pky\">window closes<br>program ends execution</td>\n",
        "    <td class=\"tg-0pky\"></td>\n",
        "  </tr>\n",
        "</tbody>\n",
        "</table>"
      ],
      "metadata": {
        "id": "-is4PduMhyfP"
      }
    },
    {
      "cell_type": "code",
      "execution_count": null,
      "metadata": {
        "id": "hnwKASB3hxeJ"
      },
      "outputs": [],
      "source": [
        ""
      ]
    }
  ]
}