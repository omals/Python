{
  "nbformat": 4,
  "nbformat_minor": 0,
  "metadata": {
    "colab": {
      "name": " 7.Math Operations.ipynb",
      "provenance": [],
      "collapsed_sections": []
    },
    "kernelspec": {
      "name": "python3",
      "display_name": "Python 3"
    },
    "language_info": {
      "name": "python"
    }
  },
  "cells": [
    {
      "cell_type": "markdown",
      "source": [
        "**7. Write a program to display sum, difference, product, quotient and reminder of two unequal.**"
      ],
      "metadata": {
        "id": "e2jxvKUSCifq"
      }
    },
    {
      "cell_type": "code",
      "execution_count": null,
      "metadata": {
        "id": "VM8YAfCMChsH",
        "colab": {
          "base_uri": "https://localhost:8080/"
        },
        "outputId": "9b0179f5-388a-4c11-cd5b-eb27b03b7be6"
      },
      "outputs": [
        {
          "output_type": "stream",
          "name": "stdout",
          "text": [
            "Enter the first number: 3\n",
            "Enter the second number: 4\n",
            "Sum=  7.0\n",
            "Difference=  -1.0\n",
            "Product=  12.0\n",
            "Quotient=  0.75\n",
            "Reminder=  3.0\n"
          ]
        }
      ],
      "source": [
        "a=float(input(\"Enter the first number: \"))\n",
        "b=float(input(\"Enter the second number: \"))\n",
        "sum=a+b\n",
        "print(\"Sum= \",sum)\n",
        "difference=a-b\n",
        "print(\"Difference= \",difference)\n",
        "product=a*b\n",
        "print(\"Product= \",product)\n",
        "quotient=a/b\n",
        "print(\"Quotient= \",quotient)\n",
        "reminder=a%b\n",
        "print(\"Reminder= \",reminder)"
      ]
    }
  ]
}