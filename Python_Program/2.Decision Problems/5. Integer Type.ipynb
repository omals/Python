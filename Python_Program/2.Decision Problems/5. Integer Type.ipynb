{
  "nbformat": 4,
  "nbformat_minor": 0,
  "metadata": {
    "colab": {
      "name": "5.Integer Type.ipynb",
      "provenance": [],
      "collapsed_sections": []
    },
    "kernelspec": {
      "name": "python3",
      "display_name": "Python 3"
    },
    "language_info": {
      "name": "python"
    }
  },
  "cells": [
    {
      "cell_type": "markdown",
      "source": [
        "**5. Write a program to check whether the number is positive, negative or zero**"
      ],
      "metadata": {
        "id": "8Hcdgya2lIGY"
      }
    },
    {
      "cell_type": "code",
      "execution_count": null,
      "metadata": {
        "colab": {
          "base_uri": "https://localhost:8080/"
        },
        "id": "7zUzvMywk81G",
        "outputId": "01597d44-b93a-4937-beaa-8b021bf81769"
      },
      "outputs": [
        {
          "output_type": "stream",
          "name": "stdout",
          "text": [
            "Enter the number:0\n",
            "0.0  is Zero.\n"
          ]
        }
      ],
      "source": [
        "a=float(input(\"Enter the number:\"))\n",
        "if(a!=0):\n",
        "  if(a>0):\n",
        "    print(a,\" is a positive number.\")\n",
        "  else:\n",
        "    print(a,\" is a negative number.\")\n",
        "else:\n",
        "   print(a,\" is Zero.\")"
      ]
    }
  ]
}