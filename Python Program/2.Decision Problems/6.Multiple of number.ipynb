{
  "nbformat": 4,
  "nbformat_minor": 0,
  "metadata": {
    "colab": {
      "name": "6.Multiple of number.ipynb",
      "provenance": [],
      "collapsed_sections": []
    },
    "kernelspec": {
      "name": "python3",
      "display_name": "Python 3"
    },
    "language_info": {
      "name": "python"
    }
  },
  "cells": [
    {
      "cell_type": "markdown",
      "source": [
        "**6. Write a program check whether the number is a multiple of another.**"
      ],
      "metadata": {
        "id": "U_pTK6_-njyN"
      }
    },
    {
      "cell_type": "code",
      "execution_count": null,
      "metadata": {
        "colab": {
          "base_uri": "https://localhost:8080/"
        },
        "id": "KdodZuWCni4n",
        "outputId": "5384cc61-d1b9-4c98-d387-ac4f274f86a8"
      },
      "outputs": [
        {
          "output_type": "stream",
          "name": "stdout",
          "text": [
            "Enter the number:2\n",
            "Enter the other number:133\n",
            "133  is not a multiple of  2\n"
          ]
        }
      ],
      "source": [
        "a=int(input(\"Enter the number:\"))\n",
        "b=int(input(\"Enter the other number:\"))\n",
        "if a>b:\n",
        "   m=a%b\n",
        "   if m==0:\n",
        "     print(a,\" is a multiple of \",b)\n",
        "   else:\n",
        "     print(a,\" is not a multiple of \",b)\n",
        "else:\n",
        "   m=b%a\n",
        "   if m==0:\n",
        "     print(b,\" is a multiple of \",a)\n",
        "   else:\n",
        "     print(b,\" is not a multiple of \",a)"
      ]
    },
    {
      "cell_type": "markdown",
      "source": [
        "**Test Cases**"
      ],
      "metadata": {
        "id": "58iYIfaUqDIS"
      }
    },
    {
      "cell_type": "markdown",
      "source": [
        "<style type=\"text/css\">\n",
        ".tg  {border-collapse:collapse;border-spacing:0;}\n",
        ".tg td{border-color:black;border-style:solid;border-width:1px;font-family:Arial, sans-serif;font-size:14px;\n",
        "  overflow:hidden;padding:10px 5px;word-break:normal;}\n",
        ".tg th{border-color:black;border-style:solid;border-width:1px;font-family:Arial, sans-serif;font-size:14px;\n",
        "  font-weight:normal;overflow:hidden;padding:10px 5px;word-break:normal;}\n",
        ".tg .tg-baqh{text-align:center;vertical-align:top}\n",
        ".tg .tg-c3ow{border-color:inherit;text-align:center;vertical-align:top}\n",
        ".tg .tg-0pky{border-color:inherit;text-align:left;vertical-align:top}\n",
        ".tg .tg-76qt{border-color:inherit;font-size:13px;text-align:center;vertical-align:top}\n",
        ".tg .tg-0lax{text-align:left;vertical-align:top}\n",
        ".tg .tg-z1yq{font-size:13px;text-align:center;vertical-align:top}\n",
        ".tg .tg-vask{font-size:13px;text-align:left;vertical-align:top}\n",
        "</style>\n",
        "<table class=\"tg\" style=\"undefined;table-layout: fixed; width: 829px\">\n",
        "<colgroup>\n",
        "<col style=\"width: 130px\">\n",
        "<col style=\"width: 188px\">\n",
        "<col style=\"width: 44px\">\n",
        "<col style=\"width: 211px\">\n",
        "<col style=\"width: 204px\">\n",
        "<col style=\"width: 52px\">\n",
        "</colgroup>\n",
        "<thead>\n",
        "  <tr>\n",
        "    <th class=\"tg-c3ow\">Test Case number</th>\n",
        "    <th class=\"tg-0pky\">Description</th>\n",
        "    <th class=\"tg-c3ow\">Input</th>\n",
        "    <th class=\"tg-c3ow\">Expected Output</th>\n",
        "    <th class=\"tg-c3ow\">Actual Output</th>\n",
        "    <th class=\"tg-c3ow\">Result</th>\n",
        "  </tr>\n",
        "</thead>\n",
        "<tbody>\n",
        "  <tr>\n",
        "    <td class=\"tg-c3ow\">1</td>\n",
        "    <td class=\"tg-0pky\">Check the output<br></td>\n",
        "    <td class=\"tg-c3ow\">  25<br>  5</td>\n",
        "    <td class=\"tg-76qt\">25 is a multiple of 5</td>\n",
        "    <td class=\"tg-76qt\">25 is a multiple 5</td>\n",
        "    <td class=\"tg-c3ow\">&nbsp;&nbsp;Pass</td>\n",
        "  </tr>\n",
        "  <tr>\n",
        "    <td class=\"tg-baqh\">2</td>\n",
        "    <td class=\"tg-0lax\">Check the output</td>\n",
        "    <td class=\"tg-0lax\">  2<br>  133</td>\n",
        "    <td class=\"tg-z1yq\">133 is not a multiple of 2</td>\n",
        "    <td class=\"tg-vask\">133 is not a multiple of 2</td>\n",
        "    <td class=\"tg-0lax\">  Pass</td>\n",
        "  </tr>\n",
        "  <tr>\n",
        "    <td class=\"tg-c3ow\">3</td>\n",
        "    <td class=\"tg-0pky\">Check for wrong input    </td>\n",
        "    <td class=\"tg-c3ow\">  a<br>   b</td>\n",
        "    <td class=\"tg-c3ow\">&nbsp;&nbsp;&nbsp;error</td>\n",
        "    <td class=\"tg-c3ow\">&nbsp;&nbsp;&nbsp;error</td>\n",
        "    <td class=\"tg-c3ow\">&nbsp;&nbsp;Pass</td>\n",
        "  </tr>\n",
        "</tbody>\n",
        "</table>"
      ],
      "metadata": {
        "id": "-hylHWtlqHt_"
      }
    }
  ]
}