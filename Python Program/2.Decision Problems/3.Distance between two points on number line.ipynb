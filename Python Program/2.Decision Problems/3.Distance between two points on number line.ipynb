{
  "nbformat": 4,
  "nbformat_minor": 0,
  "metadata": {
    "colab": {
      "name": "3.Distance between two points on number line.ipynb",
      "provenance": [],
      "collapsed_sections": []
    },
    "kernelspec": {
      "name": "python3",
      "display_name": "Python 3"
    },
    "language_info": {
      "name": "python"
    }
  },
  "cells": [
    {
      "cell_type": "markdown",
      "source": [
        "**3. Write a program to find the distance between the two point in the number line.** "
      ],
      "metadata": {
        "id": "pDHcK3OxeEZs"
      }
    },
    {
      "cell_type": "code",
      "execution_count": null,
      "metadata": {
        "colab": {
          "base_uri": "https://localhost:8080/"
        },
        "id": "P2JbGhzvd3PN",
        "outputId": "88ce2ef2-26ef-4306-f1f4-6aa9c0c59329"
      },
      "outputs": [
        {
          "output_type": "stream",
          "name": "stdout",
          "text": [
            "Enter the first point:-3\n",
            "Enter the second point:-1\n",
            "Distance is: 2.0\n"
          ]
        }
      ],
      "source": [
        "a=float(input(\"Enter the first point:\"))\n",
        "b=float(input (\"Enter the second point:\"))\n",
        "if a<=b:\n",
        "  print(\"Distance is:\",(b-a))\n",
        "else:\n",
        "  print(\"Distance is:\",(a-b))"
      ]
    },
    {
      "cell_type": "markdown",
      "source": [
        "**Test Cases**"
      ],
      "metadata": {
        "id": "jPMgSeXNf9sQ"
      }
    },
    {
      "cell_type": "markdown",
      "source": [
        "<style type=\"text/css\">\n",
        ".tg  {border-collapse:collapse;border-spacing:0;}\n",
        ".tg td{border-color:black;border-style:solid;border-width:1px;font-family:Arial, sans-serif;font-size:14px;\n",
        "  overflow:hidden;padding:10px 5px;word-break:normal;}\n",
        ".tg th{border-color:black;border-style:solid;border-width:1px;font-family:Arial, sans-serif;font-size:14px;\n",
        "  font-weight:normal;overflow:hidden;padding:10px 5px;word-break:normal;}\n",
        ".tg .tg-baqh{text-align:center;vertical-align:top}\n",
        ".tg .tg-c3ow{border-color:inherit;text-align:center;vertical-align:top}\n",
        ".tg .tg-0pky{border-color:inherit;text-align:left;vertical-align:top}\n",
        ".tg .tg-f4iu{border-color:inherit;font-size:12px;text-align:center;vertical-align:top}\n",
        ".tg .tg-0lax{text-align:left;vertical-align:top}\n",
        "</style>\n",
        "<table class=\"tg\" style=\"undefined;table-layout: fixed; width: 794px\">\n",
        "<colgroup>\n",
        "<col style=\"width: 125px\">\n",
        "<col style=\"width: 180px\">\n",
        "<col style=\"width: 42px\">\n",
        "<col style=\"width: 202px\">\n",
        "<col style=\"width: 195px\">\n",
        "<col style=\"width: 50px\">\n",
        "</colgroup>\n",
        "<thead>\n",
        "  <tr>\n",
        "    <th class=\"tg-c3ow\">Test Case number</th>\n",
        "    <th class=\"tg-0pky\">Description</th>\n",
        "    <th class=\"tg-c3ow\">Input</th>\n",
        "    <th class=\"tg-c3ow\">Expected Output</th>\n",
        "    <th class=\"tg-c3ow\">Actual Output</th>\n",
        "    <th class=\"tg-c3ow\">Result</th>\n",
        "  </tr>\n",
        "</thead>\n",
        "<tbody>\n",
        "  <tr>\n",
        "    <td class=\"tg-c3ow\">1</td>\n",
        "    <td class=\"tg-0pky\">Check the distance <br>   between two points. </td>\n",
        "    <td class=\"tg-c3ow\">  -3<br>  8</td>\n",
        "    <td class=\"tg-f4iu\">      11.0</td>\n",
        "    <td class=\"tg-f4iu\">    11.0</td>\n",
        "    <td class=\"tg-c3ow\">&nbsp;&nbsp;Pass</td>\n",
        "  </tr>\n",
        "  <tr>\n",
        "    <td class=\"tg-baqh\">2</td>\n",
        "    <td class=\"tg-0lax\">Check the distance between same points.</td>\n",
        "    <td class=\"tg-baqh\">  3<br>  3</td>\n",
        "    <td class=\"tg-baqh\">    0.0</td>\n",
        "    <td class=\"tg-baqh\">0.0</td>\n",
        "    <td class=\"tg-baqh\">pass</td>\n",
        "  </tr>\n",
        "  <tr>\n",
        "    <td class=\"tg-baqh\">3</td>\n",
        "    <td class=\"tg-0lax\">Check the distance between negative points.</td>\n",
        "    <td class=\"tg-baqh\">  -3<br>  -1</td>\n",
        "    <td class=\"tg-baqh\">    2.0</td>\n",
        "    <td class=\"tg-baqh\">2.0</td>\n",
        "    <td class=\"tg-baqh\">pass</td>\n",
        "  </tr>\n",
        "  <tr>\n",
        "    <td class=\"tg-c3ow\">4</td>\n",
        "    <td class=\"tg-0pky\">Check for wrong input    </td>\n",
        "    <td class=\"tg-c3ow\">a<br>b</td>\n",
        "    <td class=\"tg-c3ow\">&nbsp;&nbsp;&nbsp;error</td>\n",
        "    <td class=\"tg-c3ow\">&nbsp;&nbsp;&nbsp;error</td>\n",
        "    <td class=\"tg-c3ow\">&nbsp;&nbsp;Pass</td>\n",
        "  </tr>\n",
        "</tbody>\n",
        "</table>\n",
        "\n"
      ],
      "metadata": {
        "id": "pW-oSM_HgDAk"
      }
    }
  ]
}