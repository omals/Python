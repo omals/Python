{
  "nbformat": 4,
  "nbformat_minor": 0,
  "metadata": {
    "colab": {
      "name": "3.Distance between two points on number line.ipynb",
      "provenance": [],
      "collapsed_sections": []
    },
    "kernelspec": {
      "name": "python3",
      "display_name": "Python 3"
    },
    "language_info": {
      "name": "python"
    }
  },
  "cells": [
    {
      "cell_type": "markdown",
      "source": [
        "**3. Write a program to find the distance between the two point in the number line.** "
      ],
      "metadata": {
        "id": "pDHcK3OxeEZs"
      }
    },
    {
      "cell_type": "code",
      "execution_count": null,
      "metadata": {
        "colab": {
          "base_uri": "https://localhost:8080/"
        },
        "id": "P2JbGhzvd3PN",
        "outputId": "88ce2ef2-26ef-4306-f1f4-6aa9c0c59329"
      },
      "outputs": [
        {
          "output_type": "stream",
          "name": "stdout",
          "text": [
            "Enter the first point:-3\n",
            "Enter the second point:-1\n",
            "Distance is: 2.0\n"
          ]
        }
      ],
      "source": [
        "a=float(input(\"Enter the first point:\"))\n",
        "b=float(input (\"Enter the second point:\"))\n",
        "if a<=b:\n",
        "  print(\"Distance is:\",(b-a))\n",
        "else:\n",
        "  print(\"Distance is:\",(a-b))"
      ]
    }
  ]
}