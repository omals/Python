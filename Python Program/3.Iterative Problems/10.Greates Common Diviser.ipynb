{
  "nbformat": 4,
  "nbformat_minor": 0,
  "metadata": {
    "colab": {
      "name": "10.Greates Common Diviser.ipynb",
      "provenance": [],
      "collapsed_sections": []
    },
    "kernelspec": {
      "name": "python3",
      "display_name": "Python 3"
    },
    "language_info": {
      "name": "python"
    }
  },
  "cells": [
    {
      "cell_type": "markdown",
      "source": [
        "**10. Write a program to find the GCD of 2 numbers.**"
      ],
      "metadata": {
        "id": "lG-VRxi7dsS1"
      }
    },
    {
      "cell_type": "code",
      "execution_count": null,
      "metadata": {
        "colab": {
          "base_uri": "https://localhost:8080/"
        },
        "id": "3uuowWrpdrQQ",
        "outputId": "a8c29950-7fd4-47a4-9637-110c5e747521"
      },
      "outputs": [
        {
          "output_type": "stream",
          "name": "stdout",
          "text": [
            "Enter the first number:0\n",
            "Enter the second number:9\n",
            "GCD of  0  and  9  is  9\n"
          ]
        }
      ],
      "source": [
        "a=int(input(\"Enter the first number:\"))\n",
        "b=int(input(\"Enter the second number:\"))\n",
        "at=abs(a)\n",
        "bt=abs(b)\n",
        "while at!=0 and bt!=0:\n",
        "  if at==bt:\n",
        "    at=at%bt\n",
        "  else:\n",
        "    if at>bt:\n",
        "      at=at%bt\n",
        "    else:\n",
        "      bt=bt%at\n",
        "if at==0:\n",
        "  print(\"GCD of \",a,\" and \",b,\" is \",bt)\n",
        "else:\n",
        "  print(\"GCD of \",a,\" and \",b,\" is \",at)\n",
        "  "
      ]
    }
  ]
}