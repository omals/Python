{
  "nbformat": 4,
  "nbformat_minor": 0,
  "metadata": {
    "colab": {
      "name": " 1.Average of three numbers.ipynb",
      "provenance": [],
      "collapsed_sections": []
    },
    "kernelspec": {
      "name": "python3",
      "display_name": "Python 3"
    },
    "language_info": {
      "name": "python"
    }
  },
  "cells": [
    {
      "cell_type": "markdown",
      "source": [
        "**1. Write a program to print the average of three numbers.**"
      ],
      "metadata": {
        "id": "PPhWnb3nM1T-"
      }
    },
    {
      "cell_type": "code",
      "execution_count": 1,
      "metadata": {
        "id": "R9rjd4m-M0PA",
        "colab": {
          "base_uri": "https://localhost:8080/"
        },
        "outputId": "b168f8f8-2c61-4694-e9c1-5a472ad4eb1d"
      },
      "outputs": [
        {
          "output_type": "stream",
          "name": "stdout",
          "text": [
            "Enter number1: 5\n",
            "Enter number1: 5\n",
            "Enter number1: 4\n",
            "Average= 4\n"
          ]
        }
      ],
      "source": [
        "a=int(input(\"Enter number1: \"))\n",
        "b=int(input(\"Enter number1: \"))\n",
        "c=int(input(\"Enter number1: \"))\n",
        "sum=a+b+c\n",
        "average=sum//3\n",
        "print(\"Average=\",average)"
      ]
    },
    {
      "cell_type": "markdown",
      "source": [
        "**Test Cases**"
      ],
      "metadata": {
        "id": "Nf2vNEEENAgJ"
      }
    },
    {
      "cell_type": "markdown",
      "source": [
        "<style type=\"text/css\">\n",
        ".tg  {border-collapse:collapse;border-spacing:0;}\n",
        ".tg td{border-color:black;border-style:solid;border-width:1px;font-family:Arial, sans-serif;font-size:14px;\n",
        "  overflow:hidden;padding:10px 5px;word-break:normal;}\n",
        ".tg th{border-color:black;border-style:solid;border-width:1px;font-family:Arial, sans-serif;font-size:14px;\n",
        "  font-weight:normal;overflow:hidden;padding:10px 5px;word-break:normal;}\n",
        ".tg .tg-8g55{border-color:#330001;text-align:center;vertical-align:top}\n",
        "</style>\n",
        "<table class=\"tg\">\n",
        "<thead>\n",
        "  <tr>\n",
        "    <th class=\"tg-8g55\">Test case number </th>\n",
        "    <th class=\"tg-8g55\">Description</th>\n",
        "    <th class=\"tg-8g55\">Input</th>\n",
        "    <th class=\"tg-8g55\">Expected output</th>\n",
        "    <th class=\"tg-8g55\">Actual output</th>\n",
        "    <th class=\"tg-8g55\">Result</th>\n",
        "  </tr>\n",
        "</thead>\n",
        "<tbody>\n",
        "  <tr>\n",
        "    <td class=\"tg-8g55\">1</td>\n",
        "    <td class=\"tg-8g55\">Check the average correct or not</td>\n",
        "    <td class=\"tg-8g55\">5 5 4</td>\n",
        "    <td class=\"tg-8g55\">Average=&nbsp;4</td>\n",
        "    <td class=\"tg-8g55\">Average=&nbsp;4</td>\n",
        "    <td class=\"tg-8g55\">pass</td>\n",
        "  </tr>\n",
        "  <tr>\n",
        "    <td class=\"tg-8g55\">2</td>\n",
        "    <td class=\"tg-8g55\">check for wrong input</td>\n",
        "    <td class=\"tg-8g55\">a b c</td>\n",
        "    <td class=\"tg-8g55\">error</td>\n",
        "    <td class=\"tg-8g55\">error</td>\n",
        "    <td class=\"tg-8g55\">pass</td>\n",
        "  </tr>\n",
        "</tbody>\n",
        "</table>\n"
      ],
      "metadata": {
        "id": "Wc7tHX6GNIq5"
      }
    }
  ]
}