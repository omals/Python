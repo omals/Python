{
  "nbformat": 4,
  "nbformat_minor": 0,
  "metadata": {
    "colab": {
      "name": "SequentialProblems.ipynb",
      "provenance": [],
      "collapsed_sections": []
    },
    "kernelspec": {
      "name": "python3",
      "display_name": "Python 3"
    },
    "language_info": {
      "name": "python"
    }
  },
  "cells": [
    {
      "cell_type": "markdown",
      "source": [
        "  **Sequential Problems**\n",
        "\n",
        "1.   Write a program to print the average of three numbers."
      ],
      "metadata": {
        "id": "z1-EXxJHca8Z"
      }
    },
    {
      "cell_type": "code",
      "execution_count": null,
      "metadata": {
        "colab": {
          "base_uri": "https://localhost:8080/"
        },
        "id": "Zw9DE0WWcZj8",
        "outputId": "6ff6c6c1-7409-43ac-c27a-e9d84f49596e"
      },
      "outputs": [
        {
          "output_type": "stream",
          "name": "stdout",
          "text": [
            "Enter number1: 5\n",
            "Enter number1: 5\n",
            "Enter number1: 4\n",
            "Average=  4.666666666666667\n"
          ]
        }
      ],
      "source": [
        "a=int(input(\"Enter number1: \"))\n",
        "b=int(input(\"Enter number1: \"))\n",
        "c=int(input(\"Enter number1: \"))\n",
        "sum=a+b+c\n",
        "average=sum/3\n",
        "print(\"Average= \",average)"
      ]
    },
    {
      "cell_type": "markdown",
      "source": [
        "\n",
        "2.Write a program to print the sum and average of three numbers.\n",
        "\n"
      ],
      "metadata": {
        "id": "SiKC8ILPfUyH"
      }
    },
    {
      "cell_type": "code",
      "source": [
        "num1=int(input(\"Enter the number1: \"))\n",
        "num2=int(input(\"Enter the number2: \"))\n",
        "num3=int(input(\"Enter the number3: \"))\n",
        "sum=num1+num2+num3\n",
        "averge=sum/3\n",
        "print(\"Sum= \",sum)\n",
        "print(\"Average= \",average)"
      ],
      "metadata": {
        "colab": {
          "base_uri": "https://localhost:8080/"
        },
        "id": "M6eeAk8UdjMx",
        "outputId": "5ce060b1-3fb1-4318-cb88-6576173cfb67"
      },
      "execution_count": null,
      "outputs": [
        {
          "output_type": "stream",
          "name": "stdout",
          "text": [
            "Enter the number1: 5\n",
            "Enter the number2: 5\n",
            "Enter the number3: 4\n",
            "Sum=  14\n",
            "Average=  4.666666666666667\n"
          ]
        }
      ]
    },
    {
      "cell_type": "markdown",
      "source": [
        "3. Write a program to convert the time entered in seconds to Hours,Minutes,second."
      ],
      "metadata": {
        "id": "LP1zA-19gwhk"
      }
    },
    {
      "cell_type": "code",
      "source": [
        "time=int(input(\"Enter the second to convert: \"))\n",
        "hour=int(time/3600)\n",
        "min=int((time-(hour*3600))/60)\n",
        "sec=int(time-((hour*3600)+(min*60)))\n",
        "print(\"Hour= \",hour,\": Minute= \",min,\": Second= \",sec)"
      ],
      "metadata": {
        "colab": {
          "base_uri": "https://localhost:8080/"
        },
        "id": "N_fYZ-NDgn1b",
        "outputId": "c2d82c00-050b-4d41-9dee-9f1789f995cd"
      },
      "execution_count": null,
      "outputs": [
        {
          "output_type": "stream",
          "name": "stdout",
          "text": [
            "Enter the second to convert: 3661\n",
            "Hour=  1 : Minute=  1 : Second=  1\n"
          ]
        }
      ]
    },
    {
      "cell_type": "markdown",
      "source": [
        "4. Write a program to print the area and perimeter of a tirangle."
      ],
      "metadata": {
        "id": "pbp3id87jlub"
      }
    },
    {
      "cell_type": "code",
      "source": [
        "a=int(input(\"Enter the side1: \"))\n",
        "b=int(input(\"Enter the side2: \"))\n",
        "c=int(input(\"Enter the side3: \"))\n",
        "p=a+b+c\n",
        "s= p/2\n",
        "area=(s*(s-a)*(s-b)*(s-c))**(1/2)\n",
        "print(\"The perimeter= \",p)\n",
        "print(\"The Area= \",area)"
      ],
      "metadata": {
        "colab": {
          "base_uri": "https://localhost:8080/"
        },
        "id": "aon_CuBripm-",
        "outputId": "09135e7e-9c28-448b-a5e5-cb769d56137c"
      },
      "execution_count": null,
      "outputs": [
        {
          "output_type": "stream",
          "name": "stdout",
          "text": [
            "Enter the side1: 8\n",
            "Enter the side2: 3\n",
            "Enter the side3: 9\n",
            "The perimeter=  20\n",
            "The Area=  11.832159566199232\n"
          ]
        }
      ]
    },
    {
      "cell_type": "markdown",
      "source": [
        "5.Write a program to print the area of a circle."
      ],
      "metadata": {
        "id": "ZS6g5YOvyZLy"
      }
    },
    {
      "cell_type": "code",
      "source": [
        "r=float(input(\"Enter the radius: \"))\n",
        "a=3.14*r*r\n",
        "print(\"The Area is: \",a)"
      ],
      "metadata": {
        "colab": {
          "base_uri": "https://localhost:8080/"
        },
        "id": "FVmgd3Ka4HOc",
        "outputId": "9ce2bfdd-75fc-404c-9e97-e7a591644f9d"
      },
      "execution_count": null,
      "outputs": [
        {
          "output_type": "stream",
          "name": "stdout",
          "text": [
            "Enter the radius: 4\n",
            "The Area is:  50.24\n"
          ]
        }
      ]
    },
    {
      "cell_type": "markdown",
      "source": [
        "6.Write a program to enter two unequal number and interchange them without using a third variable."
      ],
      "metadata": {
        "id": "7dlve8ih4wSC"
      }
    },
    {
      "cell_type": "code",
      "source": [
        "a=float(input(\"Enter a number: \"))\n",
        "b=float(input(\"Enter another number: \"))\n",
        "a=a+b\n",
        "b=a-b\n",
        "a=a-b\n",
        "print(\"Numbers after Swapping: first=\",a,\" Second= \",b)"
      ],
      "metadata": {
        "colab": {
          "base_uri": "https://localhost:8080/"
        },
        "id": "2zHJIXMa4des",
        "outputId": "356928bd-8520-4b1f-e6c1-3affd81a3d8c"
      },
      "execution_count": 53,
      "outputs": [
        {
          "output_type": "stream",
          "name": "stdout",
          "text": [
            "Enter a number: 3\n",
            "Enter another number: 4\n",
            "Numbers after Swapping: first= 4.0  Second=  3.0\n"
          ]
        }
      ]
    },
    {
      "cell_type": "markdown",
      "source": [
        "7.Write a program to display sum, difference, product, quotient and reminder of two unequal."
      ],
      "metadata": {
        "id": "_akrnXAT63ru"
      }
    },
    {
      "cell_type": "code",
      "source": [
        "a=float(input(\"Enter largest of the two number: \"))\n",
        "b=float(input(\"Enter another number: \"))\n",
        "sum=a+b\n",
        "print(\"The sum= \",sum)\n",
        "difference=a-b\n",
        "print(\"The Difference= \",difference)\n",
        "product=a*b\n",
        "print(\"The product= \",product)\n",
        "quotient=a/b\n",
        "print(\"The Quotient= \",quotient)\n",
        "reminder=a%b\n",
        "print(\"The reminder= \",reminder)"
      ],
      "metadata": {
        "colab": {
          "base_uri": "https://localhost:8080/"
        },
        "id": "pFANcvtx6UZC",
        "outputId": "ed377191-f2e2-4af7-ad7d-f2797c7c2788"
      },
      "execution_count": null,
      "outputs": [
        {
          "output_type": "stream",
          "name": "stdout",
          "text": [
            "Enter largest of the two number: 4\n",
            "Enter another number: 3\n",
            "The sum=  7.0\n",
            "The Difference=  1.0\n",
            "The product=  12.0\n",
            "The Quotient=  1.3333333333333333\n",
            "The reminder=  1.0\n"
          ]
        }
      ]
    },
    {
      "cell_type": "markdown",
      "source": [
        "8.Write a program to enter the number of days and display into years,months and days."
      ],
      "metadata": {
        "id": "75X7pHWJ-KtC"
      }
    },
    {
      "cell_type": "code",
      "source": [
        "days=int(input(\"Enter the number of Days: \"))\n",
        "year=int(days/365)\n",
        "month=int((days-year*365)/12)\n",
        "day=int((days-((year*365)+(month*12))))\n",
        "print(\"Years= \",year,\": Months= \",month,\": Days= \",day)"
      ],
      "metadata": {
        "colab": {
          "base_uri": "https://localhost:8080/"
        },
        "id": "uQo8K6oJ62Wp",
        "outputId": "6ce49bde-3b2a-498e-bc38-591934d8b83c"
      },
      "execution_count": null,
      "outputs": [
        {
          "output_type": "stream",
          "name": "stdout",
          "text": [
            "Enter the number of Days: 378\n",
            "Years=  1 : Months=  1 : Days=  1\n"
          ]
        }
      ]
    },
    {
      "cell_type": "code",
      "source": [
        ""
      ],
      "metadata": {
        "id": "pRSw-2Yt-eOf"
      },
      "execution_count": null,
      "outputs": []
    }
  ]
}