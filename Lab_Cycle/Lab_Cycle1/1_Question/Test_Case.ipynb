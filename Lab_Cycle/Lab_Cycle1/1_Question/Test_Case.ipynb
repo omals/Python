
{
  "nbformat": 4,
  "nbformat_minor": 0,
  "metadata": {
    "colab": {
      "name": "Test_Case.ipynb",
      "provenance": [],
      "collapsed_sections": []
    },
    "kernelspec": {
      "name": "python3",
      "display_name": "Python 3"
    },
    "language_info": {
      "name": "python"
    }
  },
  "cells": [
    {
      "cell_type": "markdown",
      "source": [
        "**Test Cases**\n",
        "\n",
        "<style type=\"text/css\">\n",
        ".tg  {border-collapse:collapse;border-spacing:0;}\n",
        ".tg td{border-color:black;border-style:solid;border-width:1px;font-family:Arial, sans-serif;font-size:14px;\n",
        "  overflow:hidden;padding:10px 5px;word-break:normal;}\n",
        ".tg th{border-color:black;border-style:solid;border-width:1px;font-family:Arial, sans-serif;font-size:14px;\n",
        "  font-weight:normal;overflow:hidden;padding:10px 5px;word-break:normal;}\n",
        ".tg .tg-baqh{text-align:center;vertical-align:top}\n",
        ".tg .tg-c3ow{border-color:inherit;text-align:center;vertical-align:top}\n",
        "</style>\n",
        "<table class=\"tg\">\n",
        "<thead>\n",
        "  <tr>\n",
        "    <th class=\"tg-c3ow\">Test case No.</th>\n",
        "    <th class=\"tg-c3ow\">Description</th>\n",
        "    <th class=\"tg-c3ow\">Input</th>\n",
        "    <th class=\"tg-baqh\">Expected output</th>\n",
        "    <th class=\"tg-baqh\">Actual output</th>\n",
        "    <th class=\"tg-baqh\">Result</th>\n",
        "  </tr>\n",
        "</thead>\n",
        "<tbody>\n",
        "  <tr>\n",
        "    <td class=\"tg-c3ow\">1</td>\n",
        "    <td class=\"tg-c3ow\">Check for the sum output<br></td>\n",
        "    <td class=\"tg-c3ow\">1234</td>\n",
        "    <td class=\"tg-baqh\">10</td>\n",
        "    <td class=\"tg-baqh\">10</td>\n",
        "    <td class=\"tg-baqh\">Pass</td>\n",
        "  </tr>\n",
        "  <tr>\n",
        "    <td class=\"tg-c3ow\">1</td>\n",
        "    <td class=\"tg-c3ow\">Check for the Reverse output<br></td>\n",
        "    <td class=\"tg-c3ow\">1234</td>\n",
        "    <td class=\"tg-baqh\">4321</td>\n",
        "    <td class=\"tg-baqh\">4321</td>\n",
        "    <td class=\"tg-baqh\">Pass</td>\n",
        "  </tr>\n",
        "  <tr>\n",
        "    <td class=\"tg-c3ow\">1</td>\n",
        "    <td class=\"tg-c3ow\">Check for the Difference <br> of odd and even numbers<br> output<br></td>\n",
        "    <td class=\"tg-c3ow\">1234</td>\n",
        "    <td class=\"tg-baqh\">-5</td>\n",
        "    <td class=\"tg-baqh\">-5</td>\n",
        "    <td class=\"tg-baqh\">Pass</td>\n",
        "  </tr>\n",
        "  <tr>\n",
        "    <td class=\"tg-c3ow\">2</td>\n",
        "    <td class=\"tg-c3ow\">Wrong input</td>\n",
        "    <td class=\"tg-c3ow\">abc</td>\n",
        "    <td class=\"tg-baqh\">error</td>\n",
        "    <td class=\"tg-baqh\">error</td>\n",
        "    <td class=\"tg-baqh\">Pass</td>\n",
        "  </tr>\n",
        "</tbody>\n",
        "</table>"
      ],
      "metadata": {
        "id": "BNDz_5TqpVRE"
      }
    }
  ]
}
