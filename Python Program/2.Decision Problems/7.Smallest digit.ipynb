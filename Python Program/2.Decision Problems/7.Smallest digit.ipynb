{
  "nbformat": 4,
  "nbformat_minor": 0,
  "metadata": {
    "colab": {
      "name": "7.Smallest digit.ipynb",
      "provenance": [],
      "collapsed_sections": []
    },
    "kernelspec": {
      "name": "python3",
      "display_name": "Python 3"
    },
    "language_info": {
      "name": "python"
    }
  },
  "cells": [
    {
      "cell_type": "markdown",
      "source": [
        "**7. Write a program to find the smallest digit in the two digit number.**"
      ],
      "metadata": {
        "id": "Igbzy8cuqUrk"
      }
    },
    {
      "cell_type": "code",
      "execution_count": null,
      "metadata": {
        "colab": {
          "base_uri": "https://localhost:8080/"
        },
        "id": "FYR_nX0PqSmA",
        "outputId": "bf1958d6-9a5a-477e-ff14-a1b5d981be04"
      },
      "outputs": [
        {
          "output_type": "stream",
          "name": "stdout",
          "text": [
            "Enter the nunber:21\n",
            "1  is the smallest digit.\n"
          ]
        }
      ],
      "source": [
        "a=int(input(\"Enter the nunber:\"))\n",
        "b=a\n",
        "a=a//100\n",
        "if a==0:\n",
        "   c=b%10\n",
        "   d=b//10\n",
        "   if c>d:\n",
        "     print(d,\" is the smallest digit.\")\n",
        "   else:\n",
        "     print(c,\" is the smallest digit.\")\n",
        "else:\n",
        "  print(b,\" is not a two digit number.\")   "
      ]
    },
    {
      "cell_type": "markdown",
      "source": [
        "**Test Cases**"
      ],
      "metadata": {
        "id": "Vx-2rcvNtNGr"
      }
    },
    {
      "cell_type": "markdown",
      "source": [
        "<style type=\"text/css\">\n",
        ".tg  {border-collapse:collapse;border-spacing:0;}\n",
        ".tg td{border-color:black;border-style:solid;border-width:1px;font-family:Arial, sans-serif;font-size:14px;\n",
        "  overflow:hidden;padding:10px 5px;word-break:normal;}\n",
        ".tg th{border-color:black;border-style:solid;border-width:1px;font-family:Arial, sans-serif;font-size:14px;\n",
        "  font-weight:normal;overflow:hidden;padding:10px 5px;word-break:normal;}\n",
        ".tg .tg-baqh{text-align:center;vertical-align:top}\n",
        ".tg .tg-c3ow{border-color:inherit;text-align:center;vertical-align:top}\n",
        ".tg .tg-0pky{border-color:inherit;text-align:left;vertical-align:top}\n",
        ".tg .tg-76qt{border-color:inherit;font-size:13px;text-align:center;vertical-align:top}\n",
        ".tg .tg-0lax{text-align:left;vertical-align:top}\n",
        ".tg .tg-z1yq{font-size:13px;text-align:center;vertical-align:top}\n",
        ".tg .tg-vask{font-size:13px;text-align:left;vertical-align:top}\n",
        "</style>\n",
        "<table class=\"tg\" style=\"undefined;table-layout: fixed; width: 829px\">\n",
        "<colgroup>\n",
        "<col style=\"width: 130px\">\n",
        "<col style=\"width: 188px\">\n",
        "<col style=\"width: 44px\">\n",
        "<col style=\"width: 211px\">\n",
        "<col style=\"width: 204px\">\n",
        "<col style=\"width: 52px\">\n",
        "</colgroup>\n",
        "<thead>\n",
        "  <tr>\n",
        "    <th class=\"tg-c3ow\">Test Case number</th>\n",
        "    <th class=\"tg-0pky\">Description</th>\n",
        "    <th class=\"tg-c3ow\">Input</th>\n",
        "    <th class=\"tg-c3ow\">Expected Output</th>\n",
        "    <th class=\"tg-c3ow\">Actual Output</th>\n",
        "    <th class=\"tg-c3ow\">Result</th>\n",
        "  </tr>\n",
        "</thead>\n",
        "<tbody>\n",
        "  <tr>\n",
        "    <td class=\"tg-c3ow\">1</td>\n",
        "    <td class=\"tg-0pky\">Check the output<br></td>\n",
        "    <td class=\"tg-c3ow\">  12</td>\n",
        "    <td class=\"tg-76qt\">1 is the smallest digit.</td>\n",
        "    <td class=\"tg-76qt\">1 is the smallest digit</td>\n",
        "    <td class=\"tg-c3ow\">&nbsp;&nbsp;Pass</td>\n",
        "  </tr>\n",
        "  <tr>\n",
        "    <td class=\"tg-baqh\">2</td>\n",
        "    <td class=\"tg-0lax\">Check the output</td>\n",
        "    <td class=\"tg-0lax\"> 132</td>\n",
        "    <td class=\"tg-z1yq\">132 is not a two-digit number.</td>\n",
        "    <td class=\"tg-vask\">132 is not a two-digit number.</td>\n",
        "    <td class=\"tg-0lax\">&nbsp;&nbsp;Pass</td>\n",
        "  </tr>\n",
        "  <tr>\n",
        "    <td class=\"tg-c3ow\">3</td>\n",
        "    <td class=\"tg-0pky\">Check for wrong input    </td>\n",
        "    <td class=\"tg-c3ow\">a</td>\n",
        "    <td class=\"tg-c3ow\">&nbsp;&nbsp;&nbsp;error</td>\n",
        "    <td class=\"tg-c3ow\">&nbsp;&nbsp;&nbsp;error</td>\n",
        "    <td class=\"tg-c3ow\">&nbsp;&nbsp;Pass</td>\n",
        "  </tr>\n",
        "</tbody>\n",
        "</table>"
      ],
      "metadata": {
        "id": "nDRmm20atNgC"
      }
    }
  ]
}