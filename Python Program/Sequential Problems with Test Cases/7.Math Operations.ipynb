{
  "nbformat": 4,
  "nbformat_minor": 0,
  "metadata": {
    "colab": {
      "name": " 7.Math Operations.ipynb",
      "provenance": [],
      "collapsed_sections": []
    },
    "kernelspec": {
      "name": "python3",
      "display_name": "Python 3"
    },
    "language_info": {
      "name": "python"
    }
  },
  "cells": [
    {
      "cell_type": "markdown",
      "source": [
        "**7.**Write a program to display sum, difference, product, quotient and reminder of two unequal."
      ],
      "metadata": {
        "id": "e2jxvKUSCifq"
      }
    },
    {
      "cell_type": "code",
      "execution_count": null,
      "metadata": {
        "id": "VM8YAfCMChsH"
      },
      "outputs": [],
      "source": [
        "a=float(input(\"Enter the first number: \"))\n",
        "b=float(input(\"Enter the second number: \"))\n",
        "sum=a+b\n",
        "print(\"Sum= \",sum)\n",
        "difference=a-b\n",
        "print(\"Difference= \",difference)\n",
        "product=a*b\n",
        "print(\"Product= \",product)\n",
        "quotient=a/b\n",
        "print(\"Quotient= \",quotient)\n",
        "reminder=a%b\n",
        "print(\"Reminder= \",reminder)"
      ]
    },
    {
      "cell_type": "markdown",
      "source": [
        "**Test Cases**"
      ],
      "metadata": {
        "id": "zpNay00jDPYO"
      }
    },
    {
      "cell_type": "markdown",
      "source": [
        "<style type=\"text/css\">\n",
        ".tg  {border-collapse:collapse;border-spacing:0;}\n",
        ".tg td{border-color:black;border-style:solid;border-width:1px;font-family:Arial, sans-serif;font-size:14px;\n",
        "  overflow:hidden;padding:10px 5px;word-break:normal;}\n",
        ".tg th{border-color:black;border-style:solid;border-width:1px;font-family:Arial, sans-serif;font-size:14px;\n",
        "  font-weight:normal;overflow:hidden;padding:10px 5px;word-break:normal;}\n",
        ".tg .tg-baqh{text-align:center;vertical-align:top}\n",
        ".tg .tg-0lax{text-align:left;vertical-align:top}\n",
        "</style>\n",
        "<table class=\"tg\">\n",
        "<thead>\n",
        "  <tr>\n",
        "    <th class=\"tg-baqh\">Test Case number</th>\n",
        "    <th class=\"tg-0lax\">Description</th>\n",
        "    <th class=\"tg-0lax\">Input</th>\n",
        "    <th class=\"tg-baqh\">Expected Output</th>\n",
        "    <th class=\"tg-baqh\">Actual Output</th>\n",
        "    <th class=\"tg-0lax\">Result</th>\n",
        "  </tr>\n",
        "</thead>\n",
        "<tbody>\n",
        "  <tr>\n",
        "    <td class=\"tg-baqh\">1</td>\n",
        "    <td class=\"tg-0lax\" rowspan=\"2\"><br><br><br>Check the output for <br>  Math Basic operations</td>\n",
        "    <td class=\"tg-0lax\">&nbsp;&nbsp;&nbsp;4<br>&nbsp;&nbsp;&nbsp;3</td>\n",
        "    <td class=\"tg-baqh\">&nbsp;&nbsp;Sum=7.0<br>&nbsp;&nbsp;Difference=1.0<br>&nbsp;&nbsp;Product=12.0<br>&nbsp;&nbsp;Quotient=1.333<br>&nbsp;&nbsp;Reminder=1.0</td>\n",
        "    <td class=\"tg-baqh\">&nbsp;&nbsp;Sum=7.0<br>&nbsp;&nbsp;Difference=1.0<br>&nbsp;&nbsp;Product=12.0<br>&nbsp;&nbsp;Quotient=1.333<br>&nbsp;&nbsp;Reminder=1.0</td>\n",
        "    <td class=\"tg-0lax\">&nbsp;&nbsp;Pass</td>\n",
        "  </tr>\n",
        "  <tr>\n",
        "    <td class=\"tg-baqh\">2</td>\n",
        "    <td class=\"tg-0lax\">&nbsp;&nbsp;3<br>&nbsp;&nbsp;4</td>\n",
        "    <td class=\"tg-baqh\">&nbsp;&nbsp;Sum=7.0<br>&nbsp;&nbsp;Difference=-1.0<br>&nbsp;&nbsp;Product=12.0<br>&nbsp;&nbsp;Quotient=0.75<br>&nbsp;&nbsp;Reminder=3.0</td>\n",
        "    <td class=\"tg-baqh\">Sum=7.0<br>Difference=-1.0<br>Product=12.0<br>Quotient=0.75<br>Reminder=3.0</td>\n",
        "    <td class=\"tg-0lax\">Pass</td>\n",
        "  </tr>\n",
        "  <tr>\n",
        "    <td class=\"tg-baqh\">3</td>\n",
        "    <td class=\"tg-0lax\">Check for wrong input</td>\n",
        "    <td class=\"tg-0lax\">&nbsp;&nbsp;&nbsp;a<br>&nbsp;&nbsp;&nbsp;b</td>\n",
        "    <td class=\"tg-baqh\">&nbsp;&nbsp;&nbsp;error</td>\n",
        "    <td class=\"tg-baqh\">error</td>\n",
        "    <td class=\"tg-0lax\">&nbsp;&nbsp;Pass</td>\n",
        "  </tr>\n",
        "</tbody>\n",
        "</table>"
      ],
      "metadata": {
        "id": "LA0lsIUGDSeY"
      }
    }
  ]
}