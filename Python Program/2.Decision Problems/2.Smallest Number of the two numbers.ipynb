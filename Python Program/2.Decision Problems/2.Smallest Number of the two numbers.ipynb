{
  "nbformat": 4,
  "nbformat_minor": 0,
  "metadata": {
    "colab": {
      "name": "2.Smallest Number.ipynb",
      "provenance": [],
      "collapsed_sections": []
    },
    "kernelspec": {
      "name": "python3",
      "display_name": "Python 3"
    },
    "language_info": {
      "name": "python"
    }
  },
  "cells": [
    {
      "cell_type": "markdown",
      "source": [
        "**2.Write a program to find the smallest of the three numbers.**"
      ],
      "metadata": {
        "id": "yrhrHQ9uWbbi"
      }
    },
    {
      "cell_type": "code",
      "execution_count": null,
      "metadata": {
        "colab": {
          "base_uri": "https://localhost:8080/"
        },
        "id": "UXTNMnR9WVz3",
        "outputId": "ee932f6a-adc0-417d-8d01-75b30cf35607"
      },
      "outputs": [
        {
          "output_type": "stream",
          "name": "stdout",
          "text": [
            "Enter the first number:0\n",
            "Enter the Second number:-2\n",
            "Enter the third number:-1\n",
            "Smallest number is: -2.0\n"
          ]
        }
      ],
      "source": [
        "a=float(input(\"Enter the first number:\"))\n",
        "b=float(input(\"Enter the Second number:\"))\n",
        "c=float(input(\"Enter the third number:\"))\n",
        "if a<b:\n",
        "  if a<c:\n",
        "    print(\"Smallest number is:\",a)\n",
        "  else:\n",
        "    print(\"Smallest number is:\",c)\n",
        "elif (a==b) and (b==c):\n",
        "    print(\"All three numbers are the same \",a)\n",
        "else :\n",
        "  if c<b:\n",
        "    print(\"Smallest number is:\",c)\n",
        "  else:\n",
        "     print(\"Smallest number is:\",b)"
      ]
    },
    {
      "cell_type": "markdown",
      "source": [
        "**Test Cases**"
      ],
      "metadata": {
        "id": "-hVMeidacYH4"
      }
    },
    {
      "cell_type": "markdown",
      "source": [
        "<style type=\"text/css\">\n",
        ".tg  {border-collapse:collapse;border-spacing:0;}\n",
        ".tg td{border-color:black;border-style:solid;border-width:1px;font-family:Arial, sans-serif;font-size:14px;\n",
        "  overflow:hidden;padding:10px 5px;word-break:normal;}\n",
        ".tg th{border-color:black;border-style:solid;border-width:1px;font-family:Arial, sans-serif;font-size:14px;\n",
        "  font-weight:normal;overflow:hidden;padding:10px 5px;word-break:normal;}\n",
        ".tg .tg-baqh{text-align:center;vertical-align:top}\n",
        ".tg .tg-c3ow{border-color:inherit;text-align:center;vertical-align:top}\n",
        ".tg .tg-0pky{border-color:inherit;text-align:left;vertical-align:top}\n",
        ".tg .tg-f4iu{border-color:inherit;font-size:12px;text-align:center;vertical-align:top}\n",
        ".tg .tg-0lax{text-align:left;vertical-align:top}\n",
        "</style>\n",
        "<table class=\"tg\" style=\"undefined;table-layout: fixed; width: 794px\">\n",
        "<colgroup>\n",
        "<col style=\"width: 125px\">\n",
        "<col style=\"width: 180px\">\n",
        "<col style=\"width: 42px\">\n",
        "<col style=\"width: 202px\">\n",
        "<col style=\"width: 195px\">\n",
        "<col style=\"width: 50px\">\n",
        "</colgroup>\n",
        "<thead>\n",
        "  <tr>\n",
        "    <th class=\"tg-c3ow\">Test Case number</th>\n",
        "    <th class=\"tg-0pky\">Description</th>\n",
        "    <th class=\"tg-c3ow\">Input</th>\n",
        "    <th class=\"tg-c3ow\">Expected Output</th>\n",
        "    <th class=\"tg-c3ow\">Actual Output</th>\n",
        "    <th class=\"tg-c3ow\">Result</th>\n",
        "  </tr>\n",
        "</thead>\n",
        "<tbody>\n",
        "  <tr>\n",
        "    <td class=\"tg-c3ow\">1</td>\n",
        "    <td class=\"tg-0pky\">Check the smallest of the          three numbers<br></td>\n",
        "    <td class=\"tg-c3ow\">45<br>34<br>55</td>\n",
        "    <td class=\"tg-f4iu\">&nbsp;&nbsp;34.0</td>\n",
        "    <td class=\"tg-f4iu\">&nbsp;&nbsp;34.0</td>\n",
        "    <td class=\"tg-c3ow\">&nbsp;&nbsp;Pass</td>\n",
        "  </tr>\n",
        "  <tr>\n",
        "    <td class=\"tg-baqh\">2</td>\n",
        "    <td class=\"tg-0lax\">Check the smallest of the <br>    two same numbers</td>\n",
        "    <td class=\"tg-baqh\">60<br>60<br>60</td>\n",
        "    <td class=\"tg-baqh\">All three numbers are the same 60.</td>\n",
        "    <td class=\"tg-baqh\">All three numbers are the same 60.</td>\n",
        "    <td class=\"tg-baqh\">&nbsp;&nbsp;Pass</td>\n",
        "  </tr>\n",
        "  <tr>\n",
        "    <td class=\"tg-baqh\">3</td>\n",
        "    <td class=\"tg-0lax\">Check the smallest   <br>   negative number</td>\n",
        "    <td class=\"tg-0lax\">  0<br>  -2<br>  -1</td>\n",
        "    <td class=\"tg-baqh\">&nbsp;&nbsp;-2.0</td>\n",
        "    <td class=\"tg-baqh\">&nbsp;&nbsp;-2.0</td>\n",
        "    <td class=\"tg-baqh\">&nbsp;&nbsp;Pass</td>\n",
        "  </tr>\n",
        "  <tr>\n",
        "    <td class=\"tg-c3ow\">4</td>\n",
        "    <td class=\"tg-0pky\">Check for wrong input    </td>\n",
        "    <td class=\"tg-c3ow\"> a<br> b<br>c</td>\n",
        "    <td class=\"tg-c3ow\">&nbsp;&nbsp;&nbsp;error</td>\n",
        "    <td class=\"tg-c3ow\">&nbsp;&nbsp;&nbsp;error</td>\n",
        "    <td class=\"tg-c3ow\">&nbsp;&nbsp;Pass</td>\n",
        "  </tr>\n",
        "</tbody>\n",
        "</table>"
      ],
      "metadata": {
        "id": "QBFgaAvccag5"
      }
    }
  ]
}