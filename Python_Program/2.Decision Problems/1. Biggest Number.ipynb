{
  "nbformat": 4,
  "nbformat_minor": 0,
  "metadata": {
    "colab": {
      "name": "1.Biggest Number.ipynb",
      "provenance": [],
      "collapsed_sections": []
    },
    "kernelspec": {
      "name": "python3",
      "display_name": "Python 3"
    },
    "language_info": {
      "name": "python"
    }
  },
  "cells": [
    {
      "cell_type": "markdown",
      "source": [
        "**1. Write a program to find the biggest of the two numbers.**"
      ],
      "metadata": {
        "id": "Em-m-Cc1R_QX"
      }
    },
    {
      "cell_type": "code",
      "execution_count": null,
      "metadata": {
        "colab": {
          "base_uri": "https://localhost:8080/"
        },
        "id": "vhMXuWZJR51G",
        "outputId": "7f4b7594-2004-4818-99d4-2e633bd69850"
      },
      "outputs": [
        {
          "output_type": "stream",
          "name": "stdout",
          "text": [
            "Enter the first number:-1\n",
            "Enter the second number:-2\n",
            "Biggest number is : -1.0\n"
          ]
        }
      ],
      "source": [
        "a=float(input(\"Enter the first number:\"))\n",
        "b=float(input(\"Enter the second number:\"))\n",
        "if a!=b:\n",
        "  if a>b:\n",
        "    print(\"Biggest number is :\",a)\n",
        "  else :\n",
        "    print(\"Biggest number is : \",b)\n",
        "else:\n",
        "   print(\"Both the numbers are same\",a,\".\")"
      ]
    }
  ]
}