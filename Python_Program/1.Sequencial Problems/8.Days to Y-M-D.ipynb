{
  "nbformat": 4,
  "nbformat_minor": 0,
  "metadata": {
    "colab": {
      "name": "8.Days to Y:M:D .ipynb",
      "provenance": [],
      "collapsed_sections": []
    },
    "kernelspec": {
      "name": "python3",
      "display_name": "Python 3"
    },
    "language_info": {
      "name": "python"
    }
  },
  "cells": [
    {
      "cell_type": "markdown",
      "source": [
        "**8.Write a program to enter the number of days and display into years,months and days.** "
      ],
      "metadata": {
        "id": "nm1GJUViBjUF"
      }
    },
    {
      "cell_type": "code",
      "execution_count": null,
      "metadata": {
        "id": "8n54SUQSBWWZ",
        "colab": {
          "base_uri": "https://localhost:8080/"
        },
        "outputId": "184f62fa-a42d-4a01-dc6a-5410a632f1dd"
      },
      "outputs": [
        {
          "output_type": "stream",
          "name": "stdout",
          "text": [
            "Enter the number of Days: 378\n",
            "Years=  1 : Months=  1 : Days=  1\n"
          ]
        }
      ],
      "source": [
        "days=int(input(\"Enter the number of Days: \"))\n",
        "year=int(days/365)\n",
        "month=int((days-year*365)/12)\n",
        "day=int((days-((year*365)+(month*12))))\n",
        "print(\"Years= \",year,\": Months= \",month,\": Days= \",day)"
      ]
    }
  ]
}