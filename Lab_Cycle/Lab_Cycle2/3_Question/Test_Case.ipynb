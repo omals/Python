{
  "nbformat": 4,
  "nbformat_minor": 0,
  "metadata": {
    "colab": {
      "name": "Untitled3.ipynb",
      "provenance": [],
      "collapsed_sections": []
    },
    "kernelspec": {
      "name": "python3",
      "display_name": "Python 3"
    },
    "language_info": {
      "name": "python"
    }
  },
  "cells": [
    {
      "cell_type": "markdown",
      "source": [
        "<style type=\"text/css\">\n",
        ".tg  {border-collapse:collapse;border-spacing:0;}\n",
        ".tg td{border-style:solid;border-width:0px;font-family:Arial, sans-serif;font-size:14px;overflow:hidden;\n",
        "  padding:10px 5px;word-break:normal;}\n",
        ".tg th{border-style:solid;border-width:0px;font-family:Arial, sans-serif;font-size:14px;font-weight:normal;\n",
        "  overflow:hidden;padding:10px 5px;word-break:normal;}\n",
        ".tg .tg-c3ow{border-color:inherit;text-align:center;vertical-align:top}\n",
        ".tg .tg-mqa1{border-color:#000000;font-weight:bold;text-align:center;vertical-align:top}\n",
        ".tg .tg-ihkz{border-color:inherit;text-align:center;vertical-align:top}\n",
        "</style>\n",
        "<table class=\"tg\" style=\"undefined;table-layout: fixed; width: 845px\">\n",
        "<colgroup>\n",
        "<col style=\"width: 84px\">\n",
        "<col style=\"width: 186px\">\n",
        "<col style=\"width: 151px\">\n",
        "<col style=\"width: 181px\">\n",
        "<col style=\"width: 189px\">\n",
        "<col style=\"width: 54px\">\n",
        "</colgroup>\n",
        "<thead>\n",
        "  <tr>\n",
        "    <th class=\"tg-mqa1\">Test Cases</th>\n",
        "    <th class=\"tg-mqa1\">Description</th>\n",
        "    <th class=\"tg-mqa1\">input</th>\n",
        "    <th class=\"tg-mqa1\">Expected output</th>\n",
        "    <th class=\"tg-mqa1\">Actual output</th>\n",
        "    <th class=\"tg-mqa1\">Result</th>\n",
        "  </tr>\n",
        "</thead>\n",
        "<tbody>\n",
        "  <tr>\n",
        "    <td class=\"tg-c3ow\">1</td>\n",
        "    <td class=\"tg-ihkz\">check output<br></td>\n",
        "    <td class=\"tg-c3ow\">iris.json</td>\n",
        "    <td class=\"tg-ihkz\">list of string <br>list of dictionaries<br>list of setosa species<br>Min and Max area<br>Sort by the total area</td>\n",
        "    <td class=\"tg-c3ow\">list of string <br>list of dictionaries<br>list of setosa species<br>Min and Max area<br>Sort by the total area</td>\n",
        "    <td class=\"tg-ihkz\">pass</td>\n",
        "  </tr>\n",
        "</tbody>\n",
        "</table>"
      ],
      "metadata": {
        "id": "pXED9-NLFoMz"
      }
    },
    {
      "cell_type": "code",
      "execution_count": null,
      "metadata": {
        "id": "2BGIJA7_FnnR"
      },
      "outputs": [],
      "source": [
        ""
      ]
    }
  ]
}