{
  "nbformat": 4,
  "nbformat_minor": 0,
  "metadata": {
    "colab": {
      "name": "15.Binary  number to Decimal Equivalent.ipynb",
      "provenance": [],
      "collapsed_sections": []
    },
    "kernelspec": {
      "name": "python3",
      "display_name": "Python 3"
    },
    "language_info": {
      "name": "python"
    }
  },
  "cells": [
    {
      "cell_type": "markdown",
      "source": [
        "**15. Write a program to find the Decimal equivalent of the Binary number.**"
      ],
      "metadata": {
        "id": "F8wPVyP54Jnt"
      }
    },
    {
      "cell_type": "code",
      "execution_count": 8,
      "metadata": {
        "colab": {
          "base_uri": "https://localhost:8080/"
        },
        "id": "DoYgH9Of4IR8",
        "outputId": "8e63e4f8-5bd4-459a-df40-55aa7f02cf7a"
      },
      "outputs": [
        {
          "output_type": "stream",
          "name": "stdout",
          "text": [
            "Enter the binary number:1010101\n",
            "The Decimal equivalent of 1010101 is 85\n"
          ]
        }
      ],
      "source": [
        "b=int(input(\"Enter the binary number:\"))\n",
        "bt=b\n",
        "i=0\n",
        "sum=0\n",
        "while bt!=0:\n",
        "  e=bt%10\n",
        "  sum=sum+(e*(2**i))\n",
        "  bt=bt//10\n",
        "  i=i+1\n",
        "print(\"The Decimal equivalent of\",b,\"is\",sum)"
      ]
    }
  ]
}