{
  "nbformat": 4,
  "nbformat_minor": 0,
  "metadata": {
    "colab": {
      "name": "Test_Case.ipynb",
      "provenance": [],
      "collapsed_sections": []
    },
    "kernelspec": {
      "name": "python3",
      "display_name": "Python 3"
    },
    "language_info": {
      "name": "python"
    }
  },
  "cells": [
    {
      "cell_type": "markdown",
      "source": [
        "<style type=\"text/css\">\n",
        ".tg  {border-collapse:collapse;border-spacing:0;}\n",
        ".tg td{border-style:solid;border-width:0px;font-family:Arial, sans-serif;font-size:14px;overflow:hidden;\n",
        "  padding:10px 5px;word-break:normal;}\n",
        ".tg th{border-style:solid;border-width:0px;font-family:Arial, sans-serif;font-size:14px;font-weight:normal;\n",
        "  overflow:hidden;padding:10px 5px;word-break:normal;}\n",
        ".tg .tg-sh4c{text-align:center;vertical-align:top}\n",
        ".tg .tg-baqh{text-align:center;vertical-align:top}\n",
        ".tg .tg-c3ow{border-color:inherit;text-align:center;vertical-align:top}\n",
        ".tg .tg-mqa1{border-color:#000000;font-weight:bold;text-align:center;vertical-align:top}\n",
        ".tg .tg-ihkz{border-color:inherit;text-align:center;vertical-align:top}\n",
        "</style>\n",
        "<table class=\"tg\" style=\"undefined;table-layout: fixed; width: 881px\">\n",
        "<colgroup>\n",
        "<col style=\"width: 88px\">\n",
        "<col style=\"width: 194px\">\n",
        "<col style=\"width: 157px\">\n",
        "<col style=\"width: 189px\">\n",
        "<col style=\"width: 197px\">\n",
        "<col style=\"width: 56px\">\n",
        "</colgroup>\n",
        "<thead>\n",
        "  <tr>\n",
        "    <th class=\"tg-mqa1\">Test Cases</th>\n",
        "    <th class=\"tg-mqa1\">Description</th>\n",
        "    <th class=\"tg-mqa1\">input</th>\n",
        "    <th class=\"tg-mqa1\">Expected output</th>\n",
        "    <th class=\"tg-mqa1\">Actual output</th>\n",
        "    <th class=\"tg-mqa1\">Result</th>\n",
        "  </tr>\n",
        "</thead>\n",
        "<tbody>\n",
        "  <tr>\n",
        "    <td class=\"tg-c3ow\">   1.</td>\n",
        "    <td class=\"tg-ihkz\"> check the number of boxes created<br></td>\n",
        "    <td class=\"tg-c3ow\">4</td>\n",
        "    <td class=\"tg-ihkz\">  Cube<br>Square Prism<br>Rectangular Prism<br>Cube<br></td>\n",
        "    <td class=\"tg-c3ow\">   Cube<br>Square Prism<br>Rectangular Prism<br>Cube<br></td>\n",
        "    <td class=\"tg-ihkz\">   pass</td>\n",
        "  </tr>\n",
        "  <tr>\n",
        "    <td class=\"tg-c3ow\"> 2.</td>\n",
        "    <td class=\"tg-ihkz\">   Check for the random values<br></td>\n",
        "    <td class=\"tg-c3ow\">   dimensions</td>\n",
        "    <td class=\"tg-ihkz\"> different values<br></td>\n",
        "    <td class=\"tg-c3ow\"> different values</td>\n",
        "    <td class=\"tg-ihkz\">   pass</td>\n",
        "  </tr>\n",
        "  <tr>\n",
        "    <td class=\"tg-baqh\">   3.</td>\n",
        "    <td class=\"tg-sh4c\"> Check for wrong input<br></td>\n",
        "    <td class=\"tg-baqh\">   a</td>\n",
        "    <td class=\"tg-sh4c\"> error</td>\n",
        "    <td class=\"tg-baqh\"> error</td>\n",
        "    <td class=\"tg-sh4c\">   pass</td>\n",
        "  </tr>\n",
        "</tbody>\n",
        "</table>"
      ],
      "metadata": {
        "id": "pXED9-NLFoMz"
      }
    },
    {
      "cell_type": "code",
      "execution_count": null,
      "metadata": {
        "id": "2BGIJA7_FnnR"
      },
      "outputs": [],
      "source": [
        ""
      ]
    }
  ]
}
