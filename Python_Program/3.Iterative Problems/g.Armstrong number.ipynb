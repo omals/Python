{
  "nbformat": 4,
  "nbformat_minor": 0,
  "metadata": {
    "colab": {
      "name": "7.Armstrong number.ipynb",
      "provenance": [],
      "collapsed_sections": []
    },
    "kernelspec": {
      "name": "python3",
      "display_name": "Python 3"
    },
    "language_info": {
      "name": "python"
    }
  },
  "cells": [
    {
      "cell_type": "markdown",
      "source": [
        "**7. Write a program to check whether the given number is Armstrong or not.**"
      ],
      "metadata": {
        "id": "PutKCG6jSmfh"
      }
    },
    {
      "cell_type": "code",
      "execution_count": null,
      "metadata": {
        "colab": {
          "base_uri": "https://localhost:8080/"
        },
        "id": "oxeGUHIdSfO-",
        "outputId": "b606cc7d-3229-4027-ed27-2e5f91c689b6"
      },
      "outputs": [
        {
          "output_type": "stream",
          "name": "stdout",
          "text": [
            "Enter the number to check:1634\n",
            "1634  is a  4 -digit Armstrong number.\n"
          ]
        }
      ],
      "source": [
        "n=int(input(\"Enter the number to check:\"))\n",
        "q1=q2=n\n",
        "sum=count=0\n",
        "while q2!=0:\n",
        "  count=count+1\n",
        "  q2=q2//10\n",
        "while q1!=0:\n",
        "  r=q1%10\n",
        "  sum=sum+pow(r,count)\n",
        "  q1=q1//10\n",
        "if sum==n:\n",
        "  print(n,\" is a \",count,\"-digit Armstrong number.\")\n",
        "else:\n",
        "  print(n,\" is not a\",count,\"-digit Armstrong number.\")"
      ]
    }
  ]
}