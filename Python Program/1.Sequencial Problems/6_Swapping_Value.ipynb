{
  "nbformat": 4,
  "nbformat_minor": 0,
  "metadata": {
    "colab": {
      "name": " 6.Swapping Value.ipynb",
      "provenance": [],
      "collapsed_sections": []
    },
    "kernelspec": {
      "name": "python3",
      "display_name": "Python 3"
    },
    "language_info": {
      "name": "python"
    }
  },
  "cells": [
    {
      "cell_type": "markdown",
      "source": [
        "**6. Write a program to enter two unequal number and interchange them without using a third variable.**"
      ],
      "metadata": {
        "id": "B84i0C7TFqdJ"
      }
    },
    {
      "cell_type": "code",
      "execution_count": null,
      "metadata": {
        "id": "KBkvSc3ZFnGc",
        "colab": {
          "base_uri": "https://localhost:8080/"
        },
        "outputId": "9c3b1ce9-75c8-4250-bb3d-79c6601de660"
      },
      "outputs": [
        {
          "output_type": "stream",
          "name": "stdout",
          "text": [
            "Enter first number: 3\n",
            "Enter second number: 4\n",
            "first= 4 Second= 3\n"
          ]
        }
      ],
      "source": [
        "a=int(input(\"Enter first number: \"))\n",
        "b=int(input(\"Enter second number: \"))\n",
        "a=a+b\n",
        "b=a-b\n",
        "a=a-b\n",
        "print(\"first=\",a,\"Second=\",b)"
      ]
    }
  ]
}