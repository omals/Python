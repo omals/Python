{
  "nbformat": 4,
  "nbformat_minor": 0,
  "metadata": {
    "colab": {
      "name": "testcase7.ipynb",
      "provenance": []
    },
    "kernelspec": {
      "name": "python3",
      "display_name": "Python 3"
    },
    "language_info": {
      "name": "python"
    }
  },
  "cells": [
    {
      "cell_type": "markdown",
      "source": [
        "<style type=\"text/css\">\n",
        ".tg  {border-collapse:collapse;border-spacing:0;}\n",
        ".tg td{border-color:black;border-style:solid;border-width:1px;font-family:Arial, sans-serif;font-size:14px;\n",
        "  overflow:hidden;padding:10px 5px;word-break:normal;}\n",
        ".tg th{border-color:black;border-style:solid;border-width:1px;font-family:Arial, sans-serif;font-size:14px;\n",
        "  font-weight:normal;overflow:hidden;padding:10px 5px;word-break:normal;}\n",
        ".tg .tg-baqh{text-align:center;vertical-align:top}\n",
        "</style>\n",
        "<table class=\"tg\">\n",
        "<thead>\n",
        "  <tr>\n",
        "    <th class=\"tg-mqa1\">Test Cases</th>\n",
        "    <th class=\"tg-mqa1\">Description</th>\n",
        "    <th class=\"tg-mqa1\">input</th>\n",
        "    <th class=\"tg-mqa1\">Expected output</th>\n",
        "    <th class=\"tg-mqa1\">Actual output</th>\n",
        "    <th class=\"tg-mqa1\">Result</th>\n",
        "  </tr>\n",
        "</thead>\n",
        "<tbody>\n",
        "  <tr>\n",
        "    <td class=\"tg-baqh\">1</td>\n",
        "    <td class=\"tg-sh4c\" rowspan=\"2\">check output from list of <br>number input<br></td>\n",
        "    <td class=\"tg-baqh\">23 4 5 6 234 4 3 1</td>\n",
        "    <td class=\"tg-sh4c\">list of string</td>\n",
        "    <td class=\"tg-baqh\">list of string</td>\n",
        "    <td class=\"tg-sh4c\">pass</td>\n",
        "  </tr>\n",
        "  <tr>\n",
        "    <td class=\"tg-baqh\">2</td>\n",
        "    <td class=\"tg-baqh\">23 4 5 6 234 4 3 1</td>\n",
        "    <td class=\"tg-sh4c\">list of integers</td>\n",
        "    <td class=\"tg-baqh\">list of integers</td>\n",
        "    <td class=\"tg-sh4c\">pass</td>\n",
        "  </tr>\n",
        "  <tr>\n",
        "    <td class=\"tg-baqh\">3</td>\n",
        "    <td class=\"tg-sh4c\">check output of rotation</td>\n",
        "    <td class=\"tg-baqh\">5</td>\n",
        "    <td class=\"tg-sh4c\">rotated list</td>\n",
        "    <td class=\"tg-baqh\">rotated list</td>\n",
        "    <td class=\"tg-sh4c\">pass</td>\n",
        "  </tr>\n",
        "  <tr>\n",
        "    <td class=\"tg-baqh\">4</td>\n",
        "    <td class=\"tg-sh4c\">Check value of function</td>\n",
        "    <td class=\"tg-baqh\">f(x)=x^{2}-x</td>\n",
        "    <td class=\"tg-sh4c\">list of integers</td>\n",
        "    <td class=\"tg-baqh\">list of integers</td>\n",
        "    <td class=\"tg-sh4c\">pass</td>\n",
        "  </tr>\n",
        "  <tr>\n",
        "    <td class=\"tg-baqh\">5</td>\n",
        "    <td class=\"tg-sh4c\">check for Sorted list</td>\n",
        "    <td class=\"tg-baqh\">23 4 5 6 234 4 3 1<br>0 6 12 20 30 54522 50</td>\n",
        "    <td class=\"tg-sh4c\">sorted list</td>\n",
        "    <td class=\"tg-baqh\">sorted list</td>\n",
        "    <td class=\"tg-sh4c\">pass</td>\n",
        "  </tr>\n",
        "  <tr>\n",
        "    <td class=\"tg-baqh\">6</td>\n",
        "    <td class=\"tg-sh4c\">check string input</td>\n",
        "    <td class=\"tg-baqh\">e wr r</td>\n",
        "    <td class=\"tg-sh4c\">error</td>\n",
        "    <td class=\"tg-baqh\">error</td>\n",
        "    <td class=\"tg-sh4c\">pass</td>\n",
        "  </tr>\n",
        "</tbody>\n",
        "</table>\n",
        "\n"
      ],
      "metadata": {
        "id": "N-SfnQ9nmfPk"
      }
    },
    {
      "cell_type": "code",
      "execution_count": null,
      "metadata": {
        "id": "Ssn8fV1bmeKF"
      },
      "outputs": [],
      "source": [
        ""
      ]
    }
  ]
}