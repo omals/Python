{
  "nbformat": 4,
  "nbformat_minor": 0,
  "metadata": {
    "colab": {
      "name": " 1.Average of three numbers.ipynb",
      "provenance": [],
      "collapsed_sections": []
    },
    "kernelspec": {
      "name": "python3",
      "display_name": "Python 3"
    },
    "language_info": {
      "name": "python"
    }
  },
  "cells": [
    {
      "cell_type": "markdown",
      "source": [
        "**1. Write a program to print the average of three numbers.**"
      ],
      "metadata": {
        "id": "PPhWnb3nM1T-"
      }
    },
    {
      "cell_type": "code",
      "execution_count": 1,
      "metadata": {
        "id": "R9rjd4m-M0PA",
        "colab": {
          "base_uri": "https://localhost:8080/"
        },
        "outputId": "b168f8f8-2c61-4694-e9c1-5a472ad4eb1d"
      },
      "outputs": [
        {
          "output_type": "stream",
          "name": "stdout",
          "text": [
            "Enter number1: 5\n",
            "Enter number1: 5\n",
            "Enter number1: 4\n",
            "Average= 4\n"
          ]
        }
      ],
      "source": [
        "a=int(input(\"Enter number1: \"))\n",
        "b=int(input(\"Enter number1: \"))\n",
        "c=int(input(\"Enter number1: \"))\n",
        "sum=a+b+c\n",
        "average=sum//3\n",
        "print(\"Average=\",average)"
      ]
    },
    {
      "cell_type": "markdown",
      "source": [
        "**Test Cases**"
      ],
      "metadata": {
        "id": "Nf2vNEEENAgJ"
      }
    },
   
}