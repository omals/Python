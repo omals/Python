{
  "nbformat": 4,
  "nbformat_minor": 0,
  "metadata": {
    "colab": {
      "name": "2. Sum of first N natural number.ipynb",
      "provenance": [],
      "collapsed_sections": []
    },
    "kernelspec": {
      "name": "python3",
      "display_name": "Python 3"
    },
    "language_info": {
      "name": "python"
    }
  },
  "cells": [
    {
      "cell_type": "markdown",
      "source": [
        "**2. Write a program to find the sum of first 'N' natural number.**"
      ],
      "metadata": {
        "id": "fx3Rw75X9IW6"
      }
    },
    {
      "cell_type": "code",
      "execution_count": null,
      "metadata": {
        "id": "0Kn-MNP18-GR",
        "colab": {
          "base_uri": "https://localhost:8080/"
        },
        "outputId": "5c90ec83-8793-4237-ff38-c9acfe7e3b07"
      },
      "outputs": [
        {
          "output_type": "stream",
          "name": "stdout",
          "text": [
            "Enter the limit: 100\n",
            "Sum of first  100  natural number is 5050\n"
          ]
        }
      ],
      "source": [
        "n=int(input(\"Enter the limit: \"))\n",
        "sum=0\n",
        "for i in range(1,n+1):\n",
        "  sum=sum+i\n",
        "print(\"Sum of first \",n,\" natural number is\",sum)"
      ]
    }
  ]
}