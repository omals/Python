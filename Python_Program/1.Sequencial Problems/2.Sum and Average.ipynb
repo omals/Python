{
  "nbformat": 4,
  "nbformat_minor": 0,
  "metadata": {
    "colab": {
      "name": " 2.Sum and Average .ipynb",
      "provenance": [],
      "collapsed_sections": []
    },
    "kernelspec": {
      "name": "python3",
      "display_name": "Python 3"
    },
    "language_info": {
      "name": "python"
    }
  },
  "cells": [
    {
      "cell_type": "markdown",
      "source": [
        "**2. Write a program to print the sum and average of three numbers.**"
      ],
      "metadata": {
        "id": "IZBz_nYwLrlG"
      }
    },
    {
      "cell_type": "code",
      "execution_count": null,
      "metadata": {
        "id": "Ixsxth7FLqxX",
        "colab": {
          "base_uri": "https://localhost:8080/"
        },
        "outputId": "0cbe4dd6-6cd0-4a6b-daea-7c51d014a323"
      },
      "outputs": [
        {
          "output_type": "stream",
          "name": "stdout",
          "text": [
            "Enter the number1: 5\n",
            "Enter the number2: 5\n",
            "Enter the number3: 4\n",
            "Sum= 14\n",
            "Average= 4\n"
          ]
        }
      ],
      "source": [
        "num1=int(input(\"Enter the number1: \"))\n",
        "num2=int(input(\"Enter the number2: \"))\n",
        "num3=int(input(\"Enter the number3: \"))\n",
        "sum=num1+num2+num3\n",
        "average=sum//3\n",
        "print(\"Sum=\",sum)\n",
        "print(\"Average=\",average)"
      ]
    }
  ]
}