{
  "nbformat": 4,
  "nbformat_minor": 0,
  "metadata": {
    "colab": {
      "name": "Test_Case.ipynb",
      "provenance": [],
      "collapsed_sections": []
    },
    "kernelspec": {
      "name": "python3",
      "display_name": "Python 3"
    },
    "language_info": {
      "name": "python"
    }
  },
  "cells": [
    {
      "cell_type": "markdown",
      "source": [
        "**Test Cases**\n",
        "\n",
        "\n",
        "<style type=\"text/css\">\n",
        ".tg  {border-collapse:collapse;border-spacing:0;}\n",
        ".tg td{border-color:black;border-style:solid;border-width:1px;font-family:Arial, sans-serif;font-size:14px;\n",
        "  overflow:hidden;padding:10px 5px;word-break:normal;}\n",
        ".tg th{border-color:black;border-style:solid;border-width:1px;font-family:Arial, sans-serif;font-size:14px;\n",
        "  font-weight:normal;overflow:hidden;padding:10px 5px;word-break:normal;}\n",
        ".tg .tg-0pky{border-color:inherit;text-align:left;vertical-align:top}\n",
        ".tg .tg-0lax{text-align:left;vertical-align:top}\n",
        "</style>\n",
        "<table class=\"tg\">\n",
        "<thead>\n",
        "  <tr>\n",
        "    <th class=\"tg-0pky\">Test Cases</th>\n",
        "    <th class=\"tg-0pky\">Description</th>\n",
        "    <th class=\"tg-0pky\">Input</th>\n",
        "    <th class=\"tg-0lax\">Expected output</th>\n",
        "    <th class=\"tg-0lax\">Actual Output</th>\n",
        "    <th class=\"tg-0lax\">Result<br></th>\n",
        "  </tr>\n",
        "</thead>\n",
        "<tbody>\n",
        "  <tr>\n",
        "    <td class=\"tg-0pky\">1</td>\n",
        "    <td class=\"tg-0pky\">Check .csv file&nbsp;&nbsp;output of bar<br> graph</td>\n",
        "    <td class=\"tg-0pky\">Iris.csv file</td>\n",
        "    <td class=\"tg-0lax\">Bar Graph<br></td>\n",
        "    <td class=\"tg-0lax\">Bar Graph</td>\n",
        "    <td class=\"tg-0lax\">Pass</td>\n",
        "  </tr>\n",
        "  <tr>\n",
        "    <td class=\"tg-0pky\">2</td>\n",
        "    <td class=\"tg-0pky\">Display Scattered Graph for <br>Principal Component Values<br></td>\n",
        "    <td class=\"tg-0pky\">SepalLengthCm<br>SepalWidthCm<br>PetalLengthCm<br>PetalWidthCm<br></td>\n",
        "    <td class=\"tg-0lax\">Scattered Graph<br></td>\n",
        "    <td class=\"tg-0lax\">Scattered Graph</td>\n",
        "    <td class=\"tg-0lax\">pass</td>\n",
        "  </tr>\n",
        "  <tr>\n",
        "    <td class=\"tg-0lax\">3</td>\n",
        "    <td class=\"tg-0lax\">Display separate Histogram<br>for SepalLengthCmSepalWidthCm<br>PetalLengthCm<br>PetalWidthCm</td>\n",
        "    <td class=\"tg-0lax\">Iris.csv file</td>\n",
        "    <td class=\"tg-0lax\">Histogram<br></td>\n",
        "    <td class=\"tg-0lax\">Histogram</td>\n",
        "    <td class=\"tg-0lax\">Pass</td>\n",
        "  </tr>\n",
        "</tbody>\n",
        "</table>"
      ],
      "metadata": {
        "id": "-is4PduMhyfP"
      }
    },
    {
      "cell_type": "code",
      "execution_count": null,
      "metadata": {
        "id": "hnwKASB3hxeJ"
      },
      "outputs": [],
      "source": [
        ""
      ]
    }
  ]
}