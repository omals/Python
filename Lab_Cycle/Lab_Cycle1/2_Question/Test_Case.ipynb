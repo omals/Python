{
  "nbformat": 4,
  "nbformat_minor": 0,
  "metadata": {
    "colab": {
      "name": "Test_Case.ipynb",
      "provenance": [],
      "collapsed_sections": []
    },
    "kernelspec": {
      "name": "python3",
      "display_name": "Python 3"
    },
    "language_info": {
      "name": "python"
    }
  },
  "cells": [
    {
      "cell_type": "markdown",
      "source": [
        "**Test Cases**\n",
        "\n",
        "<style type=\"text/css\">\n",
        ".tg  {border-collapse:collapse;border-spacing:0;}\n",
        ".tg td{border-color:black;border-style:solid;border-width:1px;font-family:Arial, sans-serif;font-size:14px;\n",
        "  overflow:hidden;padding:10px 5px;word-break:normal;}\n",
        ".tg th{border-color:black;border-style:solid;border-width:1px;font-family:Arial, sans-serif;font-size:14px;\n",
        "  font-weight:normal;overflow:hidden;padding:10px 5px;word-break:normal;}\n",
        ".tg .tg-baqh{text-align:center;vertical-align:top}\n",
        "</style>\n",
        "<table class=\"tg\">\n",
        "<thead>\n",
        "  <tr>\n",
        "    <th class=\"tg-baqh\">Test Case No.</th>\n",
        "    <th class=\"tg-baqh\">Description</th>\n",
        "    <th class=\"tg-baqh\">input</th>\n",
        "    <th class=\"tg-baqh\">Expected output</th>\n",
        "    <th class=\"tg-baqh\">Actual output</th>\n",
        "    <th class=\"tg-baqh\">Result</th>\n",
        "  </tr>\n",
        "</thead>\n",
        "<tbody>\n",
        "  <tr>\n",
        "    <td class=\"tg-baqh\">1</td>\n",
        "    <td class=\"tg-baqh\">Check for area of two triangle</td>\n",
        "    <td class=\"tg-baqh\">3,4,5<br><br>12,13,5<br></td>\n",
        "    <td class=\"tg-baqh\">6.0<br><br>36.0<br></td>\n",
        "    <td class=\"tg-baqh\">6.0<br><br>36.0<br></td>\n",
        "    <td class=\"tg-baqh\">Pass</td>\n",
        "  </tr>\n",
        "  <tr>\n",
        "    <td class=\"tg-baqh\">2</td>\n",
        "    <td class=\"tg-baqh\">Check for contribution<br>of each triangle<br></td>\n",
        "    <td class=\"tg-baqh\">3,4,5<br><br>12,13,5<br></td>\n",
        "    <td class=\"tg-baqh\">16.66666<br><br>83.3333<br></td>\n",
        "    <td class=\"tg-baqh\">16.6666<br><br>83.3333<br></td>\n",
        "    <td class=\"tg-baqh\">Pass</td>\n",
        "  </tr>\n",
        "  <tr>\n",
        "    <td class=\"tg-baqh\">3</td>\n",
        "    <td class=\"tg-baqh\">Wrong input<br></td>\n",
        "    <td class=\"tg-baqh\">at</td>\n",
        "    <td class=\"tg-baqh\">error</td>\n",
        "    <td class=\"tg-baqh\">error</td>\n",
        "    <td class=\"tg-baqh\">Pass</td>\n",
        "  </tr>\n",
        "</tbody>\n",
        "</table>"
      ],
      "metadata": {
        "id": "eiuVX9XYocul"
      }
    }
  ]
}