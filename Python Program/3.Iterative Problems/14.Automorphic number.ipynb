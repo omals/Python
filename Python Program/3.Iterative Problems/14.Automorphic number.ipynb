{
  "nbformat": 4,
  "nbformat_minor": 0,
  "metadata": {
    "colab": {
      "name": "14.Automorphic number.ipynb",
      "provenance": [],
      "collapsed_sections": []
    },
    "kernelspec": {
      "name": "python3",
      "display_name": "Python 3"
    },
    "language_info": {
      "name": "python"
    }
  },
  "cells": [
    {
      "cell_type": "markdown",
      "source": [
        "**14. Write program to check whether a given number is Automorphic or not.**"
      ],
      "metadata": {
        "id": "VyeWe9vl1o0v"
      }
    },
    {
      "cell_type": "code",
      "execution_count": 8,
      "metadata": {
        "colab": {
          "base_uri": "https://localhost:8080/"
        },
        "id": "DQtXrhv61n7l",
        "outputId": "dec961f4-cd9f-42a0-f4f0-87fd855d85ba"
      },
      "outputs": [
        {
          "output_type": "stream",
          "name": "stdout",
          "text": [
            "Enter the number:376\n",
            "376  is an Automorphic number.\n"
          ]
        }
      ],
      "source": [
        "n=int(input(\"Enter the number:\"))\n",
        "q=abs(n)\n",
        "count=0\n",
        "while q!=0:\n",
        "  count=count+1\n",
        "  q=q//10\n",
        "p= n**2\n",
        "if p%(10**count)==n:\n",
        "  print(n,\" is an Automorphic number.\")\n",
        "else:\n",
        "  print(n,\" is not an Automorphic number.\")"
      ]
    }
  ]
}