{
  "nbformat": 4,
  "nbformat_minor": 0,
  "metadata": {
    "colab": {
      "name": "12.Squares of natural numbers.ipynb",
      "provenance": [],
      "collapsed_sections": []
    },
    "kernelspec": {
      "name": "python3",
      "display_name": "Python 3"
    },
    "language_info": {
      "name": "python"
    }
  },
  "cells": [
    {
      "cell_type": "markdown",
      "source": [
        "**12. Write a program to print the squares of natural numbers between two numbers.**"
      ],
      "metadata": {
        "id": "ST9ONIW2vfBE"
      }
    },
    {
      "cell_type": "code",
      "execution_count": 5,
      "metadata": {
        "colab": {
          "base_uri": "https://localhost:8080/"
        },
        "id": "9a75olPxvdvV",
        "outputId": "fcc3ee49-2bc2-47d7-c241-ed0583171455"
      },
      "outputs": [
        {
          "output_type": "stream",
          "name": "stdout",
          "text": [
            "Enter the lower limit:1\n",
            "Enter the upper limit:20\n",
            "Squares of Natural numbers.\n",
            "4 9 16 25 36 49 64 81 100 121 144 169 196 225 256 289 324 361 "
          ]
        }
      ],
      "source": [
        "a=int(input(\"Enter the lower limit:\"))\n",
        "b=int(input(\"Enter the upper limit:\"))\n",
        "print(\"Squares of Natural numbers.\")\n",
        "for i in range(a+1,b):\n",
        "  s = pow(i,2)\n",
        "  print(s,end=\" \")"
      ]
    }
  ]
}