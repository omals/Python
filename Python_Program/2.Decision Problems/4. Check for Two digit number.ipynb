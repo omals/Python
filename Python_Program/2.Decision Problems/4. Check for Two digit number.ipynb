{
  "nbformat": 4,
  "nbformat_minor": 0,
  "metadata": {
    "colab": {
      "name": "4.Check for Two_digit number.ipynb",
      "provenance": [],
      "collapsed_sections": []
    },
    "kernelspec": {
      "name": "python3",
      "display_name": "Python 3"
    },
    "language_info": {
      "name": "python"
    }
  },
  "cells": [
    {
      "cell_type": "markdown",
      "source": [
        "**4. Write a program to check whether the given number is two digit or not.**"
      ],
      "metadata": {
        "id": "Mqz_Se_VirId"
      }
    },
    {
      "cell_type": "code",
      "execution_count": null,
      "metadata": {
        "colab": {
          "base_uri": "https://localhost:8080/"
        },
        "id": "lkKUqNupipW_",
        "outputId": "3360caf3-2147-4fe2-e172-f16c9e49f4b2"
      },
      "outputs": [
        {
          "output_type": "stream",
          "name": "stdout",
          "text": [
            "Enter the number:12\n",
            "12  is a two digit number.\n"
          ]
        }
      ],
      "source": [
        "a=int(input(\"Enter the number:\"))\n",
        "b=a\n",
        "a=a//100\n",
        "if a==0:\n",
        "  print(b,\" is a two digit number.\")\n",
        "else:\n",
        "  print(b,\" is not a two digit number.\")"
      ]
    }
  ]
}