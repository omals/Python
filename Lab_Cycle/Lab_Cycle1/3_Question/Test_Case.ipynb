{
  "nbformat": 4,
  "nbformat_minor": 0,
  "metadata": {
    "colab": {
      "name": "Test_Case.ipynb",
      "provenance": [],
      "collapsed_sections": []
    },
    "kernelspec": {
      "name": "python3",
      "display_name": "Python 3"
    },
    "language_info": {
      "name": "python"
    }
  },
  "cells": [
    {
      "cell_type": "markdown",
      "source": [
        "**Test Cases**\n",
        "\n",
        <style type="text/css">
.tg  {border-collapse:collapse;border-spacing:0;}
.tg td{border-color:black;border-style:solid;border-width:1px;font-family:Arial, sans-serif;font-size:14px;
  overflow:hidden;padding:10px 5px;word-break:normal;}
.tg th{border-color:black;border-style:solid;border-width:1px;font-family:Arial, sans-serif;font-size:14px;
  font-weight:normal;overflow:hidden;padding:10px 5px;word-break:normal;}
.tg .tg-c3ow{border-color:inherit;text-align:center;vertical-align:top}
.tg .tg-7btt{border-color:inherit;font-weight:bold;text-align:center;vertical-align:top}
.tg .tg-0pky{border-color:inherit;text-align:left;vertical-align:top}
</style>
<table class="tg" style="undefined;table-layout: fixed; width: 987px">
<colgroup>
<col style="width: 110px">
<col style="width: 215px">
<col style="width: 116px">
<col style="width: 241px">
<col style="width: 239px">
<col style="width: 66px">
</colgroup>
<thead>
  <tr>
    <th class="tg-7btt">Test Cases No.</th>
    <th class="tg-7btt">Descripton</th>
    <th class="tg-7btt">Input</th>
    <th class="tg-7btt">Expected output</th>
    <th class="tg-7btt">Actual output</th>
    <th class="tg-7btt">result</th>
  </tr>
</thead>
<tbody>
  <tr>
    <td class="tg-c3ow">1</td>
    <td class="tg-0pky">check for output if the basic pay<br>less than '10000'<br></td>
    <td class="tg-c3ow">8500</td>
    <td class="tg-0pky">Dearness Allowance       : 5 %<br>House Rent Allowance     : 2.5 %<br>Medical Allowance        : 500<br>Professional Tax         : 20<br>Provident Fund           : 8%<br>Income Tax               : 0%<br>Deduction              =   28<br>Gross salary           =   9007.5<br>Net Salary             =   8979.5</td>
    <td class="tg-0pky">Dearness Allowance       : 5 %<br>House Rent Allowance     : 2.5 %<br>Medical Allowance        : 500<br>Professional Tax         : 20<br>Provident Fund           : 8%<br>Income Tax               : 0%<br>Deduction              =   28<br>Gross salary           =   9007.5<br>Net Salary             =   8979.5</td>
    <td class="tg-c3ow">Pass</td>
  </tr>
  <tr>
    <td class="tg-c3ow">2.</td>
    <td class="tg-0pky">Check for output if the basic pay<br>less than '30000'<br></td>
    <td class="tg-c3ow">25000</td>
    <td class="tg-0pky">Dearness Allowance       : 7.5 %<br>House Rent Allowance     : 5 %<br>Medical Allowance        : 2500<br>Professional Tax         : 60<br>Provident Fund           : 8%<br>Income Tax               : 0%<br>Deduction              =   68<br>Gross salary           =   27512.5<br>Net Salary             =   27444.5</td>
    <td class="tg-0pky">Dearness Allowance       : 7.5 %<br>House Rent Allowance     : 5 %<br>Medical Allowance        : 2500<br>Professional Tax         : 60<br>Provident Fund           : 8%<br>Income Tax               : 0%<br>Deduction              =   68<br>Gross salary           =   27512.5<br>Net Salary             =   27444.5</td>
    <td class="tg-c3ow">Pass</td>
  </tr>
  <tr>
    <td class="tg-c3ow">3.</td>
    <td class="tg-0pky">Check for output if the basic pay <br>less than '50000'<br></td>
    <td class="tg-c3ow">45000</td>
    <td class="tg-0pky">Dearness Allowance       : 11 %<br>House Rent Allowance     : 7.5 %<br>Medical Allowance        : 5000<br>Professional Tax         : 60<br>Provident Fund           : 11 %<br>Income Tax               : 11 %<br>Deduction              =   82<br>Gross salary           =   50018.5<br>Net Salary             =   49936.5</td>
    <td class="tg-0pky">Dearness Allowance       : 11 %<br>House Rent Allowance     : 7.5 %<br>Medical Allowance        : 5000<br>Professional Tax         : 60<br>Provident Fund           : 11 %<br>Income Tax               : 11 %<br>Deduction              =   82<br>Gross salary           =   50018.5<br>Net Salary             =   49936.5</td>
    <td class="tg-c3ow">Pass</td>
  </tr>
  <tr>
    <td class="tg-c3ow">4.</td>
    <td class="tg-0pky">Check for output if the basic pay <br>greater the '50000'<br></td>
    <td class="tg-c3ow">60000</td>
    <td class="tg-0pky">Dearness Allowance       : 25 %<br>House Rent Allowance     : 11 %<br>Medical Allowance        : 7000<br>Professional Tax         : 80<br>Provident Fund           : 12 %<br>Income Tax               : 20 %<br>Deduction              =   112<br>Gross salary           =   67036.0<br>Net Salary             =   66924.0</td>
    <td class="tg-0pky">Dearness Allowance       : 25 %<br>House Rent Allowance     : 11 %<br>Medical Allowance        : 7000<br>Professional Tax         : 80<br>Provident Fund           : 12 %<br>Income Tax               : 20 %<br>Deduction              =   112<br>Gross salary           =   67036.0<br>Net Salary             =   66924.0</td>
    <td class="tg-c3ow">pass</td>
  </tr>
  <tr>
    <td class="tg-c3ow">5.</td>
    <td class="tg-0pky">Check for wrong input<br></td>
    <td class="tg-c3ow">abf</td>
    <td class="tg-c3ow">error</td>
    <td class="tg-c3ow">error</td>
    <td class="tg-c3ow">pass</td>
  </tr>
</tbody>
</table>
      ],
      "metadata": {
        "id": "allD3viWnSXd"
      }
    }
  ]
}
