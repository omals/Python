{
  "nbformat": 4,
  "nbformat_minor": 0,
  "metadata": {
    "colab": {
      "name": "Test_Case.ipynb",
      "provenance": [],
      "collapsed_sections": []
    },
    "kernelspec": {
      "name": "python3",
      "display_name": "Python 3"
    },
    "language_info": {
      "name": "python"
    }
  },
  "cells": [
    {
      "cell_type": "markdown",
      "source": [
        "<style type=\"text/css\">\n",
        "\n",
        "*   List item\n",
        "*   List item\n",
        "\n",
        "\n",
        ".tg  {border-collapse:collapse;border-spacing:0;}\n",
        ".tg td{border-color:black;border-style:solid;border-width:1px;font-family:Arial, sans-serif;font-size:14px;\n",
        "  overflow:hidden;padding:10px 5px;word-break:normal;}\n",
        ".tg th{border-color:black;border-style:solid;border-width:1px;font-family:Arial, sans-serif;font-size:14px;\n",
        "  font-weight:normal;overflow:hidden;padding:10px 5px;word-break:normal;}\n",
        ".tg .tg-sh4c{text-align:center;vertical-align:top}\n",
        ".tg .tg-baqh{text-align:center;vertical-align:top}\n",
        ".tg .tg-mqa1{border-color:#000000;font-weight:bold;text-align:center;vertical-align:top}\n",
        ".tg .tg-tf2e{text-align:left;vertical-align:top}\n",
        ".tg .tg-0lax{text-align:left;vertical-align:top}\n",
        "</style>\n",
        "<table class=\"tg\" style=\"undefined;table-layout: fixed; width: 845px\">\n",
        "<colgroup>\n",
        "<col style=\"width: 84px\">\n",
        "<col style=\"width: 186px\">\n",
        "<col style=\"width: 151px\">\n",
        "<col style=\"width: 181px\">\n",
        "<col style=\"width: 189px\">\n",
        "<col style=\"width: 54px\">\n",
        "</colgroup>\n",
        "<thead>\n",
        "<tr>\n",
        "    <th class=\"tg-mqa1\">Test Cases</th>\n",
        "    <th class=\"tg-mqa1\">Description</th>\n",
        "    <th class=\"tg-mqa1\">input</th>\n",
        "    <th class=\"tg-mqa1\">Expected output</th>\n",
        "    <th class=\"tg-mqa1\">Actual output</th>\n",
        "    <th class=\"tg-mqa1\">Result</th>\n",
        "  </tr>\n",
        "</thead>\n",
        "<tbody>\n",
        "  <tr>\n",
        "    <td class=\"tg-c3ow\">1</td>\n",
        "    <td class=\"tg-ihkz\">check output<br></td>\n",
        "    <td class=\"tg-c3ow\">iris.json</td>\n",
        "    <td class=\"tg-ihkz\">list of string <br>list of dictionaries<br>list of setosa species<br>Min and Max area<br>Sort by the total area</td>\n",
        "    <td class=\"tg-c3ow\">list of string <br>list of dictionaries<br>list of setosa species<br>Min and Max area<br>Sort by the total area</td>\n",
        "    <td class=\"tg-ihkz\">pass</td>\n",
        "  </tr>\n",
        "</tbody>\n",
        "</table>\n",
        "\n"
      ],
      "metadata": {
        "id": "sIDtUZ-7Bg2w"
      }
    },
    {
      "cell_type": "code",
      "execution_count": null,
      "metadata": {
        "id": "AiOIq6q2BgDC"
      },
      "outputs": [],
      "source": [
        ""
      ]
    }
  ]
}