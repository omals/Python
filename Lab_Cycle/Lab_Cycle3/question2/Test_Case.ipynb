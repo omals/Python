{
  "nbformat": 4,
  "nbformat_minor": 0,
  "metadata": {
    "colab": {
      "name": "Test_Case.ipynb",
      "provenance": [],
      "collapsed_sections": []
    },
    "kernelspec": {
      "name": "python3",
      "display_name": "Python 3"
    },
    "language_info": {
      "name": "python"
    }
  },
  "cells": [
    {
      "cell_type": "markdown",
      "source": [
        "**Test Case**\n",
        "\n",
        "\n",
        "<style type=\"text/css\">\n",
        ".tg  {border-collapse:collapse;border-spacing:0;}\n",
        ".tg td{border-color:black;border-style:solid;border-width:1px;font-family:Arial, sans-serif;font-size:14px;\n",
        "  overflow:hidden;padding:10px 5px;word-break:normal;}\n",
        ".tg th{border-color:black;border-style:solid;border-width:1px;font-family:Arial, sans-serif;font-size:14px;\n",
        "  font-weight:normal;overflow:hidden;padding:10px 5px;word-break:normal;}\n",
        ".tg .tg-0pky{border-color:inherit;text-align:left;vertical-align:top}\n",
        ".tg .tg-0lax{text-align:left;vertical-align:top}\n",
        "</style>\n",
        "<table class=\"tg\">\n",
        "<thead>\n",
        "  <tr>\n",
        "    <th class=\"tg-0pky\">Test Cases</th>\n",
        "    <th class=\"tg-0pky\">Description</th>\n",
        "    <th class=\"tg-0pky\">Input</th>\n",
        "    <th class=\"tg-0lax\">Expected output</th>\n",
        "    <th class=\"tg-0lax\">Actual Output</th>\n",
        "    <th class=\"tg-0lax\">Result<br></th>\n",
        "  </tr>\n",
        "</thead>\n",
        "<tbody>\n",
        "  <tr>\n",
        "    <td class=\"tg-0pky\">1</td>\n",
        "    <td class=\"tg-0pky\">Check Matrix input</td>\n",
        "    <td class=\"tg-0pky\">90 60 90<br>90 90 30<br>60 60 60<br>60 60 90<br>30 30 30</td>\n",
        "    <td class=\"tg-0lax\">Inputed matrix is displayed</td>\n",
        "    <td class=\"tg-0lax\">Inputed matrix is displayed</td>\n",
        "    <td class=\"tg-0lax\">Pass</td>\n",
        "  </tr>\n",
        "  <tr>\n",
        "    <td class=\"tg-0pky\">2</td>\n",
        "    <td class=\"tg-0pky\">Check for covariance,<br>Eigen Value,Eigen Vector<br></td>\n",
        "    <td class=\"tg-0pky\">Matrix input</td>\n",
        "    <td class=\"tg-0lax\">Value obtained</td>\n",
        "    <td class=\"tg-0lax\">value obtained</td>\n",
        "    <td class=\"tg-0lax\">pass</td>\n",
        "  </tr>\n",
        "  <tr>\n",
        "    <td class=\"tg-0lax\">3</td>\n",
        "    <td class=\"tg-0lax\">Check for Principal <br>Component Analysis two values<br></td>\n",
        "    <td class=\"tg-0lax\">Matrix input</td>\n",
        "    <td class=\"tg-0lax\">Two P C A Values</td>\n",
        "    <td class=\"tg-0lax\">Two P C A Values</td>\n",
        "    <td class=\"tg-0lax\">Pass</td>\n",
        "  </tr>\n",
        "</tbody>\n",
        "</table>"
      ],
      "metadata": {
        "id": "-is4PduMhyfP"
      }
    },
    {
      "cell_type": "code",
      "execution_count": null,
      "metadata": {
        "id": "hnwKASB3hxeJ"
      },
      "outputs": [],
      "source": [
        ""
      ]
    }
  ]
}