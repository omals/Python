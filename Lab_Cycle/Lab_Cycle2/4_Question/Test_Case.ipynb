{
  "nbformat": 4,
  "nbformat_minor": 0,
  "metadata": {
    "colab": {
      "name": "Test_Case.ipynb",
      "provenance": [],
      "collapsed_sections": []
    },
    "kernelspec": {
      "name": "python3",
      "display_name": "Python 3"
    },
    "language_info": {
      "name": "python"
    }
  },
  "cells": [
    {
      "cell_type": "markdown",
      "source": [
        "\n",
        "**Test Case** \n",
        "\n",
        "\n",
        "<style type=\"text/css\">\n",
        ".tg  {border-collapse:collapse;border-spacing:0;}\n",
        ".tg td{border-style:solid;border-width:0px;font-family:Arial, sans-serif;font-size:14px;overflow:hidden;\n",
        "  padding:10px 5px;word-break:normal;}\n",
        ".tg th{border-style:solid;border-width:0px;font-family:Arial, sans-serif;font-size:14px;font-weight:normal;\n",
        "  overflow:hidden;padding:10px 5px;word-break:normal;}\n",
        ".tg .tg-baqh{text-align:center;vertical-align:top}\n",
        ".tg .tg-amwm{font-weight:bold;text-align:center;vertical-align:top}\n",
        ".tg .tg-0lax{text-align:left;vertical-align:top}\n",
        "</style>\n",
        "<table class=\"tg\" style=\"undefined;table-layout: fixed; width: 920px\">\n",
        "<colgroup>\n",
        "<col style=\"width: 110px\">\n",
        "<col style=\"width: 222px\">\n",
        "<col style=\"width: 112px\">\n",
        "<col style=\"width: 224px\">\n",
        "<col style=\"width: 203px\">\n",
        "<col style=\"width: 49px\">\n",
        "</colgroup>\n",
        "<thead>\n",
        "  <tr>\n",
        "    <th class=\"tg-amwm\">Test Cases No.</th>\n",
        "    <th class=\"tg-amwm\">Descripton</th>\n",
        "    <th class=\"tg-amwm\">Input</th>\n",
        "    <th class=\"tg-amwm\">Expected output</th>\n",
        "    <th class=\"tg-amwm\">Actual output</th>\n",
        "    <th class=\"tg-amwm\">result</th>\n",
        "  </tr>\n",
        "</thead>\n",
        "<tbody>\n",
        "  <tr>\n",
        "    <td class=\"tg-baqh\">1</td>\n",
        "    <td class=\"tg-0lax\">check the output for the number <br>of boxes created<br> </td>\n",
        "    <td class=\"tg-baqh\">4</td>\n",
        "    <td class=\"tg-0lax\">Cube<br>Square Prism<br>Rectangular Prism<br>Cube<br></td>\n",
        "    <td class=\"tg-0lax\">Cube<br>Square Prism<br>Rectangular Prism<br>Cube<br></td>\n",
        "    <td class=\"tg-0lax\">pass</td>\n",
        "  </tr>\n",
        "  <tr>\n",
        "    <td class=\"tg-baqh\">2</td>\n",
        "    <td class=\"tg-0lax\">check the random variables are <br>used for values<br></td>\n",
        "    <td class=\"tg-baqh\">dimensions<br></td>\n",
        "    <td class=\"tg-0lax\">different values in range of (1,1000)<br></td>\n",
        "    <td class=\"tg-0lax\">different values in range of (1,1000)<br></td>\n",
        "    <td class=\"tg-0lax\">pass</td>\n",
        "  </tr>\n",
        "  <tr>\n",
        "    <td class=\"tg-baqh\">3</td>\n",
        "    <td class=\"tg-0lax\">check the output of maximum volume : area ratio<br></td>\n",
        "    <td class=\"tg-0lax\">area and volume genarated<br></td>\n",
        "    <td class=\"tg-0lax\">Maximum value from the ration obtained<br></td>\n",
        "    <td class=\"tg-0lax\">Maximum value from the ration obtained</td>\n",
        "    <td class=\"tg-0lax\">pass</td>\n",
        "  </tr>\n",
        "  <tr>\n",
        "    <td class=\"tg-baqh\">4</td>\n",
        "    <td class=\"tg-0lax\">check for wrong input<br></td>\n",
        "    <td class=\"tg-baqh\">a</td>\n",
        "    <td class=\"tg-0lax\">error<br></td>\n",
        "    <td class=\"tg-0lax\">error</td>\n",
        "    <td class=\"tg-0lax\">pass</td>\n",
        "  </tr>\n",
        "</tbody>\n",
        "</table>"
      ],
      "metadata": {
        "id": "pXED9-NLFoMz"
      }
    },
    {
      "cell_type": "code",
      "execution_count": null,
      "metadata": {
        "id": "2BGIJA7_FnnR"
      },
      "outputs": [],
      "source": [
        ""
      ]
    }
  ]
}
