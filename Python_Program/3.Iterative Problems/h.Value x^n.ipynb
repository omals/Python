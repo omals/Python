{
  "nbformat": 4,
  "nbformat_minor": 0,
  "metadata": {
    "colab": {
      "name": "8.Value x^n.ipynb",
      "provenance": [],
      "collapsed_sections": []
    },
    "kernelspec": {
      "name": "python3",
      "display_name": "Python 3"
    },
    "language_info": {
      "name": "python"
    }
  },
  "cells": [
    {
      "cell_type": "markdown",
      "source": [
        "**8. Write a program to find the value of x^n.**"
      ],
      "metadata": {
        "id": "kM5D_bZXXCTx"
      }
    },
    {
      "cell_type": "code",
      "execution_count": null,
      "metadata": {
        "colab": {
          "base_uri": "https://localhost:8080/"
        },
        "id": "AlpJfoAxXAri",
        "outputId": "45642bea-21b5-49c1-db3b-8fc8f09b1f0f"
      },
      "outputs": [
        {
          "output_type": "stream",
          "name": "stdout",
          "text": [
            "Enter the value of 'x':8\n",
            "Enter the value of 'n':7\n",
            "Value= 2097152\n"
          ]
        }
      ],
      "source": [
        "x=int(input(\"Enter the value of 'x':\"))\n",
        "n=int(input(\"Enter the value of 'n':\"))\n",
        "t=x\n",
        "for i in range(1,n):\n",
        "  x=x*t\n",
        "print(\"Value=\",x)\n",
        "     "
      ]
    }
  ]
}