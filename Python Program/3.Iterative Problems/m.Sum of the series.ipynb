{
  "nbformat": 4,
  "nbformat_minor": 0,
  "metadata": {
    "colab": {
      "name": "13.Sum of the series.ipynb",
      "provenance": [],
      "collapsed_sections": []
    },
    "kernelspec": {
      "name": "python3",
      "display_name": "Python 3"
    },
    "language_info": {
      "name": "python"
    }
  },
  "cells": [
    {
      "cell_type": "markdown",
      "source": [
        "**13. Write a program to find the sum of the given series upto 'N' terms.**\n",
        "    \n",
        "    \n",
        "S=1-4+9-16+... \n",
        "\n"
      ],
      "metadata": {
        "id": "8svapKRIyrU_"
      }
    },
    {
      "cell_type": "code",
      "execution_count": null,
      "metadata": {
        "colab": {
          "base_uri": "https://localhost:8080/"
        },
        "id": "THgrKDbyyqWE",
        "outputId": "8360882f-2f9c-448d-d01a-ce36353c9cf9"
      },
      "outputs": [
        {
          "output_type": "stream",
          "name": "stdout",
          "text": [
            "Enter the number of terms:6\n",
            "Sum of the series: -21\n"
          ]
        }
      ],
      "source": [
        "n=int(input(\"Enter the number of terms:\"))\n",
        "s=0\n",
        "for i in range(1,n+1):\n",
        "  if i%2==0 :\n",
        "    sq=-(pow(i,2))\n",
        "  else:\n",
        "    sq=(pow(i,2))\n",
        "  s=s+sq\n",
        "print(\"Sum of the series:\",s)"
      ]
    }
  ]
}