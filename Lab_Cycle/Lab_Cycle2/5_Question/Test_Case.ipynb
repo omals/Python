{
  "nbformat": 4,
  "nbformat_minor": 0,
  "metadata": {
    "colab": {
      "name": "Test_Case.ipynb",
      "provenance": []
    },
    "kernelspec": {
      "name": "python3",
      "display_name": "Python 3"
    },
    "language_info": {
      "name": "python"
    }
  },
  "cells": [
    {
      "cell_type": "markdown",
      "source": [
        "<style type=\"text/css\">\n",
        ".tg  {border-collapse:collapse;border-spacing:0;}\n",
        ".tg td{border-color:black;border-style:solid;border-width:1px;font-family:Arial, sans-serif;font-size:14px;\n",
        "  overflow:hidden;padding:10px 5px;word-break:normal;}\n",
        ".tg th{border-color:black;border-style:solid;border-width:1px;font-family:Arial, sans-serif;font-size:14px;\n",
        "  font-weight:normal;overflow:hidden;padding:10px 5px;word-break:normal;}\n",
        ".tg .tg-sh4c{text-align:center;vertical-align:top}\n",
        ".tg .tg-baqh{text-align:center;vertical-align:top}\n",
        ".tg .tg-mqa1{border-color:#000000;font-weight:bold;text-align:center;vertical-align:top}\n",
        ".tg .tg-tf2e{text-align:left;vertical-align:top}\n",
        ".tg .tg-0lax{text-align:left;vertical-align:top}\n",
        "</style>\n",
        "<table class=\"tg\" style=\"undefined;table-layout: fixed; width: 845px\">\n",
        "<colgroup>\n",
        "<col style=\"width: 84px\">\n",
        "<col style=\"width: 186px\">\n",
        "<col style=\"width: 151px\">\n",
        "<col style=\"width: 181px\">\n",
        "<col style=\"width: 189px\">\n",
        "<col style=\"width: 54px\">\n",
        "</colgroup>\n",
        "<thead>\n",
        "  <tr>\n",
        "    <th class=\"tg-mqa1\">Test Cases</th>\n",
        "    <th class=\"tg-mqa1\">Description</th>\n",
        "    <th class=\"tg-mqa1\">input</th>\n",
        "    <th class=\"tg-mqa1\">Expected output</th>\n",
        "    <th class=\"tg-mqa1\">Actual output</th>\n",
        "    <th class=\"tg-mqa1\">Result</th>\n",
        "  </tr>\n",
        "</thead>\n",
        "<tbody>\n",
        "  <tr>\n",
        "    <td class=\"tg-baqh\">1</td>\n",
        "    <td class=\"tg-sh4c\">check the output for cylinder</td>\n",
        "    <td class=\"tg-baqh\">23 12</td>\n",
        "    <td class=\"tg-tf2e\">Area=5055.400000000001<br>Volume : 19932.72</td>\n",
        "    <td class=\"tg-0lax\">Area=5055.400000000001<br>Volume : 19932.72<br></td>\n",
        "    <td class=\"tg-sh4c\">pass</td>\n",
        "  </tr>\n",
        "  <tr>\n",
        "    <td class=\"tg-baqh\">2</td>\n",
        "    <td class=\"tg-sh4c\">check output for sphere<br></td>\n",
        "    <td class=\"tg-baqh\">15</td>\n",
        "    <td class=\"tg-sh4c\">Area   : 2826.0<br>    Volume : 14130.0</td>\n",
        "    <td class=\"tg-baqh\">Area   : 2826.0<br>    Volume : 14130.0</td>\n",
        "    <td class=\"tg-sh4c\">pass</td>\n",
        "  </tr>\n",
        "  <tr>\n",
        "    <td class=\"tg-baqh\">3</td>\n",
        "    <td class=\"tg-sh4c\">check wrong input<br></td>\n",
        "    <td class=\"tg-baqh\">a <br></td>\n",
        "    <td class=\"tg-sh4c\">error</td>\n",
        "    <td class=\"tg-baqh\">error</td>\n",
        "    <td class=\"tg-sh4c\">pass</td>\n",
        "  </tr>\n",
        "</tbody>\n",
        "</table>\n",
        "\n"
      ],
      "metadata": {
        "id": "ncWpbukkt-Rc"
      }
    },
    {
      "cell_type": "code",
      "execution_count": null,
      "metadata": {
        "id": "tjvlTEHet8oL"
      },
      "outputs": [],
      "source": [
        ""
      ]
    }
  ]
}