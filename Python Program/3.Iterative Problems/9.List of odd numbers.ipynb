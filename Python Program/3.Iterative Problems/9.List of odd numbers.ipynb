{
  "nbformat": 4,
  "nbformat_minor": 0,
  "metadata": {
    "colab": {
      "name": "9.List of odd numbers.ipynb",
      "provenance": [],
      "collapsed_sections": []
    },
    "kernelspec": {
      "name": "python3",
      "display_name": "Python 3"
    },
    "language_info": {
      "name": "python"
    }
  },
  "cells": [
    {
      "cell_type": "markdown",
      "source": [
        "**9. Write a program to print first 'N' odd numbers.**"
      ],
      "metadata": {
        "id": "2iVSVs53Y5YV"
      }
    },
    {
      "cell_type": "code",
      "execution_count": null,
      "metadata": {
        "colab": {
          "base_uri": "https://localhost:8080/"
        },
        "id": "OMTRSJS2Y32I",
        "outputId": "1d2ac24e-d2fe-465a-a457-6550976dbe95"
      },
      "outputs": [
        {
          "output_type": "stream",
          "name": "stdout",
          "text": [
            "Enter the number of limit:2\n",
            "1 3 "
          ]
        }
      ],
      "source": [
        "n=int(input(\"Enter the number of limit:\"))\n",
        "i=1\n",
        "o=1\n",
        "while i<=n:\n",
        "  print(o,end=\" \")\n",
        "  i=i+1\n",
        "  o=o+2\n",
        "  "
      ]
    }
  ]
}