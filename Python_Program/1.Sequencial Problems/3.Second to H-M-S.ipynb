{
  "nbformat": 4,
  "nbformat_minor": 0,
  "metadata": {
    "colab": {
      "name": " 3.Second to H:M:S.ipynb",
      "provenance": [],
      "collapsed_sections": []
    },
    "kernelspec": {
      "name": "python3",
      "display_name": "Python 3"
    },
    "language_info": {
      "name": "python"
    }
  },
  "cells": [
    {
      "cell_type": "markdown",
      "source": [
        "**3. Write a program to convert the time entered in seconds to Hours,Minutes,second.**"
      ],
      "metadata": {
        "id": "5BKQZggBKPg4"
      }
    },
    {
      "cell_type": "code",
      "execution_count": null,
      "metadata": {
        "colab": {
          "base_uri": "https://localhost:8080/"
        },
        "id": "02VvsfQ0KOhl",
        "outputId": "d247e3b4-e829-49d1-ac4c-4996bcedda65"
      },
      "outputs": [
        {
          "output_type": "stream",
          "name": "stdout",
          "text": [
            "Enter the second to convert: 3661\n",
            "Hour=  1 : Minute=  1 : Second=  1\n"
          ]
        }
      ],
      "source": [
        "time=int(input(\"Enter the second to convert: \"))\n",
        "hour=int(time/3600)\n",
        "min=int((time-(hour*3600))/60)\n",
        "sec=int(time-((hour*3600)+(min*60)))\n",
        "print(\"Hour= \",hour,\": Minute= \",min,\": Second= \",sec)"
      ]
    }
  ]
}