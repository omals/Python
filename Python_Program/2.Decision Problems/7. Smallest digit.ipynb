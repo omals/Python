{
  "nbformat": 4,
  "nbformat_minor": 0,
  "metadata": {
    "colab": {
      "name": "7.Smallest digit.ipynb",
      "provenance": [],
      "collapsed_sections": []
    },
    "kernelspec": {
      "name": "python3",
      "display_name": "Python 3"
    },
    "language_info": {
      "name": "python"
    }
  },
  "cells": [
    {
      "cell_type": "markdown",
      "source": [
        "**7. Write a program to find the smallest digit in the two digit number.**"
      ],
      "metadata": {
        "id": "Igbzy8cuqUrk"
      }
    },
    {
      "cell_type": "code",
      "execution_count": null,
      "metadata": {
        "colab": {
          "base_uri": "https://localhost:8080/"
        },
        "id": "FYR_nX0PqSmA",
        "outputId": "bf1958d6-9a5a-477e-ff14-a1b5d981be04"
      },
      "outputs": [
        {
          "output_type": "stream",
          "name": "stdout",
          "text": [
            "Enter the nunber:21\n",
            "1  is the smallest digit.\n"
          ]
        }
      ],
      "source": [
        "a=int(input(\"Enter the nunber:\"))\n",
        "b=a\n",
        "a=a//100\n",
        "if a==0:\n",
        "   c=b%10\n",
        "   d=b//10\n",
        "   if c>d:\n",
        "     print(d,\" is the smallest digit.\")\n",
        "   else:\n",
        "     print(c,\" is the smallest digit.\")\n",
        "else:\n",
        "  print(b,\" is not a two digit number.\")   "
      ]
    }
  ]
}