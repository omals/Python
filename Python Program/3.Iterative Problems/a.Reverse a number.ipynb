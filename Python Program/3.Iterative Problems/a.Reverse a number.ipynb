{
  "nbformat": 4,
  "nbformat_minor": 0,
  "metadata": {
    "colab": {
      "name": "1.Reverse a number.ipynb",
      "provenance": [],
      "collapsed_sections": []
    },
    "kernelspec": {
      "name": "python3",
      "display_name": "Python 3"
    },
    "language_info": {
      "name": "python"
    }
  },
  "cells": [
    {
      "cell_type": "markdown",
      "source": [
        "**1. Write a program to find the reverse of the given number.**"
      ],
      "metadata": {
        "id": "4JRZep6raG8C"
      }
    },
    {
      "cell_type": "code",
      "execution_count": 1,
      "metadata": {
        "id": "zFJqAx1qaFj7",
        "colab": {
          "base_uri": "https://localhost:8080/"
        },
        "outputId": "6d6ed3da-a106-4d8d-8124-8ee2dd447524"
      },
      "outputs": [
        {
          "output_type": "stream",
          "name": "stdout",
          "text": [
            "Enter the number: 390\n",
            "The reverse of  390  is:  093\n"
          ]
        }
      ],
      "source": [
        "a=int(input(\"Enter the number: \"))\n",
        "t=a\n",
        "count=0\n",
        "reverse=0\n",
        "while a!=0:\n",
        " reminder=a%10\n",
        " if reminder==0:\n",
        "   count=count+1\n",
        " a=a//10\n",
        " reverse=reverse*10+reminder\n",
        "print(\"The reverse of \",t,\" is: \",end=\" \")\n",
        "for i in range(1,count+1):\n",
        "    n=pow(10,count)\n",
        "    m=t%n\n",
        "    if m==0:\n",
        "      print(0,end=\"\")\n",
        "    i=i+1\n",
        "print(reverse)"
      ]
    }
  ]
}