{
  "nbformat": 4,
  "nbformat_minor": 0,
  "metadata": {
    "colab": {
      "name": "5.Integer Type.ipynb",
      "provenance": [],
      "collapsed_sections": []
    },
    "kernelspec": {
      "name": "python3",
      "display_name": "Python 3"
    },
    "language_info": {
      "name": "python"
    }
  },
  "cells": [
    {
      "cell_type": "markdown",
      "source": [
        "**5. Write a program to check whether the number is positive, negative or zero**"
      ],
      "metadata": {
        "id": "8Hcdgya2lIGY"
      }
    },
    {
      "cell_type": "code",
      "execution_count": null,
      "metadata": {
        "colab": {
          "base_uri": "https://localhost:8080/"
        },
        "id": "7zUzvMywk81G",
        "outputId": "01597d44-b93a-4937-beaa-8b021bf81769"
      },
      "outputs": [
        {
          "output_type": "stream",
          "name": "stdout",
          "text": [
            "Enter the number:0\n",
            "0.0  is Zero.\n"
          ]
        }
      ],
      "source": [
        "a=float(input(\"Enter the number:\"))\n",
        "if(a!=0):\n",
        "  if(a>0):\n",
        "    print(a,\" is a positive number.\")\n",
        "  else:\n",
        "    print(a,\" is a negative number.\")\n",
        "else:\n",
        "   print(a,\" is Zero.\")"
      ]
    },
    {
      "cell_type": "markdown",
      "source": [
        "**Test Cases**"
      ],
      "metadata": {
        "id": "JhDcL1OHl1_M"
      }
    },
    {
      "cell_type": "markdown",
      "source": [
        "<style type=\"text/css\">\n",
        ".tg  {border-collapse:collapse;border-spacing:0;}\n",
        ".tg td{border-color:black;border-style:solid;border-width:1px;font-family:Arial, sans-serif;font-size:14px;\n",
        "  overflow:hidden;padding:10px 5px;word-break:normal;}\n",
        ".tg th{border-color:black;border-style:solid;border-width:1px;font-family:Arial, sans-serif;font-size:14px;\n",
        "  font-weight:normal;overflow:hidden;padding:10px 5px;word-break:normal;}\n",
        ".tg .tg-baqh{text-align:center;vertical-align:top}\n",
        ".tg .tg-c3ow{border-color:inherit;text-align:center;vertical-align:top}\n",
        ".tg .tg-0pky{border-color:inherit;text-align:left;vertical-align:top}\n",
        ".tg .tg-76qt{border-color:inherit;font-size:13px;text-align:center;vertical-align:top}\n",
        ".tg .tg-0lax{text-align:left;vertical-align:top}\n",
        ".tg .tg-z1yq{font-size:13px;text-align:center;vertical-align:top}\n",
        ".tg .tg-vask{font-size:13px;text-align:left;vertical-align:top}\n",
        "</style>\n",
        "<table class=\"tg\" style=\"undefined;table-layout: fixed; width: 830px\">\n",
        "<colgroup>\n",
        "<col style=\"width: 131px\">\n",
        "<col style=\"width: 188px\">\n",
        "<col style=\"width: 44px\">\n",
        "<col style=\"width: 211px\">\n",
        "<col style=\"width: 204px\">\n",
        "<col style=\"width: 52px\">\n",
        "</colgroup>\n",
        "<thead>\n",
        "  <tr>\n",
        "    <th class=\"tg-c3ow\">Test Case number</th>\n",
        "    <th class=\"tg-0pky\">Description</th>\n",
        "    <th class=\"tg-c3ow\">Input</th>\n",
        "    <th class=\"tg-c3ow\">Expected Output</th>\n",
        "    <th class=\"tg-c3ow\">Actual Output</th>\n",
        "    <th class=\"tg-c3ow\">Result</th>\n",
        "  </tr>\n",
        "</thead>\n",
        "<tbody>\n",
        "  <tr>\n",
        "    <td class=\"tg-c3ow\">1</td>\n",
        "    <td class=\"tg-0pky\">Check the output<br></td>\n",
        "    <td class=\"tg-c3ow\"> 12</td>\n",
        "    <td class=\"tg-76qt\">12.0 is a positive number</td>\n",
        "    <td class=\"tg-76qt\">12.0 is a positive number</td>\n",
        "    <td class=\"tg-c3ow\">&nbsp;&nbsp;Pass</td>\n",
        "  </tr>\n",
        "  <tr>\n",
        "    <td class=\"tg-baqh\">2</td>\n",
        "    <td class=\"tg-0lax\">Check the output</td>\n",
        "    <td class=\"tg-0lax\">-6</td>\n",
        "    <td class=\"tg-z1yq\">-6.0 is a negative number</td>\n",
        "    <td class=\"tg-vask\">-6.0 is a negative number</td>\n",
        "    <td class=\"tg-0lax\">&nbsp;&nbsp;Pass</td>\n",
        "  </tr>\n",
        "  <tr>\n",
        "    <td class=\"tg-baqh\">3</td>\n",
        "    <td class=\"tg-0lax\">Check the output</td>\n",
        "    <td class=\"tg-0lax\">   0</td>\n",
        "    <td class=\"tg-baqh\">0.0 is Zero</td>\n",
        "    <td class=\"tg-0lax\">0.0 is Zero</td>\n",
        "    <td class=\"tg-0lax\">&nbsp;&nbsp;Pass</td>\n",
        "  </tr>\n",
        "  <tr>\n",
        "    <td class=\"tg-c3ow\">4</td>\n",
        "    <td class=\"tg-0pky\">Check for wrong input    </td>\n",
        "    <td class=\"tg-c3ow\">a</td>\n",
        "    <td class=\"tg-c3ow\">&nbsp;&nbsp;&nbsp;error</td>\n",
        "    <td class=\"tg-c3ow\">&nbsp;&nbsp;&nbsp;error</td>\n",
        "    <td class=\"tg-c3ow\">&nbsp;&nbsp;Pass</td>\n",
        "  </tr>\n",
        "</tbody>\n",
        "</table>"
      ],
      "metadata": {
        "id": "Poiy6jI0mBf8"
      }
    }
  ]
}