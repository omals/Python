{
  "nbformat": 4,
  "nbformat_minor": 0,
  "metadata": {
    "colab": {
      "name": "Test_Case.ipynb",
      "provenance": [],
      "collapsed_sections": []
    },
    "kernelspec": {
      "name": "python3",
      "display_name": "Python 3"
    },
    "language_info": {
      "name": "python"
    }
  },
  "cells": [
    {
      "cell_type": "markdown",
      "source": [
        "**Test Cases**\n",
        "\n",
        "<style type=\"text/css\">\n",
        ".tg  {border-collapse:collapse;border-spacing:0;}\n",
        ".tg td{border-color:black;border-style:solid;border-width:1px;font-family:Arial, sans-serif;font-size:14px;\n",
        "  overflow:hidden;padding:10px 5px;word-break:normal;}\n",
        ".tg th{border-color:black;border-style:solid;border-width:1px;font-family:Arial, sans-serif;font-size:14px;\n",
        "  font-weight:normal;overflow:hidden;padding:10px 5px;word-break:normal;}\n",
        ".tg .tg-0pky{border-color:inherit;text-align:left;vertical-align:top}\n",
        ".tg .tg-0lax{text-align:left;vertical-align:top}\n",
        "</style>\n",
        "<table class=\"tg\">\n",
        "<thead>\n",
        "  <tr>\n",
        "    <th class=\"tg-0pky\">Test Cases</th>\n",
        "    <th class=\"tg-0pky\">Description</th>\n",
        "    <th class=\"tg-0pky\">Input</th>\n",
        "    <th class=\"tg-0lax\">Expected output</th>\n",
        "    <th class=\"tg-0lax\">Actual Output</th>\n",
        "    <th class=\"tg-0lax\">Result<br></th>\n",
        "  </tr>\n",
        "</thead>\n",
        "<tbody>\n",
        "  <tr>\n",
        "    <td class=\"tg-0pky\">1</td>\n",
        "    <td class=\"tg-0pky\">Check for the input file<br>vehicledata.pkl<br></td>\n",
        "    <td class=\"tg-0pky\">vehicledata.pkl</td>\n",
        "    <td class=\"tg-0lax\">Succesful intake of the file</td>\n",
        "    <td class=\"tg-0lax\">Succesful intake of the file</td>\n",
        "    <td class=\"tg-0lax\">Pass</td>\n",
        "  </tr>\n",
        "  <tr>\n",
        "    <td class=\"tg-0pky\">2</td>\n",
        "    <td class=\"tg-0pky\">Check for Load,add,save,report etc <br>of the input file as per the requirement <br>of the user<br></td>\n",
        "    <td class=\"tg-0pky\">vehicledta.pkl<br></td>\n",
        "    <td class=\"tg-0lax\">Reponding to the input key</td>\n",
        "    <td class=\"tg-0lax\">Reponding to the input key</td>\n",
        "    <td class=\"tg-0lax\">pass</td>\n",
        "  </tr>\n",
        "  <tr>\n",
        "    <td class=\"tg-0lax\">3</td>\n",
        "    <td class=\"tg-0lax\">Check for exit from the program<br></td>\n",
        "    <td class=\"tg-0lax\">Choice in the menu</td>\n",
        "    <td class=\"tg-0lax\">Program execution ends<br></td>\n",
        "    <td class=\"tg-0lax\">Program execution ends</td>\n",
        "    <td class=\"tg-0lax\">Pass</td>\n",
        "  </tr>\n",
        "</tbody>\n",
        "</table>"
      ],
      "metadata": {
        "id": "-is4PduMhyfP"
      }
    },
    {
      "cell_type": "code",
      "execution_count": null,
      "metadata": {
        "id": "hnwKASB3hxeJ"
      },
      "outputs": [],
      "source": [
        ""
      ]
    }
  ]
}