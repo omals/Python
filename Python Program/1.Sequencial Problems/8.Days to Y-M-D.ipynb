{
  "nbformat": 4,
  "nbformat_minor": 0,
  "metadata": {
    "colab": {
      "name": "8.Days to Y:M:D .ipynb",
      "provenance": [],
      "collapsed_sections": []
    },
    "kernelspec": {
      "name": "python3",
      "display_name": "Python 3"
    },
    "language_info": {
      "name": "python"
    }
  },
  "cells": [
    {
      "cell_type": "markdown",
      "source": [
        "**8.Write a program to enter the number of days and display into years,months and days.** "
      ],
      "metadata": {
        "id": "nm1GJUViBjUF"
      }
    },
    {
      "cell_type": "code",
      "execution_count": 1,
      "metadata": {
        "id": "8n54SUQSBWWZ",
        "colab": {
          "base_uri": "https://localhost:8080/"
        },
        "outputId": "184f62fa-a42d-4a01-dc6a-5410a632f1dd"
      },
      "outputs": [
        {
          "output_type": "stream",
          "name": "stdout",
          "text": [
            "Enter the number of Days: 378\n",
            "Years=  1 : Months=  1 : Days=  1\n"
          ]
        }
      ],
      "source": [
        "days=int(input(\"Enter the number of Days: \"))\n",
        "year=int(days/365)\n",
        "month=int((days-year*365)/12)\n",
        "day=int((days-((year*365)+(month*12))))\n",
        "print(\"Years= \",year,\": Months= \",month,\": Days= \",day)"
      ]
    },
    {
      "cell_type": "markdown",
      "source": [
        "**Test Cases**"
      ],
      "metadata": {
        "id": "imdSCxheCAVO"
      }
    },
    {
      "cell_type": "markdown",
      "source": [
        "<style type=\"text/css\">\n",
        ".tg  {border-collapse:collapse;border-spacing:0;}\n",
        ".tg td{border-color:black;border-style:solid;border-width:1px;font-family:Arial, sans-serif;font-size:14px;\n",
        "  overflow:hidden;padding:10px 5px;word-break:normal;}\n",
        ".tg th{border-color:black;border-style:solid;border-width:1px;font-family:Arial, sans-serif;font-size:14px;\n",
        "  font-weight:normal;overflow:hidden;padding:10px 5px;word-break:normal;}\n",
        ".tg .tg-baqh{text-align:center;vertical-align:top}\n",
        ".tg .tg-0lax{text-align:left;vertical-align:top}\n",
        ".tg .tg-rg0h{font-size:12px;text-align:center;vertical-align:top}\n",
        "</style>\n",
        "<table class=\"tg\" style=\"undefined;table-layout: fixed; width: 775px\">\n",
        "<colgroup>\n",
        "<col style=\"width: 125px\">\n",
        "<col style=\"width: 180px\">\n",
        "<col style=\"width: 42px\">\n",
        "<col style=\"width: 202px\">\n",
        "<col style=\"width: 176px\">\n",
        "<col style=\"width: 50px\">\n",
        "</colgroup>\n",
        "<thead>\n",
        "  <tr>\n",
        "    <th class=\"tg-baqh\">Test Case number</th>\n",
        "    <th class=\"tg-0lax\">Description</th>\n",
        "    <th class=\"tg-0lax\">Input</th>\n",
        "    <th class=\"tg-baqh\">Expected Output</th>\n",
        "    <th class=\"tg-baqh\">Actual Output</th>\n",
        "    <th class=\"tg-0lax\">Result</th>\n",
        "  </tr>\n",
        "</thead>\n",
        "<tbody>\n",
        "  <tr>\n",
        "    <td class=\"tg-baqh\">1</td>\n",
        "    <td class=\"tg-0lax\">Check the output to display<br> the corresponding Years, <br>&nbsp;&nbsp;Months and Days</td>\n",
        "    <td class=\"tg-0lax\">378</td>\n",
        "    <td class=\"tg-rg0h\">  Years= 1:Months=  1:Years=   1</td>\n",
        "    <td class=\"tg-rg0h\">  Years= 1:Months= 1:Days=  1</td>\n",
        "    <td class=\"tg-0lax\">&nbsp;&nbsp;Pass</td>\n",
        "  </tr>\n",
        "  <tr>\n",
        "    <td class=\"tg-baqh\">2</td>\n",
        "    <td class=\"tg-0lax\">Check for wrong input    </td>\n",
        "    <td class=\"tg-baqh\">    a</td>\n",
        "    <td class=\"tg-baqh\">&nbsp;&nbsp;&nbsp;error</td>\n",
        "    <td class=\"tg-baqh\">&nbsp;&nbsp;&nbsp;error</td>\n",
        "    <td class=\"tg-0lax\">&nbsp;&nbsp;Pass</td>\n",
        "  </tr>\n",
        "</tbody>\n",
        "</table>"
      ],
      "metadata": {
        "id": "nzNkpu6hCCrX"
      }
    }
  ]
}