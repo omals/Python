{
  "nbformat": 4,
  "nbformat_minor": 0,
  "metadata": {
    "colab": {
      "name": "4.Arithmetic Sequence.ipynb",
      "provenance": [],
      "collapsed_sections": []
    },
    "kernelspec": {
      "name": "python3",
      "display_name": "Python 3"
    },
    "language_info": {
      "name": "python"
    }
  },
  "cells": [
    {
      "cell_type": "markdown",
      "source": [
        "**4.Write a program to print the N terms of an arithmetic sequence.**"
      ],
      "metadata": {
        "id": "nvQxowC1Krum"
      }
    },
    {
      "cell_type": "code",
      "execution_count": null,
      "metadata": {
        "colab": {
          "base_uri": "https://localhost:8080/"
        },
        "id": "LnfyB8OHKp8_",
        "outputId": "304a3a1d-15bc-44c7-8cf2-e0049730e28b"
      },
      "outputs": [
        {
          "output_type": "stream",
          "name": "stdout",
          "text": [
            "Enter the first element:10\n",
            "Enter the common difference:3\n",
            "Enter the number of terms:5\n",
            "Arithmetic Sequence is:  10 13 16 19 22 "
          ]
        }
      ],
      "source": [
        "a=int(input(\"Enter the first element:\"))\n",
        "d=int(input(\"Enter the common difference:\"))\n",
        "n=int(input(\"Enter the number of terms:\"))\n",
        "print(\"Arithmetic Sequence is: \",a,end=\" \")\n",
        "for i in range(2,n+1):\n",
        "  a=a+d\n",
        "  print(a,end=\" \")\n"
      ]
    }
  ]
}