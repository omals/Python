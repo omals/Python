{
  "nbformat": 4,
  "nbformat_minor": 0,
  "metadata": {
    "colab": {
      "name": " 4.Area and Perimeter of Triangle.ipynb",
      "provenance": [],
      "collapsed_sections": []
    },
    "kernelspec": {
      "name": "python3",
      "display_name": "Python 3"
    },
    "language_info": {
      "name": "python"
    }
  },
  "cells": [
    {
      "cell_type": "markdown",
      "source": [
        "**4. Write a program to print the area and perimeter of a tirangle.**"
      ],
      "metadata": {
        "id": "QiEhKf8DICcU"
      }
    },
    {
      "cell_type": "code",
      "execution_count": 1,
      "metadata": {
        "id": "El-_qavEIBm8",
        "colab": {
          "base_uri": "https://localhost:8080/"
        },
        "outputId": "70aa633f-e78a-4c96-b9ce-c864b7da58c0"
      },
      "outputs": [
        {
          "output_type": "stream",
          "name": "stdout",
          "text": [
            "Enter the side1: 8\n",
            "Enter the side2: 3\n",
            "Enter the side3: 9\n",
            "Perimeter= 20 Area= 11.832159566199232\n"
          ]
        }
      ],
      "source": [
        "a=int(input(\"Enter the side1: \"))\n",
        "b=int(input(\"Enter the side2: \"))\n",
        "c=int(input(\"Enter the side3: \"))\n",
        "p=a+b+c\n",
        "s= p//2\n",
        "area=(s*(s-a)*(s-b)*(s-c))**0.5\n",
        "print(\"Perimeter=\",p,\"Area=\",area)"
      ]
    }
  ]
}