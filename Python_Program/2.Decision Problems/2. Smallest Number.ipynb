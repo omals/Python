{
  "nbformat": 4,
  "nbformat_minor": 0,
  "metadata": {
    "colab": {
      "name": "2.Smallest Number.ipynb",
      "provenance": [],
      "collapsed_sections": []
    },
    "kernelspec": {
      "name": "python3",
      "display_name": "Python 3"
    },
    "language_info": {
      "name": "python"
    }
  },
  "cells": [
    {
      "cell_type": "markdown",
      "source": [
        "**2.Write a program to find the smallest of the three numbers.**"
      ],
      "metadata": {
        "id": "yrhrHQ9uWbbi"
      }
    },
    {
      "cell_type": "code",
      "execution_count": null,
      "metadata": {
        "colab": {
          "base_uri": "https://localhost:8080/"
        },
        "id": "UXTNMnR9WVz3",
        "outputId": "ee932f6a-adc0-417d-8d01-75b30cf35607"
      },
      "outputs": [
        {
          "output_type": "stream",
          "name": "stdout",
          "text": [
            "Enter the first number:0\n",
            "Enter the Second number:-2\n",
            "Enter the third number:-1\n",
            "Smallest number is: -2.0\n"
          ]
        }
      ],
      "source": [
        "a=float(input(\"Enter the first number:\"))\n",
        "b=float(input(\"Enter the Second number:\"))\n",
        "c=float(input(\"Enter the third number:\"))\n",
        "if a<b:\n",
        "  if a<c:\n",
        "    print(\"Smallest number is:\",a)\n",
        "  else:\n",
        "    print(\"Smallest number is:\",c)\n",
        "elif (a==b) and (b==c):\n",
        "    print(\"All three numbers are the same \",a)\n",
        "else :\n",
        "  if c<b:\n",
        "    print(\"Smallest number is:\",c)\n",
        "  else:\n",
        "     print(\"Smallest number is:\",b)"
      ]
    }
  ]
}