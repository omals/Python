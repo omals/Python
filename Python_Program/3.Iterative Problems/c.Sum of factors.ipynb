{
  "nbformat": 4,
  "nbformat_minor": 0,
  "metadata": {
    "colab": {
      "name": "3.Sum of factors.ipynb",
      "provenance": [],
      "collapsed_sections": []
    },
    "kernelspec": {
      "name": "python3",
      "display_name": "Python 3"
    },
    "language_info": {
      "name": "python"
    }
  },
  "cells": [
    {
      "cell_type": "markdown",
      "source": [
        "**3. Write a program to find the sum of the factors of a number.**"
      ],
      "metadata": {
        "id": "oEB-cfCpIGke"
      }
    },
    {
      "cell_type": "code",
      "execution_count": null,
      "metadata": {
        "colab": {
          "base_uri": "https://localhost:8080/"
        },
        "id": "ld9J79-tH_Wv",
        "outputId": "b0385c93-bc23-47e0-f185-e1466ce593c3"
      },
      "outputs": [
        {
          "output_type": "stream",
          "name": "stdout",
          "text": [
            "Enter the number:45\n",
            "Sum of Factors of  45  is  78\n"
          ]
        }
      ],
      "source": [
        "n=int(input(\"Enter the number:\"))\n",
        "sum=0\n",
        "for i in range(1,n+1):\n",
        "  if n%i==0:\n",
        "    sum=sum+i\n",
        "print(\"Sum of Factors of \",n,\" is \",sum)\n"
      ]
    }
  ]
}