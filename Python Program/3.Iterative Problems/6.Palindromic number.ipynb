{
  "nbformat": 4,
  "nbformat_minor": 0,
  "metadata": {
    "colab": {
      "name": "6.Palindromic number.ipynb",
      "provenance": [],
      "collapsed_sections": []
    },
    "kernelspec": {
      "name": "python3",
      "display_name": "Python 3"
    },
    "language_info": {
      "name": "python"
    }
  },
  "cells": [
    {
      "cell_type": "markdown",
      "source": [
        "**6. Write a program to check whether number is Palindrome or not.**"
      ],
      "metadata": {
        "id": "lmm8Q5JNO3eU"
      }
    },
    {
      "cell_type": "code",
      "execution_count": null,
      "metadata": {
        "colab": {
          "base_uri": "https://localhost:8080/"
        },
        "id": "iSw_XzhNOOdH",
        "outputId": "f63d5fcf-0e27-4b32-fac3-48d859b3cd09"
      },
      "outputs": [
        {
          "output_type": "stream",
          "name": "stdout",
          "text": [
            "Enter the number: 564\n",
            "564  is not a palindromic number.\n",
            "The reverse of  564  is:  465\n"
          ]
        }
      ],
      "source": [
        "a=int(input(\"Enter the number: \"))\n",
        "t=a\n",
        "count=0\n",
        "reverse=0\n",
        "while a!=0:\n",
        " reminder=a%10\n",
        " if reminder==0:\n",
        "   count=count+1\n",
        " a=a//10\n",
        " reverse=reverse*10+reminder\n",
        "if reverse==t:\n",
        "  print(t,\" is a Palindromic number. \")\n",
        "else:\n",
        "  print(t,\" is not a palindromic number.\") \n",
        "print(\"The reverse of \",t,\" is: \",end=\" \")\n",
        "for i in range(1,count+1):\n",
        "    n=pow(10,count)\n",
        "    m=t%n\n",
        "    if m==0:\n",
        "      print(0,end=\"\")\n",
        "    i=i+1\n",
        "print(reverse)"
      ]
    }
  ]
}