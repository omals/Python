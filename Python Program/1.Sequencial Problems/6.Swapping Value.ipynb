{
  "nbformat": 4,
  "nbformat_minor": 0,
  "metadata": {
    "colab": {
      "name": " 6.Swapping Value.ipynb",
      "provenance": [],
      "collapsed_sections": []
    },
    "kernelspec": {
      "name": "python3",
      "display_name": "Python 3"
    },
    "language_info": {
      "name": "python"
    }
  },
  "cells": [
    {
      "cell_type": "markdown",
      "source": [
        "**6. Write a program to enter two unequal number and interchange them without using a third variable.**"
      ],
      "metadata": {
        "id": "B84i0C7TFqdJ"
      }
    },
    {
      "cell_type": "code",
      "execution_count": 3,
      "metadata": {
        "id": "KBkvSc3ZFnGc",
        "colab": {
          "base_uri": "https://localhost:8080/"
        },
        "outputId": "9c3b1ce9-75c8-4250-bb3d-79c6601de660"
      },
      "outputs": [
        {
          "output_type": "stream",
          "name": "stdout",
          "text": [
            "Enter first number: 3\n",
            "Enter second number: 4\n",
            "first= 4 Second= 3\n"
          ]
        }
      ],
      "source": [
        "a=int(input(\"Enter first number: \"))\n",
        "b=int(input(\"Enter second number: \"))\n",
        "a=a+b\n",
        "b=a-b\n",
        "a=a-b\n",
        "print(\"first=\",a,\"Second=\",b)"
      ]
    },
    {
      "cell_type": "markdown",
      "source": [
        "**Test Cases**"
      ],
      "metadata": {
        "id": "0dD3q-naFzxi"
      }
    },
    {
      "cell_type": "markdown",
      "source": [
        "<style type=\"text/css\">\n",
        ".tg  {border-collapse:collapse;border-spacing:0;}\n",
        ".tg td{border-color:black;border-style:solid;border-width:1px;font-family:Arial, sans-serif;font-size:14px;\n",
        "  overflow:hidden;padding:10px 5px;word-break:normal;}\n",
        ".tg th{border-color:black;border-style:solid;border-width:1px;font-family:Arial, sans-serif;font-size:14px;\n",
        "  font-weight:normal;overflow:hidden;padding:10px 5px;word-break:normal;}\n",
        ".tg .tg-baqh{text-align:center;vertical-align:top}\n",
        ".tg .tg-0lax{text-align:left;vertical-align:top}\n",
        "</style>\n",
        "<table class=\"tg\">\n",
        "<thead>\n",
        "  <tr>\n",
        "    <th class=\"tg-baqh\">Test Case number</th>\n",
        "    <th class=\"tg-0lax\">Description</th>\n",
        "    <th class=\"tg-0lax\">Input</th>\n",
        "    <th class=\"tg-baqh\">Expected Output</th>\n",
        "    <th class=\"tg-baqh\">Actual Output</th>\n",
        "    <th class=\"tg-0lax\">Result</th>\n",
        "  </tr>\n",
        "</thead>\n",
        "<tbody>\n",
        "  <tr>\n",
        "    <td class=\"tg-baqh\">1</td>\n",
        "    <td class=\"tg-0lax\">Check whether Swap the<br>&nbsp;&nbsp;Value</td>\n",
        "    <td class=\"tg-0lax\">&nbsp;&nbsp;&nbsp;3<br>&nbsp;&nbsp;&nbsp;4</td>\n",
        "    <td class=\"tg-baqh\">&nbsp;&nbsp;&nbsp;first=&nbsp;4&nbsp;&nbsp;&nbsp;second=&nbsp;3</td>\n",
        "    <td class=\"tg-baqh\">&nbsp;&nbsp;first=&nbsp;4&nbsp;&nbsp;Second=&nbsp;3</td>\n",
        "    <td class=\"tg-0lax\">&nbsp;&nbsp;Pass</td>\n",
        "  </tr>\n",
        "  <tr>\n",
        "    <td class=\"tg-baqh\">2</td>\n",
        "    <td class=\"tg-0lax\">Check for wrong input</td>\n",
        "    <td class=\"tg-0lax\">&nbsp;&nbsp;&nbsp;a<br>&nbsp;&nbsp;&nbsp;b</td>\n",
        "    <td class=\"tg-baqh\">&nbsp;&nbsp;&nbsp;error</td>\n",
        "    <td class=\"tg-baqh\">&nbsp;&nbsp;error</td>\n",
        "    <td class=\"tg-0lax\">&nbsp;&nbsp;Pass</td>\n",
        "  </tr>\n",
        "</tbody>\n",
        "</table>"
      ],
      "metadata": {
        "id": "b_V_gEpZF3fr"
      }
    }
  ]
}